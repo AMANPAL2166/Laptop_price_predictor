{
 "cells": [
  {
   "cell_type": "code",
   "execution_count": 18,
   "id": "eb19ee33-8a44-4d27-b9b6-b2e3a26134bf",
   "metadata": {},
   "outputs": [],
   "source": [
    "import numpy as np \n",
    "import pandas as pd\n",
    "import seaborn as sns\n",
    "import matplotlib.pyplot as plt"
   ]
  },
  {
   "cell_type": "code",
   "execution_count": 19,
   "id": "a8ddcf55-174f-474e-86ae-d81ba5ba7120",
   "metadata": {},
   "outputs": [],
   "source": [
    "df = pd.read_csv('Laptop_data.csv')"
   ]
  },
  {
   "cell_type": "code",
   "execution_count": 20,
   "id": "253f1dba-8283-453e-90ca-35c0bfee12f5",
   "metadata": {},
   "outputs": [
    {
     "data": {
      "text/html": [
       "<div>\n",
       "<style scoped>\n",
       "    .dataframe tbody tr th:only-of-type {\n",
       "        vertical-align: middle;\n",
       "    }\n",
       "\n",
       "    .dataframe tbody tr th {\n",
       "        vertical-align: top;\n",
       "    }\n",
       "\n",
       "    .dataframe thead th {\n",
       "        text-align: right;\n",
       "    }\n",
       "</style>\n",
       "<table border=\"1\" class=\"dataframe\">\n",
       "  <thead>\n",
       "    <tr style=\"text-align: right;\">\n",
       "      <th></th>\n",
       "      <th>Unnamed: 0</th>\n",
       "      <th>Company</th>\n",
       "      <th>TypeName</th>\n",
       "      <th>Inches</th>\n",
       "      <th>ScreenResolution</th>\n",
       "      <th>Cpu</th>\n",
       "      <th>Ram</th>\n",
       "      <th>Memory</th>\n",
       "      <th>Gpu</th>\n",
       "      <th>OpSys</th>\n",
       "      <th>Weight</th>\n",
       "      <th>Price</th>\n",
       "    </tr>\n",
       "  </thead>\n",
       "  <tbody>\n",
       "    <tr>\n",
       "      <th>0</th>\n",
       "      <td>0</td>\n",
       "      <td>Apple</td>\n",
       "      <td>Ultrabook</td>\n",
       "      <td>13.3</td>\n",
       "      <td>IPS Panel Retina Display 2560x1600</td>\n",
       "      <td>Intel Core i5 2.3GHz</td>\n",
       "      <td>8GB</td>\n",
       "      <td>128GB SSD</td>\n",
       "      <td>Intel Iris Plus Graphics 640</td>\n",
       "      <td>macOS</td>\n",
       "      <td>1.37kg</td>\n",
       "      <td>71378.6832</td>\n",
       "    </tr>\n",
       "    <tr>\n",
       "      <th>1</th>\n",
       "      <td>1</td>\n",
       "      <td>Apple</td>\n",
       "      <td>Ultrabook</td>\n",
       "      <td>13.3</td>\n",
       "      <td>1440x900</td>\n",
       "      <td>Intel Core i5 1.8GHz</td>\n",
       "      <td>8GB</td>\n",
       "      <td>128GB Flash Storage</td>\n",
       "      <td>Intel HD Graphics 6000</td>\n",
       "      <td>macOS</td>\n",
       "      <td>1.34kg</td>\n",
       "      <td>47895.5232</td>\n",
       "    </tr>\n",
       "    <tr>\n",
       "      <th>2</th>\n",
       "      <td>2</td>\n",
       "      <td>HP</td>\n",
       "      <td>Notebook</td>\n",
       "      <td>15.6</td>\n",
       "      <td>Full HD 1920x1080</td>\n",
       "      <td>Intel Core i5 7200U 2.5GHz</td>\n",
       "      <td>8GB</td>\n",
       "      <td>256GB SSD</td>\n",
       "      <td>Intel HD Graphics 620</td>\n",
       "      <td>No OS</td>\n",
       "      <td>1.86kg</td>\n",
       "      <td>30636.0000</td>\n",
       "    </tr>\n",
       "    <tr>\n",
       "      <th>3</th>\n",
       "      <td>3</td>\n",
       "      <td>Apple</td>\n",
       "      <td>Ultrabook</td>\n",
       "      <td>15.4</td>\n",
       "      <td>IPS Panel Retina Display 2880x1800</td>\n",
       "      <td>Intel Core i7 2.7GHz</td>\n",
       "      <td>16GB</td>\n",
       "      <td>512GB SSD</td>\n",
       "      <td>AMD Radeon Pro 455</td>\n",
       "      <td>macOS</td>\n",
       "      <td>1.83kg</td>\n",
       "      <td>135195.3360</td>\n",
       "    </tr>\n",
       "    <tr>\n",
       "      <th>4</th>\n",
       "      <td>4</td>\n",
       "      <td>Apple</td>\n",
       "      <td>Ultrabook</td>\n",
       "      <td>13.3</td>\n",
       "      <td>IPS Panel Retina Display 2560x1600</td>\n",
       "      <td>Intel Core i5 3.1GHz</td>\n",
       "      <td>8GB</td>\n",
       "      <td>256GB SSD</td>\n",
       "      <td>Intel Iris Plus Graphics 650</td>\n",
       "      <td>macOS</td>\n",
       "      <td>1.37kg</td>\n",
       "      <td>96095.8080</td>\n",
       "    </tr>\n",
       "  </tbody>\n",
       "</table>\n",
       "</div>"
      ],
      "text/plain": [
       "   Unnamed: 0 Company   TypeName  Inches                    ScreenResolution  \\\n",
       "0           0   Apple  Ultrabook    13.3  IPS Panel Retina Display 2560x1600   \n",
       "1           1   Apple  Ultrabook    13.3                            1440x900   \n",
       "2           2      HP   Notebook    15.6                   Full HD 1920x1080   \n",
       "3           3   Apple  Ultrabook    15.4  IPS Panel Retina Display 2880x1800   \n",
       "4           4   Apple  Ultrabook    13.3  IPS Panel Retina Display 2560x1600   \n",
       "\n",
       "                          Cpu   Ram               Memory  \\\n",
       "0        Intel Core i5 2.3GHz   8GB            128GB SSD   \n",
       "1        Intel Core i5 1.8GHz   8GB  128GB Flash Storage   \n",
       "2  Intel Core i5 7200U 2.5GHz   8GB            256GB SSD   \n",
       "3        Intel Core i7 2.7GHz  16GB            512GB SSD   \n",
       "4        Intel Core i5 3.1GHz   8GB            256GB SSD   \n",
       "\n",
       "                            Gpu  OpSys  Weight        Price  \n",
       "0  Intel Iris Plus Graphics 640  macOS  1.37kg   71378.6832  \n",
       "1        Intel HD Graphics 6000  macOS  1.34kg   47895.5232  \n",
       "2         Intel HD Graphics 620  No OS  1.86kg   30636.0000  \n",
       "3            AMD Radeon Pro 455  macOS  1.83kg  135195.3360  \n",
       "4  Intel Iris Plus Graphics 650  macOS  1.37kg   96095.8080  "
      ]
     },
     "execution_count": 20,
     "metadata": {},
     "output_type": "execute_result"
    }
   ],
   "source": [
    "df.head()"
   ]
  },
  {
   "cell_type": "code",
   "execution_count": 21,
   "id": "bd905632-21df-4479-b176-6a140622b315",
   "metadata": {},
   "outputs": [
    {
     "data": {
      "text/plain": [
       "(1303, 12)"
      ]
     },
     "execution_count": 21,
     "metadata": {},
     "output_type": "execute_result"
    }
   ],
   "source": [
    "df.shape "
   ]
  },
  {
   "cell_type": "code",
   "execution_count": 22,
   "id": "823baa73-b011-4bc4-8960-75cc32ae98ec",
   "metadata": {},
   "outputs": [
    {
     "name": "stdout",
     "output_type": "stream",
     "text": [
      "<class 'pandas.core.frame.DataFrame'>\n",
      "RangeIndex: 1303 entries, 0 to 1302\n",
      "Data columns (total 12 columns):\n",
      " #   Column            Non-Null Count  Dtype  \n",
      "---  ------            --------------  -----  \n",
      " 0   Unnamed: 0        1303 non-null   int64  \n",
      " 1   Company           1303 non-null   object \n",
      " 2   TypeName          1303 non-null   object \n",
      " 3   Inches            1303 non-null   float64\n",
      " 4   ScreenResolution  1303 non-null   object \n",
      " 5   Cpu               1303 non-null   object \n",
      " 6   Ram               1303 non-null   object \n",
      " 7   Memory            1303 non-null   object \n",
      " 8   Gpu               1303 non-null   object \n",
      " 9   OpSys             1303 non-null   object \n",
      " 10  Weight            1303 non-null   object \n",
      " 11  Price             1303 non-null   float64\n",
      "dtypes: float64(2), int64(1), object(9)\n",
      "memory usage: 122.3+ KB\n"
     ]
    }
   ],
   "source": [
    "df.info()"
   ]
  },
  {
   "cell_type": "code",
   "execution_count": 23,
   "id": "f8221d7a-6289-458a-b691-7a09b236598e",
   "metadata": {},
   "outputs": [
    {
     "data": {
      "text/plain": [
       "0"
      ]
     },
     "execution_count": 23,
     "metadata": {},
     "output_type": "execute_result"
    }
   ],
   "source": [
    "df.duplicated().sum()"
   ]
  },
  {
   "cell_type": "code",
   "execution_count": 24,
   "id": "615654d5-3c99-4e38-90c1-ae2f32d87c13",
   "metadata": {},
   "outputs": [
    {
     "data": {
      "text/plain": [
       "Unnamed: 0          0\n",
       "Company             0\n",
       "TypeName            0\n",
       "Inches              0\n",
       "ScreenResolution    0\n",
       "Cpu                 0\n",
       "Ram                 0\n",
       "Memory              0\n",
       "Gpu                 0\n",
       "OpSys               0\n",
       "Weight              0\n",
       "Price               0\n",
       "dtype: int64"
      ]
     },
     "execution_count": 24,
     "metadata": {},
     "output_type": "execute_result"
    }
   ],
   "source": [
    "df.isnull().sum()"
   ]
  },
  {
   "cell_type": "code",
   "execution_count": 25,
   "id": "9158ea2f-14a3-48b4-b2f6-6a6d96fccaad",
   "metadata": {},
   "outputs": [],
   "source": [
    "df.drop(columns=['Unnamed: 0'], inplace=True)"
   ]
  },
  {
   "cell_type": "code",
   "execution_count": 26,
   "id": "37a7a4da-d989-4049-857a-053933fe11bb",
   "metadata": {},
   "outputs": [
    {
     "data": {
      "text/html": [
       "<div>\n",
       "<style scoped>\n",
       "    .dataframe tbody tr th:only-of-type {\n",
       "        vertical-align: middle;\n",
       "    }\n",
       "\n",
       "    .dataframe tbody tr th {\n",
       "        vertical-align: top;\n",
       "    }\n",
       "\n",
       "    .dataframe thead th {\n",
       "        text-align: right;\n",
       "    }\n",
       "</style>\n",
       "<table border=\"1\" class=\"dataframe\">\n",
       "  <thead>\n",
       "    <tr style=\"text-align: right;\">\n",
       "      <th></th>\n",
       "      <th>Company</th>\n",
       "      <th>TypeName</th>\n",
       "      <th>Inches</th>\n",
       "      <th>ScreenResolution</th>\n",
       "      <th>Cpu</th>\n",
       "      <th>Ram</th>\n",
       "      <th>Memory</th>\n",
       "      <th>Gpu</th>\n",
       "      <th>OpSys</th>\n",
       "      <th>Weight</th>\n",
       "      <th>Price</th>\n",
       "    </tr>\n",
       "  </thead>\n",
       "  <tbody>\n",
       "    <tr>\n",
       "      <th>0</th>\n",
       "      <td>Apple</td>\n",
       "      <td>Ultrabook</td>\n",
       "      <td>13.3</td>\n",
       "      <td>IPS Panel Retina Display 2560x1600</td>\n",
       "      <td>Intel Core i5 2.3GHz</td>\n",
       "      <td>8GB</td>\n",
       "      <td>128GB SSD</td>\n",
       "      <td>Intel Iris Plus Graphics 640</td>\n",
       "      <td>macOS</td>\n",
       "      <td>1.37kg</td>\n",
       "      <td>71378.6832</td>\n",
       "    </tr>\n",
       "    <tr>\n",
       "      <th>1</th>\n",
       "      <td>Apple</td>\n",
       "      <td>Ultrabook</td>\n",
       "      <td>13.3</td>\n",
       "      <td>1440x900</td>\n",
       "      <td>Intel Core i5 1.8GHz</td>\n",
       "      <td>8GB</td>\n",
       "      <td>128GB Flash Storage</td>\n",
       "      <td>Intel HD Graphics 6000</td>\n",
       "      <td>macOS</td>\n",
       "      <td>1.34kg</td>\n",
       "      <td>47895.5232</td>\n",
       "    </tr>\n",
       "    <tr>\n",
       "      <th>2</th>\n",
       "      <td>HP</td>\n",
       "      <td>Notebook</td>\n",
       "      <td>15.6</td>\n",
       "      <td>Full HD 1920x1080</td>\n",
       "      <td>Intel Core i5 7200U 2.5GHz</td>\n",
       "      <td>8GB</td>\n",
       "      <td>256GB SSD</td>\n",
       "      <td>Intel HD Graphics 620</td>\n",
       "      <td>No OS</td>\n",
       "      <td>1.86kg</td>\n",
       "      <td>30636.0000</td>\n",
       "    </tr>\n",
       "    <tr>\n",
       "      <th>3</th>\n",
       "      <td>Apple</td>\n",
       "      <td>Ultrabook</td>\n",
       "      <td>15.4</td>\n",
       "      <td>IPS Panel Retina Display 2880x1800</td>\n",
       "      <td>Intel Core i7 2.7GHz</td>\n",
       "      <td>16GB</td>\n",
       "      <td>512GB SSD</td>\n",
       "      <td>AMD Radeon Pro 455</td>\n",
       "      <td>macOS</td>\n",
       "      <td>1.83kg</td>\n",
       "      <td>135195.3360</td>\n",
       "    </tr>\n",
       "    <tr>\n",
       "      <th>4</th>\n",
       "      <td>Apple</td>\n",
       "      <td>Ultrabook</td>\n",
       "      <td>13.3</td>\n",
       "      <td>IPS Panel Retina Display 2560x1600</td>\n",
       "      <td>Intel Core i5 3.1GHz</td>\n",
       "      <td>8GB</td>\n",
       "      <td>256GB SSD</td>\n",
       "      <td>Intel Iris Plus Graphics 650</td>\n",
       "      <td>macOS</td>\n",
       "      <td>1.37kg</td>\n",
       "      <td>96095.8080</td>\n",
       "    </tr>\n",
       "  </tbody>\n",
       "</table>\n",
       "</div>"
      ],
      "text/plain": [
       "  Company   TypeName  Inches                    ScreenResolution  \\\n",
       "0   Apple  Ultrabook    13.3  IPS Panel Retina Display 2560x1600   \n",
       "1   Apple  Ultrabook    13.3                            1440x900   \n",
       "2      HP   Notebook    15.6                   Full HD 1920x1080   \n",
       "3   Apple  Ultrabook    15.4  IPS Panel Retina Display 2880x1800   \n",
       "4   Apple  Ultrabook    13.3  IPS Panel Retina Display 2560x1600   \n",
       "\n",
       "                          Cpu   Ram               Memory  \\\n",
       "0        Intel Core i5 2.3GHz   8GB            128GB SSD   \n",
       "1        Intel Core i5 1.8GHz   8GB  128GB Flash Storage   \n",
       "2  Intel Core i5 7200U 2.5GHz   8GB            256GB SSD   \n",
       "3        Intel Core i7 2.7GHz  16GB            512GB SSD   \n",
       "4        Intel Core i5 3.1GHz   8GB            256GB SSD   \n",
       "\n",
       "                            Gpu  OpSys  Weight        Price  \n",
       "0  Intel Iris Plus Graphics 640  macOS  1.37kg   71378.6832  \n",
       "1        Intel HD Graphics 6000  macOS  1.34kg   47895.5232  \n",
       "2         Intel HD Graphics 620  No OS  1.86kg   30636.0000  \n",
       "3            AMD Radeon Pro 455  macOS  1.83kg  135195.3360  \n",
       "4  Intel Iris Plus Graphics 650  macOS  1.37kg   96095.8080  "
      ]
     },
     "execution_count": 26,
     "metadata": {},
     "output_type": "execute_result"
    }
   ],
   "source": [
    "df.head()"
   ]
  },
  {
   "cell_type": "code",
   "execution_count": 27,
   "id": "587971e1-517d-4fe9-8c01-bd48dd7921cc",
   "metadata": {},
   "outputs": [],
   "source": [
    "df['Ram']=df['Ram'].str.replace('GB','')\n",
    "df['Weight']=df['Weight'].str.replace('kg','')"
   ]
  },
  {
   "cell_type": "code",
   "execution_count": 28,
   "id": "d8f52250-7f42-4efc-8b40-1ec09b18d184",
   "metadata": {},
   "outputs": [
    {
     "data": {
      "text/html": [
       "<div>\n",
       "<style scoped>\n",
       "    .dataframe tbody tr th:only-of-type {\n",
       "        vertical-align: middle;\n",
       "    }\n",
       "\n",
       "    .dataframe tbody tr th {\n",
       "        vertical-align: top;\n",
       "    }\n",
       "\n",
       "    .dataframe thead th {\n",
       "        text-align: right;\n",
       "    }\n",
       "</style>\n",
       "<table border=\"1\" class=\"dataframe\">\n",
       "  <thead>\n",
       "    <tr style=\"text-align: right;\">\n",
       "      <th></th>\n",
       "      <th>Company</th>\n",
       "      <th>TypeName</th>\n",
       "      <th>Inches</th>\n",
       "      <th>ScreenResolution</th>\n",
       "      <th>Cpu</th>\n",
       "      <th>Ram</th>\n",
       "      <th>Memory</th>\n",
       "      <th>Gpu</th>\n",
       "      <th>OpSys</th>\n",
       "      <th>Weight</th>\n",
       "      <th>Price</th>\n",
       "    </tr>\n",
       "  </thead>\n",
       "  <tbody>\n",
       "    <tr>\n",
       "      <th>0</th>\n",
       "      <td>Apple</td>\n",
       "      <td>Ultrabook</td>\n",
       "      <td>13.3</td>\n",
       "      <td>IPS Panel Retina Display 2560x1600</td>\n",
       "      <td>Intel Core i5 2.3GHz</td>\n",
       "      <td>8</td>\n",
       "      <td>128GB SSD</td>\n",
       "      <td>Intel Iris Plus Graphics 640</td>\n",
       "      <td>macOS</td>\n",
       "      <td>1.37</td>\n",
       "      <td>71378.6832</td>\n",
       "    </tr>\n",
       "    <tr>\n",
       "      <th>1</th>\n",
       "      <td>Apple</td>\n",
       "      <td>Ultrabook</td>\n",
       "      <td>13.3</td>\n",
       "      <td>1440x900</td>\n",
       "      <td>Intel Core i5 1.8GHz</td>\n",
       "      <td>8</td>\n",
       "      <td>128GB Flash Storage</td>\n",
       "      <td>Intel HD Graphics 6000</td>\n",
       "      <td>macOS</td>\n",
       "      <td>1.34</td>\n",
       "      <td>47895.5232</td>\n",
       "    </tr>\n",
       "    <tr>\n",
       "      <th>2</th>\n",
       "      <td>HP</td>\n",
       "      <td>Notebook</td>\n",
       "      <td>15.6</td>\n",
       "      <td>Full HD 1920x1080</td>\n",
       "      <td>Intel Core i5 7200U 2.5GHz</td>\n",
       "      <td>8</td>\n",
       "      <td>256GB SSD</td>\n",
       "      <td>Intel HD Graphics 620</td>\n",
       "      <td>No OS</td>\n",
       "      <td>1.86</td>\n",
       "      <td>30636.0000</td>\n",
       "    </tr>\n",
       "    <tr>\n",
       "      <th>3</th>\n",
       "      <td>Apple</td>\n",
       "      <td>Ultrabook</td>\n",
       "      <td>15.4</td>\n",
       "      <td>IPS Panel Retina Display 2880x1800</td>\n",
       "      <td>Intel Core i7 2.7GHz</td>\n",
       "      <td>16</td>\n",
       "      <td>512GB SSD</td>\n",
       "      <td>AMD Radeon Pro 455</td>\n",
       "      <td>macOS</td>\n",
       "      <td>1.83</td>\n",
       "      <td>135195.3360</td>\n",
       "    </tr>\n",
       "    <tr>\n",
       "      <th>4</th>\n",
       "      <td>Apple</td>\n",
       "      <td>Ultrabook</td>\n",
       "      <td>13.3</td>\n",
       "      <td>IPS Panel Retina Display 2560x1600</td>\n",
       "      <td>Intel Core i5 3.1GHz</td>\n",
       "      <td>8</td>\n",
       "      <td>256GB SSD</td>\n",
       "      <td>Intel Iris Plus Graphics 650</td>\n",
       "      <td>macOS</td>\n",
       "      <td>1.37</td>\n",
       "      <td>96095.8080</td>\n",
       "    </tr>\n",
       "  </tbody>\n",
       "</table>\n",
       "</div>"
      ],
      "text/plain": [
       "  Company   TypeName  Inches                    ScreenResolution  \\\n",
       "0   Apple  Ultrabook    13.3  IPS Panel Retina Display 2560x1600   \n",
       "1   Apple  Ultrabook    13.3                            1440x900   \n",
       "2      HP   Notebook    15.6                   Full HD 1920x1080   \n",
       "3   Apple  Ultrabook    15.4  IPS Panel Retina Display 2880x1800   \n",
       "4   Apple  Ultrabook    13.3  IPS Panel Retina Display 2560x1600   \n",
       "\n",
       "                          Cpu Ram               Memory  \\\n",
       "0        Intel Core i5 2.3GHz   8            128GB SSD   \n",
       "1        Intel Core i5 1.8GHz   8  128GB Flash Storage   \n",
       "2  Intel Core i5 7200U 2.5GHz   8            256GB SSD   \n",
       "3        Intel Core i7 2.7GHz  16            512GB SSD   \n",
       "4        Intel Core i5 3.1GHz   8            256GB SSD   \n",
       "\n",
       "                            Gpu  OpSys Weight        Price  \n",
       "0  Intel Iris Plus Graphics 640  macOS   1.37   71378.6832  \n",
       "1        Intel HD Graphics 6000  macOS   1.34   47895.5232  \n",
       "2         Intel HD Graphics 620  No OS   1.86   30636.0000  \n",
       "3            AMD Radeon Pro 455  macOS   1.83  135195.3360  \n",
       "4  Intel Iris Plus Graphics 650  macOS   1.37   96095.8080  "
      ]
     },
     "execution_count": 28,
     "metadata": {},
     "output_type": "execute_result"
    }
   ],
   "source": [
    "df.head()\n"
   ]
  },
  {
   "cell_type": "code",
   "execution_count": 29,
   "id": "65a344a2-3509-4c60-93cf-3643c661686e",
   "metadata": {},
   "outputs": [],
   "source": [
    "df['Ram']=df['Ram'].astype('int32')\n",
    "df['Weight']=df['Weight'].astype('float32')"
   ]
  },
  {
   "cell_type": "code",
   "execution_count": 30,
   "id": "908fa356-c4c8-4ef7-b071-1346259e6d73",
   "metadata": {},
   "outputs": [
    {
     "name": "stdout",
     "output_type": "stream",
     "text": [
      "<class 'pandas.core.frame.DataFrame'>\n",
      "RangeIndex: 1303 entries, 0 to 1302\n",
      "Data columns (total 11 columns):\n",
      " #   Column            Non-Null Count  Dtype  \n",
      "---  ------            --------------  -----  \n",
      " 0   Company           1303 non-null   object \n",
      " 1   TypeName          1303 non-null   object \n",
      " 2   Inches            1303 non-null   float64\n",
      " 3   ScreenResolution  1303 non-null   object \n",
      " 4   Cpu               1303 non-null   object \n",
      " 5   Ram               1303 non-null   int32  \n",
      " 6   Memory            1303 non-null   object \n",
      " 7   Gpu               1303 non-null   object \n",
      " 8   OpSys             1303 non-null   object \n",
      " 9   Weight            1303 non-null   float32\n",
      " 10  Price             1303 non-null   float64\n",
      "dtypes: float32(1), float64(2), int32(1), object(7)\n",
      "memory usage: 101.9+ KB\n"
     ]
    }
   ],
   "source": [
    "df.info()\n",
    "\n"
   ]
  },
  {
   "cell_type": "code",
   "execution_count": 31,
   "id": "4cda2d0c-8c08-4354-b632-6e82e3263a4f",
   "metadata": {},
   "outputs": [
    {
     "data": {
      "text/plain": [
       "<seaborn.axisgrid.FacetGrid at 0x13f8ed1b0>"
      ]
     },
     "execution_count": 31,
     "metadata": {},
     "output_type": "execute_result"
    },
    {
     "data": {
      "image/png": "[encoded data removed]",
      "text/plain": [
       "<Figure size 500x500 with 1 Axes>"
      ]
     },
     "metadata": {},
     "output_type": "display_data"
    }
   ],
   "source": [
    "sns.displot(df['Price'])"
   ]
  },
  {
   "cell_type": "code",
   "execution_count": 32,
   "id": "ae780dde-674c-404a-88bc-9b0812637b4f",
   "metadata": {},
   "outputs": [
    {
     "data": {
      "text/plain": [
       "<Axes: xlabel='Company'>"
      ]
     },
     "execution_count": 32,
     "metadata": {},
     "output_type": "execute_result"
    },
    {
     "data": {
      "image/png": "[encoded data removed]",
      "text/plain": [
       "<Figure size 640x480 with 1 Axes>"
      ]
     },
     "metadata": {},
     "output_type": "display_data"
    }
   ],
   "source": [
    "df['Company'].value_counts().plot(kind='bar')"
   ]
  },
  {
   "cell_type": "code",
   "execution_count": 33,
   "id": "a59407bf-5e30-4fd8-8225-6c0a24218782",
   "metadata": {},
   "outputs": [
    {
     "data": {
      "image/png": "[encoded data removed]",
      "text/plain": [
       "<Figure size 640x480 with 1 Axes>"
      ]
     },
     "metadata": {},
     "output_type": "display_data"
    }
   ],
   "source": [
    "sns.barplot(x=df['Company'],y=df['Price'])\n",
    "plt.xticks(rotation='vertical')\n",
    "plt.show()"
   ]
  },
  {
   "cell_type": "code",
   "execution_count": 34,
   "id": "694a4522-ce3e-4fb8-8cdd-279dff690442",
   "metadata": {},
   "outputs": [
    {
     "data": {
      "text/plain": [
       "<Axes: xlabel='TypeName'>"
      ]
     },
     "execution_count": 34,
     "metadata": {},
     "output_type": "execute_result"
    },
    {
     "data": {
      "image/png": "[encoded data removed]",
      "text/plain": [
       "<Figure size 640x480 with 1 Axes>"
      ]
     },
     "metadata": {},
     "output_type": "display_data"
    }
   ],
   "source": [
    "df['TypeName'].value_counts().plot(kind='bar')"
   ]
  },
  {
   "cell_type": "code",
   "execution_count": 35,
   "id": "83f6c59e-f58f-4d34-b5c3-5fb4db7c67d2",
   "metadata": {},
   "outputs": [
    {
     "data": {
      "image/png": "[encoded data removed]",
      "text/plain": [
       "<Figure size 640x480 with 1 Axes>"
      ]
     },
     "metadata": {},
     "output_type": "display_data"
    }
   ],
   "source": [
    "sns.barplot(x=df['TypeName'],y=df['Price'])\n",
    "plt.xticks(rotation='vertical')\n",
    "plt.show()"
   ]
  },
  {
   "cell_type": "code",
   "execution_count": 36,
   "id": "4b1bcf79-f069-4556-a5d3-b52d68ad5d81",
   "metadata": {},
   "outputs": [
    {
     "data": {
      "text/plain": [
       "<seaborn.axisgrid.FacetGrid at 0x13fdd8dc0>"
      ]
     },
     "execution_count": 36,
     "metadata": {},
     "output_type": "execute_result"
    },
    {
     "data": {
      "image/png": "[encoded data removed]",
      "text/plain": [
       "<Figure size 500x500 with 1 Axes>"
      ]
     },
     "metadata": {},
     "output_type": "display_data"
    }
   ],
   "source": [
    "sns.displot(df['Inches'])"
   ]
  },
  {
   "cell_type": "code",
   "execution_count": 37,
   "id": "ae716d41-ce44-449a-b536-72d1c3496805",
   "metadata": {},
   "outputs": [
    {
     "data": {
      "text/plain": [
       "<Axes: xlabel='Inches', ylabel='Price'>"
      ]
     },
     "execution_count": 37,
     "metadata": {},
     "output_type": "execute_result"
    },
    {
     "data": {
      "image/png": "[encoded data removed]",
      "text/plain": [
       "<Figure size 640x480 with 1 Axes>"
      ]
     },
     "metadata": {},
     "output_type": "display_data"
    }
   ],
   "source": [
    "sns.scatterplot(x=df['Inches'], y=df['Price'])\n"
   ]
  },
  {
   "cell_type": "code",
   "execution_count": 38,
   "id": "2ca13f7f-93f1-40ea-b9e9-f46df0721398",
   "metadata": {},
   "outputs": [
    {
     "data": {
      "text/plain": [
       "ScreenResolution\n",
       "Full HD 1920x1080                                507\n",
       "1366x768                                         281\n",
       "IPS Panel Full HD 1920x1080                      230\n",
       "IPS Panel Full HD / Touchscreen 1920x1080         53\n",
       "Full HD / Touchscreen 1920x1080                   47\n",
       "1600x900                                          23\n",
       "Touchscreen 1366x768                              16\n",
       "Quad HD+ / Touchscreen 3200x1800                  15\n",
       "IPS Panel 4K Ultra HD 3840x2160                   12\n",
       "IPS Panel 4K Ultra HD / Touchscreen 3840x2160     11\n",
       "4K Ultra HD / Touchscreen 3840x2160               10\n",
       "4K Ultra HD 3840x2160                              7\n",
       "Touchscreen 2560x1440                              7\n",
       "IPS Panel 1366x768                                 7\n",
       "IPS Panel Quad HD+ / Touchscreen 3200x1800         6\n",
       "IPS Panel Retina Display 2560x1600                 6\n",
       "IPS Panel Retina Display 2304x1440                 6\n",
       "Touchscreen 2256x1504                              6\n",
       "IPS Panel Touchscreen 2560x1440                    5\n",
       "IPS Panel Retina Display 2880x1800                 4\n",
       "IPS Panel Touchscreen 1920x1200                    4\n",
       "1440x900                                           4\n",
       "IPS Panel 2560x1440                                4\n",
       "IPS Panel Quad HD+ 2560x1440                       3\n",
       "Quad HD+ 3200x1800                                 3\n",
       "1920x1080                                          3\n",
       "Touchscreen 2400x1600                              3\n",
       "2560x1440                                          3\n",
       "IPS Panel Touchscreen 1366x768                     3\n",
       "IPS Panel Touchscreen / 4K Ultra HD 3840x2160      2\n",
       "IPS Panel Full HD 2160x1440                        2\n",
       "IPS Panel Quad HD+ 3200x1800                       2\n",
       "IPS Panel Retina Display 2736x1824                 1\n",
       "IPS Panel Full HD 1920x1200                        1\n",
       "IPS Panel Full HD 2560x1440                        1\n",
       "IPS Panel Full HD 1366x768                         1\n",
       "Touchscreen / Full HD 1920x1080                    1\n",
       "Touchscreen / Quad HD+ 3200x1800                   1\n",
       "Touchscreen / 4K Ultra HD 3840x2160                1\n",
       "IPS Panel Touchscreen 2400x1600                    1\n",
       "Name: count, dtype: int64"
      ]
     },
     "execution_count": 38,
     "metadata": {},
     "output_type": "execute_result"
    }
   ],
   "source": [
    "df['ScreenResolution'].value_counts()"
   ]
  },
  {
   "cell_type": "code",
   "execution_count": 39,
   "id": "f7732315-f661-4ef2-a7cf-db4f7a927611",
   "metadata": {},
   "outputs": [
    {
     "name": "stderr",
     "output_type": "stream",
     "text": [
      "/var/folders/t0/ncmtzwpn3dq69xpnbygy3q5c0000gn/T/ipykernel_4045/834922981.py:1: UserWarning: \n",
      "\n",
      "`distplot` is a deprecated function and will be removed in seaborn v0.14.0.\n",
      "\n",
      "Please adapt your code to use either `displot` (a figure-level function with\n",
      "similar flexibility) or `histplot` (an axes-level function for histograms).\n",
      "\n",
      "For a guide to updating your code to use the new functions, please see\n",
      "https://gist.github.com/mwaskom/de44147ed2974457ad6372750bbe5751\n",
      "\n",
      "  sns.distplot(df['Price'])\n"
     ]
    },
    {
     "data": {
      "text/plain": [
       "<Axes: xlabel='Price', ylabel='Density'>"
      ]
     },
     "execution_count": 39,
     "metadata": {},
     "output_type": "execute_result"
    },
    {
     "data": {
      "image/png": "[encoded data removed]",
      "text/plain": [
       "<Figure size 640x480 with 1 Axes>"
      ]
     },
     "metadata": {},
     "output_type": "display_data"
    }
   ],
   "source": [
    "sns.distplot(df['Price'])"
   ]
  },
  {
   "cell_type": "code",
   "execution_count": 40,
   "id": "520233c2-9a61-4fee-809b-f1593b731b2d",
   "metadata": {},
   "outputs": [
    {
     "data": {
      "text/plain": [
       "<Axes: xlabel='Company'>"
      ]
     },
     "execution_count": 40,
     "metadata": {},
     "output_type": "execute_result"
    },
    {
     "data": {
      "image/png": "[encoded data removed]",
      "text/plain": [
       "<Figure size 640x480 with 1 Axes>"
      ]
     },
     "metadata": {},
     "output_type": "display_data"
    }
   ],
   "source": [
    "df['Company'].value_counts().plot(kind='bar')"
   ]
  },
  {
   "cell_type": "code",
   "execution_count": 41,
   "id": "7b290e3d-194f-462b-93d0-25f0beaf7e32",
   "metadata": {},
   "outputs": [
    {
     "data": {
      "image/png": "[encoded data removed]",
      "text/plain": [
       "<Figure size 640x480 with 1 Axes>"
      ]
     },
     "metadata": {},
     "output_type": "display_data"
    }
   ],
   "source": [
    "sns.barplot(x=df['Company'], y=df['Price'])\n",
    "plt.xticks(rotation='vertical')\n",
    "plt.show()"
   ]
  },
  {
   "cell_type": "code",
   "execution_count": 42,
   "id": "11a82970-5bee-4684-ae66-06cc0ed6ba54",
   "metadata": {},
   "outputs": [
    {
     "data": {
      "text/plain": [
       "<Axes: xlabel='TypeName'>"
      ]
     },
     "execution_count": 42,
     "metadata": {},
     "output_type": "execute_result"
    },
    {
     "data": {
      "image/png": "[encoded data removed]",
      "text/plain": [
       "<Figure size 640x480 with 1 Axes>"
      ]
     },
     "metadata": {},
     "output_type": "display_data"
    }
   ],
   "source": [
    "df['TypeName'].value_counts().plot(kind='bar')"
   ]
  },
  {
   "cell_type": "code",
   "execution_count": 43,
   "id": "bee675a1-d8e9-4b1e-b6c5-854d55333eb8",
   "metadata": {},
   "outputs": [
    {
     "data": {
      "image/png": "[encoded data removed]",
      "text/plain": [
       "<Figure size 640x480 with 1 Axes>"
      ]
     },
     "metadata": {},
     "output_type": "display_data"
    }
   ],
   "source": [
    "sns.barplot(x=df['TypeName'], y=df['Price'])\n",
    "plt.xticks(rotation='vertical')\n",
    "plt.show()"
   ]
  },
  {
   "cell_type": "code",
   "execution_count": 44,
   "id": "d3f89b35-f394-484e-b241-b86199d55034",
   "metadata": {},
   "outputs": [
    {
     "name": "stderr",
     "output_type": "stream",
     "text": [
      "/var/folders/t0/ncmtzwpn3dq69xpnbygy3q5c0000gn/T/ipykernel_4045/831635304.py:1: UserWarning: \n",
      "\n",
      "`distplot` is a deprecated function and will be removed in seaborn v0.14.0.\n",
      "\n",
      "Please adapt your code to use either `displot` (a figure-level function with\n",
      "similar flexibility) or `histplot` (an axes-level function for histograms).\n",
      "\n",
      "For a guide to updating your code to use the new functions, please see\n",
      "https://gist.github.com/mwaskom/de44147ed2974457ad6372750bbe5751\n",
      "\n",
      "  sns.distplot(df['Inches'])\n"
     ]
    },
    {
     "data": {
      "text/plain": [
       "<Axes: xlabel='Inches', ylabel='Density'>"
      ]
     },
     "execution_count": 44,
     "metadata": {},
     "output_type": "execute_result"
    },
    {
     "data": {
      "image/png": "[encoded data removed]",
      "text/plain": [
       "<Figure size 640x480 with 1 Axes>"
      ]
     },
     "metadata": {},
     "output_type": "display_data"
    }
   ],
   "source": [
    "sns.distplot(df['Inches'])\n"
   ]
  },
  {
   "cell_type": "code",
   "execution_count": 45,
   "id": "a952b68f-5cfd-4907-a217-a48bac1b8297",
   "metadata": {},
   "outputs": [
    {
     "data": {
      "text/plain": [
       "<Axes: xlabel='Inches', ylabel='Price'>"
      ]
     },
     "execution_count": 45,
     "metadata": {},
     "output_type": "execute_result"
    },
    {
     "data": {
      "image/png": "[encoded data removed]",
      "text/plain": [
       "<Figure size 640x480 with 1 Axes>"
      ]
     },
     "metadata": {},
     "output_type": "display_data"
    }
   ],
   "source": [
    "sns.scatterplot(x=df['Inches'], y=df['Price'])"
   ]
  },
  {
   "cell_type": "code",
   "execution_count": 46,
   "id": "8f922bf8-3648-4906-a68f-5fb3c6ad73de",
   "metadata": {},
   "outputs": [
    {
     "data": {
      "text/plain": [
       "ScreenResolution\n",
       "Full HD 1920x1080                                507\n",
       "1366x768                                         281\n",
       "IPS Panel Full HD 1920x1080                      230\n",
       "IPS Panel Full HD / Touchscreen 1920x1080         53\n",
       "Full HD / Touchscreen 1920x1080                   47\n",
       "1600x900                                          23\n",
       "Touchscreen 1366x768                              16\n",
       "Quad HD+ / Touchscreen 3200x1800                  15\n",
       "IPS Panel 4K Ultra HD 3840x2160                   12\n",
       "IPS Panel 4K Ultra HD / Touchscreen 3840x2160     11\n",
       "4K Ultra HD / Touchscreen 3840x2160               10\n",
       "4K Ultra HD 3840x2160                              7\n",
       "Touchscreen 2560x1440                              7\n",
       "IPS Panel 1366x768                                 7\n",
       "IPS Panel Quad HD+ / Touchscreen 3200x1800         6\n",
       "IPS Panel Retina Display 2560x1600                 6\n",
       "IPS Panel Retina Display 2304x1440                 6\n",
       "Touchscreen 2256x1504                              6\n",
       "IPS Panel Touchscreen 2560x1440                    5\n",
       "IPS Panel Retina Display 2880x1800                 4\n",
       "IPS Panel Touchscreen 1920x1200                    4\n",
       "1440x900                                           4\n",
       "IPS Panel 2560x1440                                4\n",
       "IPS Panel Quad HD+ 2560x1440                       3\n",
       "Quad HD+ 3200x1800                                 3\n",
       "1920x1080                                          3\n",
       "Touchscreen 2400x1600                              3\n",
       "2560x1440                                          3\n",
       "IPS Panel Touchscreen 1366x768                     3\n",
       "IPS Panel Touchscreen / 4K Ultra HD 3840x2160      2\n",
       "IPS Panel Full HD 2160x1440                        2\n",
       "IPS Panel Quad HD+ 3200x1800                       2\n",
       "IPS Panel Retina Display 2736x1824                 1\n",
       "IPS Panel Full HD 1920x1200                        1\n",
       "IPS Panel Full HD 2560x1440                        1\n",
       "IPS Panel Full HD 1366x768                         1\n",
       "Touchscreen / Full HD 1920x1080                    1\n",
       "Touchscreen / Quad HD+ 3200x1800                   1\n",
       "Touchscreen / 4K Ultra HD 3840x2160                1\n",
       "IPS Panel Touchscreen 2400x1600                    1\n",
       "Name: count, dtype: int64"
      ]
     },
     "execution_count": 46,
     "metadata": {},
     "output_type": "execute_result"
    }
   ],
   "source": [
    "df['ScreenResolution'].value_counts()"
   ]
  },
  {
   "cell_type": "code",
   "execution_count": 47,
   "id": "6b0e9e36-621b-4af3-b4e0-ff346c8a8c7e",
   "metadata": {},
   "outputs": [
    {
     "data": {
      "image/png": "[encoded data removed]",
      "text/plain": [
       "<Figure size 640x480 with 1 Axes>"
      ]
     },
     "metadata": {},
     "output_type": "display_data"
    }
   ],
   "source": [
    "sns.barplot(x=df['ScreenResolution'], y=df['Price'])\n",
    "plt.xticks(rotation='vertical')\n",
    "plt.show()"
   ]
  },
  {
   "cell_type": "code",
   "execution_count": 48,
   "id": "3fb85332-9341-466a-8da2-685c95447484",
   "metadata": {},
   "outputs": [],
   "source": [
    "df['TouchScreen'] = df['ScreenResolution'].apply(lambda x:1 if 'Touchscreen' in x else 0)"
   ]
  },
  {
   "cell_type": "code",
   "execution_count": 49,
   "id": "c7bda4c9-08bf-4742-87d3-073a1cc2ad86",
   "metadata": {},
   "outputs": [
    {
     "data": {
      "text/html": [
       "<div>\n",
       "<style scoped>\n",
       "    .dataframe tbody tr th:only-of-type {\n",
       "        vertical-align: middle;\n",
       "    }\n",
       "\n",
       "    .dataframe tbody tr th {\n",
       "        vertical-align: top;\n",
       "    }\n",
       "\n",
       "    .dataframe thead th {\n",
       "        text-align: right;\n",
       "    }\n",
       "</style>\n",
       "<table border=\"1\" class=\"dataframe\">\n",
       "  <thead>\n",
       "    <tr style=\"text-align: right;\">\n",
       "      <th></th>\n",
       "      <th>Company</th>\n",
       "      <th>TypeName</th>\n",
       "      <th>Inches</th>\n",
       "      <th>ScreenResolution</th>\n",
       "      <th>Cpu</th>\n",
       "      <th>Ram</th>\n",
       "      <th>Memory</th>\n",
       "      <th>Gpu</th>\n",
       "      <th>OpSys</th>\n",
       "      <th>Weight</th>\n",
       "      <th>Price</th>\n",
       "      <th>TouchScreen</th>\n",
       "    </tr>\n",
       "  </thead>\n",
       "  <tbody>\n",
       "    <tr>\n",
       "      <th>164</th>\n",
       "      <td>Acer</td>\n",
       "      <td>Notebook</td>\n",
       "      <td>15.6</td>\n",
       "      <td>1366x768</td>\n",
       "      <td>Intel Celeron Dual Core N3350 1.1GHz</td>\n",
       "      <td>4</td>\n",
       "      <td>1TB HDD</td>\n",
       "      <td>Intel HD Graphics 500</td>\n",
       "      <td>Windows 10</td>\n",
       "      <td>2.10</td>\n",
       "      <td>18541.44</td>\n",
       "      <td>0</td>\n",
       "    </tr>\n",
       "    <tr>\n",
       "      <th>60</th>\n",
       "      <td>Dell</td>\n",
       "      <td>Notebook</td>\n",
       "      <td>17.3</td>\n",
       "      <td>Full HD 1920x1080</td>\n",
       "      <td>Intel Core i7 8550U 1.8GHz</td>\n",
       "      <td>16</td>\n",
       "      <td>256GB SSD +  2TB HDD</td>\n",
       "      <td>AMD Radeon 530</td>\n",
       "      <td>Windows 10</td>\n",
       "      <td>2.80</td>\n",
       "      <td>69210.72</td>\n",
       "      <td>0</td>\n",
       "    </tr>\n",
       "    <tr>\n",
       "      <th>619</th>\n",
       "      <td>Acer</td>\n",
       "      <td>2 in 1 Convertible</td>\n",
       "      <td>11.6</td>\n",
       "      <td>IPS Panel Touchscreen 1366x768</td>\n",
       "      <td>Intel Celeron Quad Core N3160 1.6GHz</td>\n",
       "      <td>4</td>\n",
       "      <td>32GB Flash Storage</td>\n",
       "      <td>Intel HD Graphics 400</td>\n",
       "      <td>Chrome OS</td>\n",
       "      <td>1.25</td>\n",
       "      <td>20193.12</td>\n",
       "      <td>1</td>\n",
       "    </tr>\n",
       "    <tr>\n",
       "      <th>660</th>\n",
       "      <td>Dell</td>\n",
       "      <td>Notebook</td>\n",
       "      <td>14.0</td>\n",
       "      <td>Full HD 1920x1080</td>\n",
       "      <td>Intel Core i5 6300U 2.4GHz</td>\n",
       "      <td>8</td>\n",
       "      <td>256GB SSD</td>\n",
       "      <td>Intel HD Graphics 520</td>\n",
       "      <td>Windows 10</td>\n",
       "      <td>1.56</td>\n",
       "      <td>65481.12</td>\n",
       "      <td>0</td>\n",
       "    </tr>\n",
       "  </tbody>\n",
       "</table>\n",
       "</div>"
      ],
      "text/plain": [
       "    Company            TypeName  Inches                ScreenResolution  \\\n",
       "164    Acer            Notebook    15.6                        1366x768   \n",
       "60     Dell            Notebook    17.3               Full HD 1920x1080   \n",
       "619    Acer  2 in 1 Convertible    11.6  IPS Panel Touchscreen 1366x768   \n",
       "660    Dell            Notebook    14.0               Full HD 1920x1080   \n",
       "\n",
       "                                      Cpu  Ram                Memory  \\\n",
       "164  Intel Celeron Dual Core N3350 1.1GHz    4               1TB HDD   \n",
       "60             Intel Core i7 8550U 1.8GHz   16  256GB SSD +  2TB HDD   \n",
       "619  Intel Celeron Quad Core N3160 1.6GHz    4    32GB Flash Storage   \n",
       "660            Intel Core i5 6300U 2.4GHz    8             256GB SSD   \n",
       "\n",
       "                       Gpu       OpSys  Weight     Price  TouchScreen  \n",
       "164  Intel HD Graphics 500  Windows 10    2.10  18541.44            0  \n",
       "60          AMD Radeon 530  Windows 10    2.80  69210.72            0  \n",
       "619  Intel HD Graphics 400   Chrome OS    1.25  20193.12            1  \n",
       "660  Intel HD Graphics 520  Windows 10    1.56  65481.12            0  "
      ]
     },
     "execution_count": 49,
     "metadata": {},
     "output_type": "execute_result"
    }
   ],
   "source": [
    "df.sample(4)\n"
   ]
  },
  {
   "cell_type": "code",
   "execution_count": 50,
   "id": "df906c79-0cf6-4d6d-8db1-2f255e3b1f55",
   "metadata": {},
   "outputs": [
    {
     "data": {
      "text/plain": [
       "<Axes: xlabel='TouchScreen'>"
      ]
     },
     "execution_count": 50,
     "metadata": {},
     "output_type": "execute_result"
    },
    {
     "data": {
      "image/png": "[encoded data removed]",
      "text/plain": [
       "<Figure size 640x480 with 1 Axes>"
      ]
     },
     "metadata": {},
     "output_type": "display_data"
    }
   ],
   "source": [
    "df['TouchScreen'].value_counts().plot(kind='bar')"
   ]
  },
  {
   "cell_type": "code",
   "execution_count": 51,
   "id": "60fb80a8-c529-41d7-a998-93f07d1c65db",
   "metadata": {},
   "outputs": [
    {
     "data": {
      "text/plain": [
       "<Axes: xlabel='TouchScreen', ylabel='Price'>"
      ]
     },
     "execution_count": 51,
     "metadata": {},
     "output_type": "execute_result"
    },
    {
     "data": {
      "image/png": "[encoded data removed]",
      "text/plain": [
       "<Figure size 640x480 with 1 Axes>"
      ]
     },
     "metadata": {},
     "output_type": "display_data"
    }
   ],
   "source": [
    "sns.barplot(x= df['TouchScreen'], y=df['Price'])"
   ]
  },
  {
   "cell_type": "code",
   "execution_count": 52,
   "id": "97e72f13-5ec2-4788-8453-76e2e60c6de6",
   "metadata": {},
   "outputs": [],
   "source": [
    "df['Ips'] = df['ScreenResolution'].apply(lambda x:1 if 'IPS' in x else 0)"
   ]
  },
  {
   "cell_type": "code",
   "execution_count": 53,
   "id": "16556f6c-ce6a-4d26-9f98-1e84d68bb043",
   "metadata": {},
   "outputs": [
    {
     "data": {
      "text/html": [
       "<div>\n",
       "<style scoped>\n",
       "    .dataframe tbody tr th:only-of-type {\n",
       "        vertical-align: middle;\n",
       "    }\n",
       "\n",
       "    .dataframe tbody tr th {\n",
       "        vertical-align: top;\n",
       "    }\n",
       "\n",
       "    .dataframe thead th {\n",
       "        text-align: right;\n",
       "    }\n",
       "</style>\n",
       "<table border=\"1\" class=\"dataframe\">\n",
       "  <thead>\n",
       "    <tr style=\"text-align: right;\">\n",
       "      <th></th>\n",
       "      <th>Company</th>\n",
       "      <th>TypeName</th>\n",
       "      <th>Inches</th>\n",
       "      <th>ScreenResolution</th>\n",
       "      <th>Cpu</th>\n",
       "      <th>Ram</th>\n",
       "      <th>Memory</th>\n",
       "      <th>Gpu</th>\n",
       "      <th>OpSys</th>\n",
       "      <th>Weight</th>\n",
       "      <th>Price</th>\n",
       "      <th>TouchScreen</th>\n",
       "      <th>Ips</th>\n",
       "    </tr>\n",
       "  </thead>\n",
       "  <tbody>\n",
       "    <tr>\n",
       "      <th>0</th>\n",
       "      <td>Apple</td>\n",
       "      <td>Ultrabook</td>\n",
       "      <td>13.3</td>\n",
       "      <td>IPS Panel Retina Display 2560x1600</td>\n",
       "      <td>Intel Core i5 2.3GHz</td>\n",
       "      <td>8</td>\n",
       "      <td>128GB SSD</td>\n",
       "      <td>Intel Iris Plus Graphics 640</td>\n",
       "      <td>macOS</td>\n",
       "      <td>1.37</td>\n",
       "      <td>71378.6832</td>\n",
       "      <td>0</td>\n",
       "      <td>1</td>\n",
       "    </tr>\n",
       "    <tr>\n",
       "      <th>1</th>\n",
       "      <td>Apple</td>\n",
       "      <td>Ultrabook</td>\n",
       "      <td>13.3</td>\n",
       "      <td>1440x900</td>\n",
       "      <td>Intel Core i5 1.8GHz</td>\n",
       "      <td>8</td>\n",
       "      <td>128GB Flash Storage</td>\n",
       "      <td>Intel HD Graphics 6000</td>\n",
       "      <td>macOS</td>\n",
       "      <td>1.34</td>\n",
       "      <td>47895.5232</td>\n",
       "      <td>0</td>\n",
       "      <td>0</td>\n",
       "    </tr>\n",
       "    <tr>\n",
       "      <th>2</th>\n",
       "      <td>HP</td>\n",
       "      <td>Notebook</td>\n",
       "      <td>15.6</td>\n",
       "      <td>Full HD 1920x1080</td>\n",
       "      <td>Intel Core i5 7200U 2.5GHz</td>\n",
       "      <td>8</td>\n",
       "      <td>256GB SSD</td>\n",
       "      <td>Intel HD Graphics 620</td>\n",
       "      <td>No OS</td>\n",
       "      <td>1.86</td>\n",
       "      <td>30636.0000</td>\n",
       "      <td>0</td>\n",
       "      <td>0</td>\n",
       "    </tr>\n",
       "    <tr>\n",
       "      <th>3</th>\n",
       "      <td>Apple</td>\n",
       "      <td>Ultrabook</td>\n",
       "      <td>15.4</td>\n",
       "      <td>IPS Panel Retina Display 2880x1800</td>\n",
       "      <td>Intel Core i7 2.7GHz</td>\n",
       "      <td>16</td>\n",
       "      <td>512GB SSD</td>\n",
       "      <td>AMD Radeon Pro 455</td>\n",
       "      <td>macOS</td>\n",
       "      <td>1.83</td>\n",
       "      <td>135195.3360</td>\n",
       "      <td>0</td>\n",
       "      <td>1</td>\n",
       "    </tr>\n",
       "    <tr>\n",
       "      <th>4</th>\n",
       "      <td>Apple</td>\n",
       "      <td>Ultrabook</td>\n",
       "      <td>13.3</td>\n",
       "      <td>IPS Panel Retina Display 2560x1600</td>\n",
       "      <td>Intel Core i5 3.1GHz</td>\n",
       "      <td>8</td>\n",
       "      <td>256GB SSD</td>\n",
       "      <td>Intel Iris Plus Graphics 650</td>\n",
       "      <td>macOS</td>\n",
       "      <td>1.37</td>\n",
       "      <td>96095.8080</td>\n",
       "      <td>0</td>\n",
       "      <td>1</td>\n",
       "    </tr>\n",
       "  </tbody>\n",
       "</table>\n",
       "</div>"
      ],
      "text/plain": [
       "  Company   TypeName  Inches                    ScreenResolution  \\\n",
       "0   Apple  Ultrabook    13.3  IPS Panel Retina Display 2560x1600   \n",
       "1   Apple  Ultrabook    13.3                            1440x900   \n",
       "2      HP   Notebook    15.6                   Full HD 1920x1080   \n",
       "3   Apple  Ultrabook    15.4  IPS Panel Retina Display 2880x1800   \n",
       "4   Apple  Ultrabook    13.3  IPS Panel Retina Display 2560x1600   \n",
       "\n",
       "                          Cpu  Ram               Memory  \\\n",
       "0        Intel Core i5 2.3GHz    8            128GB SSD   \n",
       "1        Intel Core i5 1.8GHz    8  128GB Flash Storage   \n",
       "2  Intel Core i5 7200U 2.5GHz    8            256GB SSD   \n",
       "3        Intel Core i7 2.7GHz   16            512GB SSD   \n",
       "4        Intel Core i5 3.1GHz    8            256GB SSD   \n",
       "\n",
       "                            Gpu  OpSys  Weight        Price  TouchScreen  Ips  \n",
       "0  Intel Iris Plus Graphics 640  macOS    1.37   71378.6832            0    1  \n",
       "1        Intel HD Graphics 6000  macOS    1.34   47895.5232            0    0  \n",
       "2         Intel HD Graphics 620  No OS    1.86   30636.0000            0    0  \n",
       "3            AMD Radeon Pro 455  macOS    1.83  135195.3360            0    1  \n",
       "4  Intel Iris Plus Graphics 650  macOS    1.37   96095.8080            0    1  "
      ]
     },
     "execution_count": 53,
     "metadata": {},
     "output_type": "execute_result"
    }
   ],
   "source": [
    "df.head()"
   ]
  },
  {
   "cell_type": "code",
   "execution_count": 54,
   "id": "f1191b70-41c2-4af5-9a65-8a6f298fb7b0",
   "metadata": {},
   "outputs": [
    {
     "data": {
      "text/plain": [
       "<Axes: xlabel='Ips'>"
      ]
     },
     "execution_count": 54,
     "metadata": {},
     "output_type": "execute_result"
    },
    {
     "data": {
      "image/png": "[encoded data removed]",
      "text/plain": [
       "<Figure size 640x480 with 1 Axes>"
      ]
     },
     "metadata": {},
     "output_type": "display_data"
    }
   ],
   "source": [
    "df['Ips'].value_counts().plot(kind='bar')"
   ]
  },
  {
   "cell_type": "code",
   "execution_count": 55,
   "id": "47d27f5a-55d6-4eb1-b5f1-15a5e10e7dca",
   "metadata": {},
   "outputs": [
    {
     "data": {
      "text/plain": [
       "<Axes: xlabel='Ips', ylabel='Price'>"
      ]
     },
     "execution_count": 55,
     "metadata": {},
     "output_type": "execute_result"
    },
    {
     "data": {
      "image/png": "[encoded data removed]",
      "text/plain": [
       "<Figure size 640x480 with 1 Axes>"
      ]
     },
     "metadata": {},
     "output_type": "display_data"
    }
   ],
   "source": [
    "sns.barplot(x=df['Ips'], y=df['Price'])"
   ]
  },
  {
   "cell_type": "code",
   "execution_count": 56,
   "id": "9d47daca-28f6-4e71-a0c6-d1be2e7ed7da",
   "metadata": {},
   "outputs": [],
   "source": [
    "new = df['ScreenResolution'].str.split('x',n=1, expand=True)"
   ]
  },
  {
   "cell_type": "code",
   "execution_count": 57,
   "id": "67f95f55-6f35-4509-8a1e-8b8ce8322a1d",
   "metadata": {},
   "outputs": [],
   "source": [
    "df['X_res']= new[0]\n",
    "df['y_res'] = new[1]"
   ]
  },
  {
   "cell_type": "code",
   "execution_count": 58,
   "id": "e9deb689-d2b5-494c-8019-4ee028d014d5",
   "metadata": {},
   "outputs": [
    {
     "data": {
      "text/html": [
       "<div>\n",
       "<style scoped>\n",
       "    .dataframe tbody tr th:only-of-type {\n",
       "        vertical-align: middle;\n",
       "    }\n",
       "\n",
       "    .dataframe tbody tr th {\n",
       "        vertical-align: top;\n",
       "    }\n",
       "\n",
       "    .dataframe thead th {\n",
       "        text-align: right;\n",
       "    }\n",
       "</style>\n",
       "<table border=\"1\" class=\"dataframe\">\n",
       "  <thead>\n",
       "    <tr style=\"text-align: right;\">\n",
       "      <th></th>\n",
       "      <th>Company</th>\n",
       "      <th>TypeName</th>\n",
       "      <th>Inches</th>\n",
       "      <th>ScreenResolution</th>\n",
       "      <th>Cpu</th>\n",
       "      <th>Ram</th>\n",
       "      <th>Memory</th>\n",
       "      <th>Gpu</th>\n",
       "      <th>OpSys</th>\n",
       "      <th>Weight</th>\n",
       "      <th>Price</th>\n",
       "      <th>TouchScreen</th>\n",
       "      <th>Ips</th>\n",
       "      <th>X_res</th>\n",
       "      <th>y_res</th>\n",
       "    </tr>\n",
       "  </thead>\n",
       "  <tbody>\n",
       "    <tr>\n",
       "      <th>0</th>\n",
       "      <td>Apple</td>\n",
       "      <td>Ultrabook</td>\n",
       "      <td>13.3</td>\n",
       "      <td>IPS Panel Retina Display 2560x1600</td>\n",
       "      <td>Intel Core i5 2.3GHz</td>\n",
       "      <td>8</td>\n",
       "      <td>128GB SSD</td>\n",
       "      <td>Intel Iris Plus Graphics 640</td>\n",
       "      <td>macOS</td>\n",
       "      <td>1.37</td>\n",
       "      <td>71378.6832</td>\n",
       "      <td>0</td>\n",
       "      <td>1</td>\n",
       "      <td>IPS Panel Retina Display 2560</td>\n",
       "      <td>1600</td>\n",
       "    </tr>\n",
       "    <tr>\n",
       "      <th>1</th>\n",
       "      <td>Apple</td>\n",
       "      <td>Ultrabook</td>\n",
       "      <td>13.3</td>\n",
       "      <td>1440x900</td>\n",
       "      <td>Intel Core i5 1.8GHz</td>\n",
       "      <td>8</td>\n",
       "      <td>128GB Flash Storage</td>\n",
       "      <td>Intel HD Graphics 6000</td>\n",
       "      <td>macOS</td>\n",
       "      <td>1.34</td>\n",
       "      <td>47895.5232</td>\n",
       "      <td>0</td>\n",
       "      <td>0</td>\n",
       "      <td>1440</td>\n",
       "      <td>900</td>\n",
       "    </tr>\n",
       "    <tr>\n",
       "      <th>2</th>\n",
       "      <td>HP</td>\n",
       "      <td>Notebook</td>\n",
       "      <td>15.6</td>\n",
       "      <td>Full HD 1920x1080</td>\n",
       "      <td>Intel Core i5 7200U 2.5GHz</td>\n",
       "      <td>8</td>\n",
       "      <td>256GB SSD</td>\n",
       "      <td>Intel HD Graphics 620</td>\n",
       "      <td>No OS</td>\n",
       "      <td>1.86</td>\n",
       "      <td>30636.0000</td>\n",
       "      <td>0</td>\n",
       "      <td>0</td>\n",
       "      <td>Full HD 1920</td>\n",
       "      <td>1080</td>\n",
       "    </tr>\n",
       "    <tr>\n",
       "      <th>3</th>\n",
       "      <td>Apple</td>\n",
       "      <td>Ultrabook</td>\n",
       "      <td>15.4</td>\n",
       "      <td>IPS Panel Retina Display 2880x1800</td>\n",
       "      <td>Intel Core i7 2.7GHz</td>\n",
       "      <td>16</td>\n",
       "      <td>512GB SSD</td>\n",
       "      <td>AMD Radeon Pro 455</td>\n",
       "      <td>macOS</td>\n",
       "      <td>1.83</td>\n",
       "      <td>135195.3360</td>\n",
       "      <td>0</td>\n",
       "      <td>1</td>\n",
       "      <td>IPS Panel Retina Display 2880</td>\n",
       "      <td>1800</td>\n",
       "    </tr>\n",
       "    <tr>\n",
       "      <th>4</th>\n",
       "      <td>Apple</td>\n",
       "      <td>Ultrabook</td>\n",
       "      <td>13.3</td>\n",
       "      <td>IPS Panel Retina Display 2560x1600</td>\n",
       "      <td>Intel Core i5 3.1GHz</td>\n",
       "      <td>8</td>\n",
       "      <td>256GB SSD</td>\n",
       "      <td>Intel Iris Plus Graphics 650</td>\n",
       "      <td>macOS</td>\n",
       "      <td>1.37</td>\n",
       "      <td>96095.8080</td>\n",
       "      <td>0</td>\n",
       "      <td>1</td>\n",
       "      <td>IPS Panel Retina Display 2560</td>\n",
       "      <td>1600</td>\n",
       "    </tr>\n",
       "  </tbody>\n",
       "</table>\n",
       "</div>"
      ],
      "text/plain": [
       "  Company   TypeName  Inches                    ScreenResolution  \\\n",
       "0   Apple  Ultrabook    13.3  IPS Panel Retina Display 2560x1600   \n",
       "1   Apple  Ultrabook    13.3                            1440x900   \n",
       "2      HP   Notebook    15.6                   Full HD 1920x1080   \n",
       "3   Apple  Ultrabook    15.4  IPS Panel Retina Display 2880x1800   \n",
       "4   Apple  Ultrabook    13.3  IPS Panel Retina Display 2560x1600   \n",
       "\n",
       "                          Cpu  Ram               Memory  \\\n",
       "0        Intel Core i5 2.3GHz    8            128GB SSD   \n",
       "1        Intel Core i5 1.8GHz    8  128GB Flash Storage   \n",
       "2  Intel Core i5 7200U 2.5GHz    8            256GB SSD   \n",
       "3        Intel Core i7 2.7GHz   16            512GB SSD   \n",
       "4        Intel Core i5 3.1GHz    8            256GB SSD   \n",
       "\n",
       "                            Gpu  OpSys  Weight        Price  TouchScreen  Ips  \\\n",
       "0  Intel Iris Plus Graphics 640  macOS    1.37   71378.6832            0    1   \n",
       "1        Intel HD Graphics 6000  macOS    1.34   47895.5232            0    0   \n",
       "2         Intel HD Graphics 620  No OS    1.86   30636.0000            0    0   \n",
       "3            AMD Radeon Pro 455  macOS    1.83  135195.3360            0    1   \n",
       "4  Intel Iris Plus Graphics 650  macOS    1.37   96095.8080            0    1   \n",
       "\n",
       "                           X_res y_res  \n",
       "0  IPS Panel Retina Display 2560  1600  \n",
       "1                           1440   900  \n",
       "2                   Full HD 1920  1080  \n",
       "3  IPS Panel Retina Display 2880  1800  \n",
       "4  IPS Panel Retina Display 2560  1600  "
      ]
     },
     "execution_count": 58,
     "metadata": {},
     "output_type": "execute_result"
    }
   ],
   "source": [
    "df.head()"
   ]
  },
  {
   "cell_type": "code",
   "execution_count": 59,
   "id": "3950d77a-e75f-4319-8ea7-4ce8cb35de0b",
   "metadata": {},
   "outputs": [],
   "source": [
    "df['X_res'] = df['X_res'].str.replace(',','').str.findall(r'(\\d+\\.?\\d+)').apply(lambda x:x[0])\n"
   ]
  },
  {
   "cell_type": "code",
   "execution_count": 60,
   "id": "9c6272b3-3030-40fd-a390-e5a7866567e8",
   "metadata": {},
   "outputs": [
    {
     "data": {
      "text/html": [
       "<div>\n",
       "<style scoped>\n",
       "    .dataframe tbody tr th:only-of-type {\n",
       "        vertical-align: middle;\n",
       "    }\n",
       "\n",
       "    .dataframe tbody tr th {\n",
       "        vertical-align: top;\n",
       "    }\n",
       "\n",
       "    .dataframe thead th {\n",
       "        text-align: right;\n",
       "    }\n",
       "</style>\n",
       "<table border=\"1\" class=\"dataframe\">\n",
       "  <thead>\n",
       "    <tr style=\"text-align: right;\">\n",
       "      <th></th>\n",
       "      <th>Company</th>\n",
       "      <th>TypeName</th>\n",
       "      <th>Inches</th>\n",
       "      <th>ScreenResolution</th>\n",
       "      <th>Cpu</th>\n",
       "      <th>Ram</th>\n",
       "      <th>Memory</th>\n",
       "      <th>Gpu</th>\n",
       "      <th>OpSys</th>\n",
       "      <th>Weight</th>\n",
       "      <th>Price</th>\n",
       "      <th>TouchScreen</th>\n",
       "      <th>Ips</th>\n",
       "      <th>X_res</th>\n",
       "      <th>y_res</th>\n",
       "    </tr>\n",
       "  </thead>\n",
       "  <tbody>\n",
       "    <tr>\n",
       "      <th>847</th>\n",
       "      <td>Asus</td>\n",
       "      <td>Ultrabook</td>\n",
       "      <td>13.3</td>\n",
       "      <td>IPS Panel Full HD 1920x1080</td>\n",
       "      <td>Intel Core i5 6200U 2.3GHz</td>\n",
       "      <td>8</td>\n",
       "      <td>512GB SSD</td>\n",
       "      <td>Nvidia GeForce 940M</td>\n",
       "      <td>Windows 10</td>\n",
       "      <td>1.45</td>\n",
       "      <td>54665.28</td>\n",
       "      <td>0</td>\n",
       "      <td>1</td>\n",
       "      <td>1920</td>\n",
       "      <td>1080</td>\n",
       "    </tr>\n",
       "    <tr>\n",
       "      <th>520</th>\n",
       "      <td>Lenovo</td>\n",
       "      <td>Gaming</td>\n",
       "      <td>15.6</td>\n",
       "      <td>IPS Panel Full HD 1920x1080</td>\n",
       "      <td>Intel Core i7 7700HQ 2.8GHz</td>\n",
       "      <td>8</td>\n",
       "      <td>256GB SSD +  1TB HDD</td>\n",
       "      <td>Nvidia GeForce GTX 1060</td>\n",
       "      <td>Windows 10</td>\n",
       "      <td>3.20</td>\n",
       "      <td>74538.72</td>\n",
       "      <td>0</td>\n",
       "      <td>1</td>\n",
       "      <td>1920</td>\n",
       "      <td>1080</td>\n",
       "    </tr>\n",
       "    <tr>\n",
       "      <th>767</th>\n",
       "      <td>Dell</td>\n",
       "      <td>Gaming</td>\n",
       "      <td>15.6</td>\n",
       "      <td>IPS Panel Touchscreen / 4K Ultra HD 3840x2160</td>\n",
       "      <td>Intel Core i7 6700HQ 2.6GHz</td>\n",
       "      <td>16</td>\n",
       "      <td>128GB SSD +  1TB HDD</td>\n",
       "      <td>Nvidia GeForce GTX 960M</td>\n",
       "      <td>Windows 10</td>\n",
       "      <td>2.72</td>\n",
       "      <td>58554.72</td>\n",
       "      <td>1</td>\n",
       "      <td>1</td>\n",
       "      <td>3840</td>\n",
       "      <td>2160</td>\n",
       "    </tr>\n",
       "  </tbody>\n",
       "</table>\n",
       "</div>"
      ],
      "text/plain": [
       "    Company   TypeName  Inches                               ScreenResolution  \\\n",
       "847    Asus  Ultrabook    13.3                    IPS Panel Full HD 1920x1080   \n",
       "520  Lenovo     Gaming    15.6                    IPS Panel Full HD 1920x1080   \n",
       "767    Dell     Gaming    15.6  IPS Panel Touchscreen / 4K Ultra HD 3840x2160   \n",
       "\n",
       "                             Cpu  Ram                Memory  \\\n",
       "847   Intel Core i5 6200U 2.3GHz    8             512GB SSD   \n",
       "520  Intel Core i7 7700HQ 2.8GHz    8  256GB SSD +  1TB HDD   \n",
       "767  Intel Core i7 6700HQ 2.6GHz   16  128GB SSD +  1TB HDD   \n",
       "\n",
       "                         Gpu       OpSys  Weight     Price  TouchScreen  Ips  \\\n",
       "847      Nvidia GeForce 940M  Windows 10    1.45  54665.28            0    1   \n",
       "520  Nvidia GeForce GTX 1060  Windows 10    3.20  74538.72            0    1   \n",
       "767  Nvidia GeForce GTX 960M  Windows 10    2.72  58554.72            1    1   \n",
       "\n",
       "    X_res y_res  \n",
       "847  1920  1080  \n",
       "520  1920  1080  \n",
       "767  3840  2160  "
      ]
     },
     "execution_count": 60,
     "metadata": {},
     "output_type": "execute_result"
    }
   ],
   "source": [
    "df.sample(3)"
   ]
  },
  {
   "cell_type": "code",
   "execution_count": 61,
   "id": "eda50f66-64ef-4032-b48e-2cf75eade705",
   "metadata": {},
   "outputs": [],
   "source": [
    "df['X_res'] = df['X_res'].astype('int')\n",
    "df['y_res'] = df['y_res'].astype('int')"
   ]
  },
  {
   "cell_type": "code",
   "execution_count": 62,
   "id": "7def189a-f4aa-4550-bd8c-be889ec36dc2",
   "metadata": {},
   "outputs": [
    {
     "name": "stdout",
     "output_type": "stream",
     "text": [
      "<class 'pandas.core.frame.DataFrame'>\n",
      "RangeIndex: 1303 entries, 0 to 1302\n",
      "Data columns (total 15 columns):\n",
      " #   Column            Non-Null Count  Dtype  \n",
      "---  ------            --------------  -----  \n",
      " 0   Company           1303 non-null   object \n",
      " 1   TypeName          1303 non-null   object \n",
      " 2   Inches            1303 non-null   float64\n",
      " 3   ScreenResolution  1303 non-null   object \n",
      " 4   Cpu               1303 non-null   object \n",
      " 5   Ram               1303 non-null   int32  \n",
      " 6   Memory            1303 non-null   object \n",
      " 7   Gpu               1303 non-null   object \n",
      " 8   OpSys             1303 non-null   object \n",
      " 9   Weight            1303 non-null   float32\n",
      " 10  Price             1303 non-null   float64\n",
      " 11  TouchScreen       1303 non-null   int64  \n",
      " 12  Ips               1303 non-null   int64  \n",
      " 13  X_res             1303 non-null   int64  \n",
      " 14  y_res             1303 non-null   int64  \n",
      "dtypes: float32(1), float64(2), int32(1), int64(4), object(7)\n",
      "memory usage: 142.6+ KB\n"
     ]
    }
   ],
   "source": [
    "df.info()"
   ]
  },
  {
   "cell_type": "code",
   "execution_count": 63,
   "id": "0741e077-219f-42d8-a7c8-b65aeaf839a0",
   "metadata": {},
   "outputs": [
    {
     "data": {
      "text/plain": [
       "Inches         0.068197\n",
       "Ram            0.743007\n",
       "Weight         0.210370\n",
       "Price          1.000000\n",
       "TouchScreen    0.191226\n",
       "Ips            0.252208\n",
       "X_res          0.556529\n",
       "y_res          0.552809\n",
       "Name: Price, dtype: float64"
      ]
     },
     "execution_count": 63,
     "metadata": {},
     "output_type": "execute_result"
    }
   ],
   "source": [
    "df.corr(numeric_only=True)['Price']"
   ]
  },
  {
   "cell_type": "code",
   "execution_count": 64,
   "id": "9835ee97-f3ad-44f4-94dd-904396fee22d",
   "metadata": {},
   "outputs": [],
   "source": [
    "df['ppi'] = (((df['X_res']**2) + (df['y_res']**2))**0.5/df['Inches']).astype('float')\n"
   ]
  },
  {
   "cell_type": "code",
   "execution_count": 65,
   "id": "50c1b10e-9f6a-487c-94de-a2324d3c0717",
   "metadata": {},
   "outputs": [
    {
     "data": {
      "text/plain": [
       "Inches         0.068197\n",
       "Ram            0.743007\n",
       "Weight         0.210370\n",
       "Price          1.000000\n",
       "TouchScreen    0.191226\n",
       "Ips            0.252208\n",
       "X_res          0.556529\n",
       "y_res          0.552809\n",
       "ppi            0.473487\n",
       "Name: Price, dtype: float64"
      ]
     },
     "execution_count": 65,
     "metadata": {},
     "output_type": "execute_result"
    }
   ],
   "source": [
    "df.corr(numeric_only=True)['Price']"
   ]
  },
  {
   "cell_type": "code",
   "execution_count": 66,
   "id": "c383058c-3d7e-4781-b58e-50ecfed86cb6",
   "metadata": {},
   "outputs": [],
   "source": [
    "df.drop(columns= ['ScreenResolution'], inplace=True)"
   ]
  },
  {
   "cell_type": "code",
   "execution_count": 67,
   "id": "dce18f75-284f-4eaf-b8b1-42ad1159ed84",
   "metadata": {},
   "outputs": [
    {
     "data": {
      "text/html": [
       "<div>\n",
       "<style scoped>\n",
       "    .dataframe tbody tr th:only-of-type {\n",
       "        vertical-align: middle;\n",
       "    }\n",
       "\n",
       "    .dataframe tbody tr th {\n",
       "        vertical-align: top;\n",
       "    }\n",
       "\n",
       "    .dataframe thead th {\n",
       "        text-align: right;\n",
       "    }\n",
       "</style>\n",
       "<table border=\"1\" class=\"dataframe\">\n",
       "  <thead>\n",
       "    <tr style=\"text-align: right;\">\n",
       "      <th></th>\n",
       "      <th>Company</th>\n",
       "      <th>TypeName</th>\n",
       "      <th>Inches</th>\n",
       "      <th>Cpu</th>\n",
       "      <th>Ram</th>\n",
       "      <th>Memory</th>\n",
       "      <th>Gpu</th>\n",
       "      <th>OpSys</th>\n",
       "      <th>Weight</th>\n",
       "      <th>Price</th>\n",
       "      <th>TouchScreen</th>\n",
       "      <th>Ips</th>\n",
       "      <th>X_res</th>\n",
       "      <th>y_res</th>\n",
       "      <th>ppi</th>\n",
       "    </tr>\n",
       "  </thead>\n",
       "  <tbody>\n",
       "    <tr>\n",
       "      <th>1260</th>\n",
       "      <td>Lenovo</td>\n",
       "      <td>2 in 1 Convertible</td>\n",
       "      <td>14.0</td>\n",
       "      <td>Intel Core i5 6200U 2.3GHz</td>\n",
       "      <td>4</td>\n",
       "      <td>128GB SSD</td>\n",
       "      <td>Intel HD Graphics 520</td>\n",
       "      <td>Windows 10</td>\n",
       "      <td>1.80</td>\n",
       "      <td>44382.7728</td>\n",
       "      <td>1</td>\n",
       "      <td>0</td>\n",
       "      <td>1920</td>\n",
       "      <td>1080</td>\n",
       "      <td>157.350512</td>\n",
       "    </tr>\n",
       "    <tr>\n",
       "      <th>872</th>\n",
       "      <td>Toshiba</td>\n",
       "      <td>Notebook</td>\n",
       "      <td>15.6</td>\n",
       "      <td>Intel Core i7 7500U 2.7GHz</td>\n",
       "      <td>8</td>\n",
       "      <td>256GB SSD</td>\n",
       "      <td>Intel HD Graphics 620</td>\n",
       "      <td>Windows 10</td>\n",
       "      <td>2.00</td>\n",
       "      <td>73952.6400</td>\n",
       "      <td>0</td>\n",
       "      <td>1</td>\n",
       "      <td>1920</td>\n",
       "      <td>1080</td>\n",
       "      <td>141.211998</td>\n",
       "    </tr>\n",
       "    <tr>\n",
       "      <th>346</th>\n",
       "      <td>HP</td>\n",
       "      <td>Notebook</td>\n",
       "      <td>14.0</td>\n",
       "      <td>Intel Celeron Dual Core N3060 1.6GHz</td>\n",
       "      <td>2</td>\n",
       "      <td>32GB Flash Storage</td>\n",
       "      <td>Intel HD Graphics 400</td>\n",
       "      <td>Windows 10</td>\n",
       "      <td>1.44</td>\n",
       "      <td>14865.1200</td>\n",
       "      <td>0</td>\n",
       "      <td>0</td>\n",
       "      <td>1366</td>\n",
       "      <td>768</td>\n",
       "      <td>111.935204</td>\n",
       "    </tr>\n",
       "    <tr>\n",
       "      <th>488</th>\n",
       "      <td>Lenovo</td>\n",
       "      <td>Ultrabook</td>\n",
       "      <td>12.5</td>\n",
       "      <td>Intel Core i7 7500U 2.7GHz</td>\n",
       "      <td>16</td>\n",
       "      <td>512GB SSD</td>\n",
       "      <td>Intel HD Graphics 620</td>\n",
       "      <td>Windows 10</td>\n",
       "      <td>1.36</td>\n",
       "      <td>95797.4400</td>\n",
       "      <td>0</td>\n",
       "      <td>1</td>\n",
       "      <td>1920</td>\n",
       "      <td>1080</td>\n",
       "      <td>176.232574</td>\n",
       "    </tr>\n",
       "  </tbody>\n",
       "</table>\n",
       "</div>"
      ],
      "text/plain": [
       "      Company            TypeName  Inches  \\\n",
       "1260   Lenovo  2 in 1 Convertible    14.0   \n",
       "872   Toshiba            Notebook    15.6   \n",
       "346        HP            Notebook    14.0   \n",
       "488    Lenovo           Ultrabook    12.5   \n",
       "\n",
       "                                       Cpu  Ram              Memory  \\\n",
       "1260            Intel Core i5 6200U 2.3GHz    4           128GB SSD   \n",
       "872             Intel Core i7 7500U 2.7GHz    8           256GB SSD   \n",
       "346   Intel Celeron Dual Core N3060 1.6GHz    2  32GB Flash Storage   \n",
       "488             Intel Core i7 7500U 2.7GHz   16           512GB SSD   \n",
       "\n",
       "                        Gpu       OpSys  Weight       Price  TouchScreen  Ips  \\\n",
       "1260  Intel HD Graphics 520  Windows 10    1.80  44382.7728            1    0   \n",
       "872   Intel HD Graphics 620  Windows 10    2.00  73952.6400            0    1   \n",
       "346   Intel HD Graphics 400  Windows 10    1.44  14865.1200            0    0   \n",
       "488   Intel HD Graphics 620  Windows 10    1.36  95797.4400            0    1   \n",
       "\n",
       "      X_res  y_res         ppi  \n",
       "1260   1920   1080  157.350512  \n",
       "872    1920   1080  141.211998  \n",
       "346    1366    768  111.935204  \n",
       "488    1920   1080  176.232574  "
      ]
     },
     "execution_count": 67,
     "metadata": {},
     "output_type": "execute_result"
    }
   ],
   "source": [
    "df.sample(4)"
   ]
  },
  {
   "cell_type": "code",
   "execution_count": 68,
   "id": "a6195032-ecf2-432b-a329-05703ea8b423",
   "metadata": {},
   "outputs": [],
   "source": [
    "df.drop(columns=['Inches', 'X_res', 'y_res'], inplace = True)"
   ]
  },
  {
   "cell_type": "code",
   "execution_count": 69,
   "id": "2912f0db-87ac-4651-b48b-cb4858ec64a8",
   "metadata": {},
   "outputs": [
    {
     "data": {
      "text/html": [
       "<div>\n",
       "<style scoped>\n",
       "    .dataframe tbody tr th:only-of-type {\n",
       "        vertical-align: middle;\n",
       "    }\n",
       "\n",
       "    .dataframe tbody tr th {\n",
       "        vertical-align: top;\n",
       "    }\n",
       "\n",
       "    .dataframe thead th {\n",
       "        text-align: right;\n",
       "    }\n",
       "</style>\n",
       "<table border=\"1\" class=\"dataframe\">\n",
       "  <thead>\n",
       "    <tr style=\"text-align: right;\">\n",
       "      <th></th>\n",
       "      <th>Company</th>\n",
       "      <th>TypeName</th>\n",
       "      <th>Cpu</th>\n",
       "      <th>Ram</th>\n",
       "      <th>Memory</th>\n",
       "      <th>Gpu</th>\n",
       "      <th>OpSys</th>\n",
       "      <th>Weight</th>\n",
       "      <th>Price</th>\n",
       "      <th>TouchScreen</th>\n",
       "      <th>Ips</th>\n",
       "      <th>ppi</th>\n",
       "    </tr>\n",
       "  </thead>\n",
       "  <tbody>\n",
       "    <tr>\n",
       "      <th>0</th>\n",
       "      <td>Apple</td>\n",
       "      <td>Ultrabook</td>\n",
       "      <td>Intel Core i5 2.3GHz</td>\n",
       "      <td>8</td>\n",
       "      <td>128GB SSD</td>\n",
       "      <td>Intel Iris Plus Graphics 640</td>\n",
       "      <td>macOS</td>\n",
       "      <td>1.37</td>\n",
       "      <td>71378.6832</td>\n",
       "      <td>0</td>\n",
       "      <td>1</td>\n",
       "      <td>226.983005</td>\n",
       "    </tr>\n",
       "    <tr>\n",
       "      <th>1</th>\n",
       "      <td>Apple</td>\n",
       "      <td>Ultrabook</td>\n",
       "      <td>Intel Core i5 1.8GHz</td>\n",
       "      <td>8</td>\n",
       "      <td>128GB Flash Storage</td>\n",
       "      <td>Intel HD Graphics 6000</td>\n",
       "      <td>macOS</td>\n",
       "      <td>1.34</td>\n",
       "      <td>47895.5232</td>\n",
       "      <td>0</td>\n",
       "      <td>0</td>\n",
       "      <td>127.677940</td>\n",
       "    </tr>\n",
       "    <tr>\n",
       "      <th>2</th>\n",
       "      <td>HP</td>\n",
       "      <td>Notebook</td>\n",
       "      <td>Intel Core i5 7200U 2.5GHz</td>\n",
       "      <td>8</td>\n",
       "      <td>256GB SSD</td>\n",
       "      <td>Intel HD Graphics 620</td>\n",
       "      <td>No OS</td>\n",
       "      <td>1.86</td>\n",
       "      <td>30636.0000</td>\n",
       "      <td>0</td>\n",
       "      <td>0</td>\n",
       "      <td>141.211998</td>\n",
       "    </tr>\n",
       "    <tr>\n",
       "      <th>3</th>\n",
       "      <td>Apple</td>\n",
       "      <td>Ultrabook</td>\n",
       "      <td>Intel Core i7 2.7GHz</td>\n",
       "      <td>16</td>\n",
       "      <td>512GB SSD</td>\n",
       "      <td>AMD Radeon Pro 455</td>\n",
       "      <td>macOS</td>\n",
       "      <td>1.83</td>\n",
       "      <td>135195.3360</td>\n",
       "      <td>0</td>\n",
       "      <td>1</td>\n",
       "      <td>220.534624</td>\n",
       "    </tr>\n",
       "    <tr>\n",
       "      <th>4</th>\n",
       "      <td>Apple</td>\n",
       "      <td>Ultrabook</td>\n",
       "      <td>Intel Core i5 3.1GHz</td>\n",
       "      <td>8</td>\n",
       "      <td>256GB SSD</td>\n",
       "      <td>Intel Iris Plus Graphics 650</td>\n",
       "      <td>macOS</td>\n",
       "      <td>1.37</td>\n",
       "      <td>96095.8080</td>\n",
       "      <td>0</td>\n",
       "      <td>1</td>\n",
       "      <td>226.983005</td>\n",
       "    </tr>\n",
       "  </tbody>\n",
       "</table>\n",
       "</div>"
      ],
      "text/plain": [
       "  Company   TypeName                         Cpu  Ram               Memory  \\\n",
       "0   Apple  Ultrabook        Intel Core i5 2.3GHz    8            128GB SSD   \n",
       "1   Apple  Ultrabook        Intel Core i5 1.8GHz    8  128GB Flash Storage   \n",
       "2      HP   Notebook  Intel Core i5 7200U 2.5GHz    8            256GB SSD   \n",
       "3   Apple  Ultrabook        Intel Core i7 2.7GHz   16            512GB SSD   \n",
       "4   Apple  Ultrabook        Intel Core i5 3.1GHz    8            256GB SSD   \n",
       "\n",
       "                            Gpu  OpSys  Weight        Price  TouchScreen  Ips  \\\n",
       "0  Intel Iris Plus Graphics 640  macOS    1.37   71378.6832            0    1   \n",
       "1        Intel HD Graphics 6000  macOS    1.34   47895.5232            0    0   \n",
       "2         Intel HD Graphics 620  No OS    1.86   30636.0000            0    0   \n",
       "3            AMD Radeon Pro 455  macOS    1.83  135195.3360            0    1   \n",
       "4  Intel Iris Plus Graphics 650  macOS    1.37   96095.8080            0    1   \n",
       "\n",
       "          ppi  \n",
       "0  226.983005  \n",
       "1  127.677940  \n",
       "2  141.211998  \n",
       "3  220.534624  \n",
       "4  226.983005  "
      ]
     },
     "execution_count": 69,
     "metadata": {},
     "output_type": "execute_result"
    }
   ],
   "source": [
    "df.head()"
   ]
  },
  {
   "cell_type": "code",
   "execution_count": 70,
   "id": "2c876787-7aa6-4ecf-a55d-90a16ab00e9b",
   "metadata": {},
   "outputs": [
    {
     "data": {
      "text/plain": [
       "Cpu\n",
       "Intel Core i5 7200U 2.5GHz       190\n",
       "Intel Core i7 7700HQ 2.8GHz      146\n",
       "Intel Core i7 7500U 2.7GHz       134\n",
       "Intel Core i7 8550U 1.8GHz        73\n",
       "Intel Core i5 8250U 1.6GHz        72\n",
       "                                ... \n",
       "Intel Core M M3-6Y30 0.9GHz        1\n",
       "AMD A9-Series 9420 2.9GHz          1\n",
       "Intel Core i3 6006U 2.2GHz         1\n",
       "AMD A6-Series 7310 2GHz            1\n",
       "Intel Xeon E3-1535M v6 3.1GHz      1\n",
       "Name: count, Length: 118, dtype: int64"
      ]
     },
     "execution_count": 70,
     "metadata": {},
     "output_type": "execute_result"
    }
   ],
   "source": [
    "df['Cpu'].value_counts()"
   ]
  },
  {
   "cell_type": "code",
   "execution_count": 71,
   "id": "c429662a-6189-4fb7-9bac-937eca057b8d",
   "metadata": {},
   "outputs": [],
   "source": [
    "df['Cpu Name' ] = df['Cpu'].apply(lambda x:\" \".join(x.split()[0:3]))"
   ]
  },
  {
   "cell_type": "code",
   "execution_count": 72,
   "id": "76d5c51f-bd8b-4bb4-b734-fd85a40b8615",
   "metadata": {},
   "outputs": [
    {
     "data": {
      "text/html": [
       "<div>\n",
       "<style scoped>\n",
       "    .dataframe tbody tr th:only-of-type {\n",
       "        vertical-align: middle;\n",
       "    }\n",
       "\n",
       "    .dataframe tbody tr th {\n",
       "        vertical-align: top;\n",
       "    }\n",
       "\n",
       "    .dataframe thead th {\n",
       "        text-align: right;\n",
       "    }\n",
       "</style>\n",
       "<table border=\"1\" class=\"dataframe\">\n",
       "  <thead>\n",
       "    <tr style=\"text-align: right;\">\n",
       "      <th></th>\n",
       "      <th>Company</th>\n",
       "      <th>TypeName</th>\n",
       "      <th>Cpu</th>\n",
       "      <th>Ram</th>\n",
       "      <th>Memory</th>\n",
       "      <th>Gpu</th>\n",
       "      <th>OpSys</th>\n",
       "      <th>Weight</th>\n",
       "      <th>Price</th>\n",
       "      <th>TouchScreen</th>\n",
       "      <th>Ips</th>\n",
       "      <th>ppi</th>\n",
       "      <th>Cpu Name</th>\n",
       "    </tr>\n",
       "  </thead>\n",
       "  <tbody>\n",
       "    <tr>\n",
       "      <th>0</th>\n",
       "      <td>Apple</td>\n",
       "      <td>Ultrabook</td>\n",
       "      <td>Intel Core i5 2.3GHz</td>\n",
       "      <td>8</td>\n",
       "      <td>128GB SSD</td>\n",
       "      <td>Intel Iris Plus Graphics 640</td>\n",
       "      <td>macOS</td>\n",
       "      <td>1.37</td>\n",
       "      <td>71378.6832</td>\n",
       "      <td>0</td>\n",
       "      <td>1</td>\n",
       "      <td>226.983005</td>\n",
       "      <td>Intel Core i5</td>\n",
       "    </tr>\n",
       "    <tr>\n",
       "      <th>1</th>\n",
       "      <td>Apple</td>\n",
       "      <td>Ultrabook</td>\n",
       "      <td>Intel Core i5 1.8GHz</td>\n",
       "      <td>8</td>\n",
       "      <td>128GB Flash Storage</td>\n",
       "      <td>Intel HD Graphics 6000</td>\n",
       "      <td>macOS</td>\n",
       "      <td>1.34</td>\n",
       "      <td>47895.5232</td>\n",
       "      <td>0</td>\n",
       "      <td>0</td>\n",
       "      <td>127.677940</td>\n",
       "      <td>Intel Core i5</td>\n",
       "    </tr>\n",
       "    <tr>\n",
       "      <th>2</th>\n",
       "      <td>HP</td>\n",
       "      <td>Notebook</td>\n",
       "      <td>Intel Core i5 7200U 2.5GHz</td>\n",
       "      <td>8</td>\n",
       "      <td>256GB SSD</td>\n",
       "      <td>Intel HD Graphics 620</td>\n",
       "      <td>No OS</td>\n",
       "      <td>1.86</td>\n",
       "      <td>30636.0000</td>\n",
       "      <td>0</td>\n",
       "      <td>0</td>\n",
       "      <td>141.211998</td>\n",
       "      <td>Intel Core i5</td>\n",
       "    </tr>\n",
       "    <tr>\n",
       "      <th>3</th>\n",
       "      <td>Apple</td>\n",
       "      <td>Ultrabook</td>\n",
       "      <td>Intel Core i7 2.7GHz</td>\n",
       "      <td>16</td>\n",
       "      <td>512GB SSD</td>\n",
       "      <td>AMD Radeon Pro 455</td>\n",
       "      <td>macOS</td>\n",
       "      <td>1.83</td>\n",
       "      <td>135195.3360</td>\n",
       "      <td>0</td>\n",
       "      <td>1</td>\n",
       "      <td>220.534624</td>\n",
       "      <td>Intel Core i7</td>\n",
       "    </tr>\n",
       "    <tr>\n",
       "      <th>4</th>\n",
       "      <td>Apple</td>\n",
       "      <td>Ultrabook</td>\n",
       "      <td>Intel Core i5 3.1GHz</td>\n",
       "      <td>8</td>\n",
       "      <td>256GB SSD</td>\n",
       "      <td>Intel Iris Plus Graphics 650</td>\n",
       "      <td>macOS</td>\n",
       "      <td>1.37</td>\n",
       "      <td>96095.8080</td>\n",
       "      <td>0</td>\n",
       "      <td>1</td>\n",
       "      <td>226.983005</td>\n",
       "      <td>Intel Core i5</td>\n",
       "    </tr>\n",
       "  </tbody>\n",
       "</table>\n",
       "</div>"
      ],
      "text/plain": [
       "  Company   TypeName                         Cpu  Ram               Memory  \\\n",
       "0   Apple  Ultrabook        Intel Core i5 2.3GHz    8            128GB SSD   \n",
       "1   Apple  Ultrabook        Intel Core i5 1.8GHz    8  128GB Flash Storage   \n",
       "2      HP   Notebook  Intel Core i5 7200U 2.5GHz    8            256GB SSD   \n",
       "3   Apple  Ultrabook        Intel Core i7 2.7GHz   16            512GB SSD   \n",
       "4   Apple  Ultrabook        Intel Core i5 3.1GHz    8            256GB SSD   \n",
       "\n",
       "                            Gpu  OpSys  Weight        Price  TouchScreen  Ips  \\\n",
       "0  Intel Iris Plus Graphics 640  macOS    1.37   71378.6832            0    1   \n",
       "1        Intel HD Graphics 6000  macOS    1.34   47895.5232            0    0   \n",
       "2         Intel HD Graphics 620  No OS    1.86   30636.0000            0    0   \n",
       "3            AMD Radeon Pro 455  macOS    1.83  135195.3360            0    1   \n",
       "4  Intel Iris Plus Graphics 650  macOS    1.37   96095.8080            0    1   \n",
       "\n",
       "          ppi       Cpu Name  \n",
       "0  226.983005  Intel Core i5  \n",
       "1  127.677940  Intel Core i5  \n",
       "2  141.211998  Intel Core i5  \n",
       "3  220.534624  Intel Core i7  \n",
       "4  226.983005  Intel Core i5  "
      ]
     },
     "execution_count": 72,
     "metadata": {},
     "output_type": "execute_result"
    }
   ],
   "source": [
    "df.head()"
   ]
  },
  {
   "cell_type": "code",
   "execution_count": 73,
   "id": "2926b57e-aa48-47f3-be45-29fdc8dcb8cc",
   "metadata": {},
   "outputs": [],
   "source": [
    "def fetch_processor(text):\n",
    "    if text == 'Intel Core i5' or text == 'Intel Core i7' or text=='Intel Core i3':\n",
    "        return text\n",
    "    else:\n",
    "        if text.split()[0]=='Intel':\n",
    "            return 'Other Intel Processor'\n",
    "        else:\n",
    "            return 'AMD Processor' "
   ]
  },
  {
   "cell_type": "code",
   "execution_count": 74,
   "id": "1553bb0d-9ba1-4c8f-93a5-44e95ef9345d",
   "metadata": {},
   "outputs": [],
   "source": [
    "df['Cpu brand'] = df['Cpu Name'].apply(fetch_processor)\n"
   ]
  },
  {
   "cell_type": "code",
   "execution_count": 75,
   "id": "fca198a1-dbdd-4cac-aad6-a879a3955a31",
   "metadata": {},
   "outputs": [
    {
     "data": {
      "text/html": [
       "<div>\n",
       "<style scoped>\n",
       "    .dataframe tbody tr th:only-of-type {\n",
       "        vertical-align: middle;\n",
       "    }\n",
       "\n",
       "    .dataframe tbody tr th {\n",
       "        vertical-align: top;\n",
       "    }\n",
       "\n",
       "    .dataframe thead th {\n",
       "        text-align: right;\n",
       "    }\n",
       "</style>\n",
       "<table border=\"1\" class=\"dataframe\">\n",
       "  <thead>\n",
       "    <tr style=\"text-align: right;\">\n",
       "      <th></th>\n",
       "      <th>Company</th>\n",
       "      <th>TypeName</th>\n",
       "      <th>Cpu</th>\n",
       "      <th>Ram</th>\n",
       "      <th>Memory</th>\n",
       "      <th>Gpu</th>\n",
       "      <th>OpSys</th>\n",
       "      <th>Weight</th>\n",
       "      <th>Price</th>\n",
       "      <th>TouchScreen</th>\n",
       "      <th>Ips</th>\n",
       "      <th>ppi</th>\n",
       "      <th>Cpu Name</th>\n",
       "      <th>Cpu brand</th>\n",
       "    </tr>\n",
       "  </thead>\n",
       "  <tbody>\n",
       "    <tr>\n",
       "      <th>0</th>\n",
       "      <td>Apple</td>\n",
       "      <td>Ultrabook</td>\n",
       "      <td>Intel Core i5 2.3GHz</td>\n",
       "      <td>8</td>\n",
       "      <td>128GB SSD</td>\n",
       "      <td>Intel Iris Plus Graphics 640</td>\n",
       "      <td>macOS</td>\n",
       "      <td>1.37</td>\n",
       "      <td>71378.6832</td>\n",
       "      <td>0</td>\n",
       "      <td>1</td>\n",
       "      <td>226.983005</td>\n",
       "      <td>Intel Core i5</td>\n",
       "      <td>Intel Core i5</td>\n",
       "    </tr>\n",
       "    <tr>\n",
       "      <th>1</th>\n",
       "      <td>Apple</td>\n",
       "      <td>Ultrabook</td>\n",
       "      <td>Intel Core i5 1.8GHz</td>\n",
       "      <td>8</td>\n",
       "      <td>128GB Flash Storage</td>\n",
       "      <td>Intel HD Graphics 6000</td>\n",
       "      <td>macOS</td>\n",
       "      <td>1.34</td>\n",
       "      <td>47895.5232</td>\n",
       "      <td>0</td>\n",
       "      <td>0</td>\n",
       "      <td>127.677940</td>\n",
       "      <td>Intel Core i5</td>\n",
       "      <td>Intel Core i5</td>\n",
       "    </tr>\n",
       "    <tr>\n",
       "      <th>2</th>\n",
       "      <td>HP</td>\n",
       "      <td>Notebook</td>\n",
       "      <td>Intel Core i5 7200U 2.5GHz</td>\n",
       "      <td>8</td>\n",
       "      <td>256GB SSD</td>\n",
       "      <td>Intel HD Graphics 620</td>\n",
       "      <td>No OS</td>\n",
       "      <td>1.86</td>\n",
       "      <td>30636.0000</td>\n",
       "      <td>0</td>\n",
       "      <td>0</td>\n",
       "      <td>141.211998</td>\n",
       "      <td>Intel Core i5</td>\n",
       "      <td>Intel Core i5</td>\n",
       "    </tr>\n",
       "    <tr>\n",
       "      <th>3</th>\n",
       "      <td>Apple</td>\n",
       "      <td>Ultrabook</td>\n",
       "      <td>Intel Core i7 2.7GHz</td>\n",
       "      <td>16</td>\n",
       "      <td>512GB SSD</td>\n",
       "      <td>AMD Radeon Pro 455</td>\n",
       "      <td>macOS</td>\n",
       "      <td>1.83</td>\n",
       "      <td>135195.3360</td>\n",
       "      <td>0</td>\n",
       "      <td>1</td>\n",
       "      <td>220.534624</td>\n",
       "      <td>Intel Core i7</td>\n",
       "      <td>Intel Core i7</td>\n",
       "    </tr>\n",
       "    <tr>\n",
       "      <th>4</th>\n",
       "      <td>Apple</td>\n",
       "      <td>Ultrabook</td>\n",
       "      <td>Intel Core i5 3.1GHz</td>\n",
       "      <td>8</td>\n",
       "      <td>256GB SSD</td>\n",
       "      <td>Intel Iris Plus Graphics 650</td>\n",
       "      <td>macOS</td>\n",
       "      <td>1.37</td>\n",
       "      <td>96095.8080</td>\n",
       "      <td>0</td>\n",
       "      <td>1</td>\n",
       "      <td>226.983005</td>\n",
       "      <td>Intel Core i5</td>\n",
       "      <td>Intel Core i5</td>\n",
       "    </tr>\n",
       "  </tbody>\n",
       "</table>\n",
       "</div>"
      ],
      "text/plain": [
       "  Company   TypeName                         Cpu  Ram               Memory  \\\n",
       "0   Apple  Ultrabook        Intel Core i5 2.3GHz    8            128GB SSD   \n",
       "1   Apple  Ultrabook        Intel Core i5 1.8GHz    8  128GB Flash Storage   \n",
       "2      HP   Notebook  Intel Core i5 7200U 2.5GHz    8            256GB SSD   \n",
       "3   Apple  Ultrabook        Intel Core i7 2.7GHz   16            512GB SSD   \n",
       "4   Apple  Ultrabook        Intel Core i5 3.1GHz    8            256GB SSD   \n",
       "\n",
       "                            Gpu  OpSys  Weight        Price  TouchScreen  Ips  \\\n",
       "0  Intel Iris Plus Graphics 640  macOS    1.37   71378.6832            0    1   \n",
       "1        Intel HD Graphics 6000  macOS    1.34   47895.5232            0    0   \n",
       "2         Intel HD Graphics 620  No OS    1.86   30636.0000            0    0   \n",
       "3            AMD Radeon Pro 455  macOS    1.83  135195.3360            0    1   \n",
       "4  Intel Iris Plus Graphics 650  macOS    1.37   96095.8080            0    1   \n",
       "\n",
       "          ppi       Cpu Name      Cpu brand  \n",
       "0  226.983005  Intel Core i5  Intel Core i5  \n",
       "1  127.677940  Intel Core i5  Intel Core i5  \n",
       "2  141.211998  Intel Core i5  Intel Core i5  \n",
       "3  220.534624  Intel Core i7  Intel Core i7  \n",
       "4  226.983005  Intel Core i5  Intel Core i5  "
      ]
     },
     "execution_count": 75,
     "metadata": {},
     "output_type": "execute_result"
    }
   ],
   "source": [
    "df.head()"
   ]
  },
  {
   "cell_type": "code",
   "execution_count": 76,
   "id": "ad650d1f-6b91-4ec0-b9f8-d750751c0b82",
   "metadata": {},
   "outputs": [
    {
     "data": {
      "text/plain": [
       "<Axes: xlabel='Cpu brand'>"
      ]
     },
     "execution_count": 76,
     "metadata": {},
     "output_type": "execute_result"
    },
    {
     "data": {
      "image/png": "[encoded data removed]",
      "text/plain": [
       "<Figure size 640x480 with 1 Axes>"
      ]
     },
     "metadata": {},
     "output_type": "display_data"
    }
   ],
   "source": [
    "df['Cpu brand'].value_counts().plot(kind='bar')"
   ]
  },
  {
   "cell_type": "code",
   "execution_count": 77,
   "id": "b4bc3fa9-a41a-4d5d-9ffd-01e339d10278",
   "metadata": {},
   "outputs": [
    {
     "data": {
      "image/png": "[encoded data removed]",
      "text/plain": [
       "<Figure size 640x480 with 1 Axes>"
      ]
     },
     "metadata": {},
     "output_type": "display_data"
    }
   ],
   "source": [
    "sns.barplot(x=df['Cpu brand'], y=df['Price'])\n",
    "plt.xticks(rotation='vertical')\n",
    "plt.show()"
   ]
  },
  {
   "cell_type": "code",
   "execution_count": 78,
   "id": "0f419702-da10-4f05-af8e-7b14f8e42b53",
   "metadata": {},
   "outputs": [],
   "source": [
    "df.drop(columns=['Cpu', 'Cpu Name'\t], inplace=True)"
   ]
  },
  {
   "cell_type": "code",
   "execution_count": 79,
   "id": "0890f8df-0697-4f75-91ec-f0068d631cc0",
   "metadata": {},
   "outputs": [
    {
     "data": {
      "text/html": [
       "<div>\n",
       "<style scoped>\n",
       "    .dataframe tbody tr th:only-of-type {\n",
       "        vertical-align: middle;\n",
       "    }\n",
       "\n",
       "    .dataframe tbody tr th {\n",
       "        vertical-align: top;\n",
       "    }\n",
       "\n",
       "    .dataframe thead th {\n",
       "        text-align: right;\n",
       "    }\n",
       "</style>\n",
       "<table border=\"1\" class=\"dataframe\">\n",
       "  <thead>\n",
       "    <tr style=\"text-align: right;\">\n",
       "      <th></th>\n",
       "      <th>Company</th>\n",
       "      <th>TypeName</th>\n",
       "      <th>Ram</th>\n",
       "      <th>Memory</th>\n",
       "      <th>Gpu</th>\n",
       "      <th>OpSys</th>\n",
       "      <th>Weight</th>\n",
       "      <th>Price</th>\n",
       "      <th>TouchScreen</th>\n",
       "      <th>Ips</th>\n",
       "      <th>ppi</th>\n",
       "      <th>Cpu brand</th>\n",
       "    </tr>\n",
       "  </thead>\n",
       "  <tbody>\n",
       "    <tr>\n",
       "      <th>0</th>\n",
       "      <td>Apple</td>\n",
       "      <td>Ultrabook</td>\n",
       "      <td>8</td>\n",
       "      <td>128GB SSD</td>\n",
       "      <td>Intel Iris Plus Graphics 640</td>\n",
       "      <td>macOS</td>\n",
       "      <td>1.37</td>\n",
       "      <td>71378.6832</td>\n",
       "      <td>0</td>\n",
       "      <td>1</td>\n",
       "      <td>226.983005</td>\n",
       "      <td>Intel Core i5</td>\n",
       "    </tr>\n",
       "    <tr>\n",
       "      <th>1</th>\n",
       "      <td>Apple</td>\n",
       "      <td>Ultrabook</td>\n",
       "      <td>8</td>\n",
       "      <td>128GB Flash Storage</td>\n",
       "      <td>Intel HD Graphics 6000</td>\n",
       "      <td>macOS</td>\n",
       "      <td>1.34</td>\n",
       "      <td>47895.5232</td>\n",
       "      <td>0</td>\n",
       "      <td>0</td>\n",
       "      <td>127.677940</td>\n",
       "      <td>Intel Core i5</td>\n",
       "    </tr>\n",
       "    <tr>\n",
       "      <th>2</th>\n",
       "      <td>HP</td>\n",
       "      <td>Notebook</td>\n",
       "      <td>8</td>\n",
       "      <td>256GB SSD</td>\n",
       "      <td>Intel HD Graphics 620</td>\n",
       "      <td>No OS</td>\n",
       "      <td>1.86</td>\n",
       "      <td>30636.0000</td>\n",
       "      <td>0</td>\n",
       "      <td>0</td>\n",
       "      <td>141.211998</td>\n",
       "      <td>Intel Core i5</td>\n",
       "    </tr>\n",
       "    <tr>\n",
       "      <th>3</th>\n",
       "      <td>Apple</td>\n",
       "      <td>Ultrabook</td>\n",
       "      <td>16</td>\n",
       "      <td>512GB SSD</td>\n",
       "      <td>AMD Radeon Pro 455</td>\n",
       "      <td>macOS</td>\n",
       "      <td>1.83</td>\n",
       "      <td>135195.3360</td>\n",
       "      <td>0</td>\n",
       "      <td>1</td>\n",
       "      <td>220.534624</td>\n",
       "      <td>Intel Core i7</td>\n",
       "    </tr>\n",
       "    <tr>\n",
       "      <th>4</th>\n",
       "      <td>Apple</td>\n",
       "      <td>Ultrabook</td>\n",
       "      <td>8</td>\n",
       "      <td>256GB SSD</td>\n",
       "      <td>Intel Iris Plus Graphics 650</td>\n",
       "      <td>macOS</td>\n",
       "      <td>1.37</td>\n",
       "      <td>96095.8080</td>\n",
       "      <td>0</td>\n",
       "      <td>1</td>\n",
       "      <td>226.983005</td>\n",
       "      <td>Intel Core i5</td>\n",
       "    </tr>\n",
       "  </tbody>\n",
       "</table>\n",
       "</div>"
      ],
      "text/plain": [
       "  Company   TypeName  Ram               Memory                           Gpu  \\\n",
       "0   Apple  Ultrabook    8            128GB SSD  Intel Iris Plus Graphics 640   \n",
       "1   Apple  Ultrabook    8  128GB Flash Storage        Intel HD Graphics 6000   \n",
       "2      HP   Notebook    8            256GB SSD         Intel HD Graphics 620   \n",
       "3   Apple  Ultrabook   16            512GB SSD            AMD Radeon Pro 455   \n",
       "4   Apple  Ultrabook    8            256GB SSD  Intel Iris Plus Graphics 650   \n",
       "\n",
       "   OpSys  Weight        Price  TouchScreen  Ips         ppi      Cpu brand  \n",
       "0  macOS    1.37   71378.6832            0    1  226.983005  Intel Core i5  \n",
       "1  macOS    1.34   47895.5232            0    0  127.677940  Intel Core i5  \n",
       "2  No OS    1.86   30636.0000            0    0  141.211998  Intel Core i5  \n",
       "3  macOS    1.83  135195.3360            0    1  220.534624  Intel Core i7  \n",
       "4  macOS    1.37   96095.8080            0    1  226.983005  Intel Core i5  "
      ]
     },
     "execution_count": 79,
     "metadata": {},
     "output_type": "execute_result"
    }
   ],
   "source": [
    "df.head()"
   ]
  },
  {
   "cell_type": "code",
   "execution_count": 80,
   "id": "c4d59099-32d2-4469-92f6-bc1a5c701bba",
   "metadata": {},
   "outputs": [
    {
     "data": {
      "text/plain": [
       "<Axes: xlabel='Ram'>"
      ]
     },
     "execution_count": 80,
     "metadata": {},
     "output_type": "execute_result"
    },
    {
     "data": {
      "image/png": "[encoded data removed]",
      "text/plain": [
       "<Figure size 640x480 with 1 Axes>"
      ]
     },
     "metadata": {},
     "output_type": "display_data"
    }
   ],
   "source": [
    "df['Ram'].value_counts().plot(kind='bar')"
   ]
  },
  {
   "cell_type": "code",
   "execution_count": 81,
   "id": "1c8ef90e-5576-4845-9289-463cdf6bbdea",
   "metadata": {},
   "outputs": [
    {
     "data": {
      "image/png": "[encoded data removed]",
      "text/plain": [
       "<Figure size 640x480 with 1 Axes>"
      ]
     },
     "metadata": {},
     "output_type": "display_data"
    }
   ],
   "source": [
    "sns.barplot(x=df['Ram'], y=df['Price'])\n",
    "plt.xticks(rotation='vertical')\n",
    "plt.show()"
   ]
  },
  {
   "cell_type": "code",
   "execution_count": 82,
   "id": "8d315287-c5b2-456c-b121-7e879561f8b3",
   "metadata": {},
   "outputs": [
    {
     "data": {
      "text/plain": [
       "Memory\n",
       "256GB SSD                        412\n",
       "1TB HDD                          223\n",
       "500GB HDD                        132\n",
       "512GB SSD                        118\n",
       "128GB SSD +  1TB HDD              94\n",
       "128GB SSD                         76\n",
       "256GB SSD +  1TB HDD              73\n",
       "32GB Flash Storage                38\n",
       "2TB HDD                           16\n",
       "64GB Flash Storage                15\n",
       "512GB SSD +  1TB HDD              14\n",
       "1TB SSD                           14\n",
       "256GB SSD +  2TB HDD              10\n",
       "1.0TB Hybrid                       9\n",
       "256GB Flash Storage                8\n",
       "16GB Flash Storage                 7\n",
       "32GB SSD                           6\n",
       "180GB SSD                          5\n",
       "128GB Flash Storage                4\n",
       "512GB SSD +  2TB HDD               3\n",
       "16GB SSD                           3\n",
       "512GB Flash Storage                2\n",
       "1TB SSD +  1TB HDD                 2\n",
       "256GB SSD +  500GB HDD             2\n",
       "128GB SSD +  2TB HDD               2\n",
       "256GB SSD +  256GB SSD             2\n",
       "512GB SSD +  256GB SSD             1\n",
       "512GB SSD +  512GB SSD             1\n",
       "64GB Flash Storage +  1TB HDD      1\n",
       "1TB HDD +  1TB HDD                 1\n",
       "32GB HDD                           1\n",
       "64GB SSD                           1\n",
       "128GB HDD                          1\n",
       "240GB SSD                          1\n",
       "8GB SSD                            1\n",
       "508GB Hybrid                       1\n",
       "1.0TB HDD                          1\n",
       "512GB SSD +  1.0TB Hybrid          1\n",
       "256GB SSD +  1.0TB Hybrid          1\n",
       "Name: count, dtype: int64"
      ]
     },
     "execution_count": 82,
     "metadata": {},
     "output_type": "execute_result"
    }
   ],
   "source": [
    "df['Memory'].value_counts()"
   ]
  },
  {
   "cell_type": "code",
   "execution_count": 83,
   "id": "9816722e-6221-4cdb-a2a9-1855307257fb",
   "metadata": {},
   "outputs": [
    {
     "data": {
      "text/html": [
       "<div>\n",
       "<style scoped>\n",
       "    .dataframe tbody tr th:only-of-type {\n",
       "        vertical-align: middle;\n",
       "    }\n",
       "\n",
       "    .dataframe tbody tr th {\n",
       "        vertical-align: top;\n",
       "    }\n",
       "\n",
       "    .dataframe thead th {\n",
       "        text-align: right;\n",
       "    }\n",
       "</style>\n",
       "<table border=\"1\" class=\"dataframe\">\n",
       "  <thead>\n",
       "    <tr style=\"text-align: right;\">\n",
       "      <th></th>\n",
       "      <th>Company</th>\n",
       "      <th>TypeName</th>\n",
       "      <th>Ram</th>\n",
       "      <th>Memory</th>\n",
       "      <th>Gpu</th>\n",
       "      <th>OpSys</th>\n",
       "      <th>Weight</th>\n",
       "      <th>Price</th>\n",
       "      <th>TouchScreen</th>\n",
       "      <th>Ips</th>\n",
       "      <th>ppi</th>\n",
       "      <th>Cpu brand</th>\n",
       "    </tr>\n",
       "  </thead>\n",
       "  <tbody>\n",
       "    <tr>\n",
       "      <th>0</th>\n",
       "      <td>Apple</td>\n",
       "      <td>Ultrabook</td>\n",
       "      <td>8</td>\n",
       "      <td>128GB SSD</td>\n",
       "      <td>Intel Iris Plus Graphics 640</td>\n",
       "      <td>macOS</td>\n",
       "      <td>1.37</td>\n",
       "      <td>71378.6832</td>\n",
       "      <td>0</td>\n",
       "      <td>1</td>\n",
       "      <td>226.983005</td>\n",
       "      <td>Intel Core i5</td>\n",
       "    </tr>\n",
       "    <tr>\n",
       "      <th>1</th>\n",
       "      <td>Apple</td>\n",
       "      <td>Ultrabook</td>\n",
       "      <td>8</td>\n",
       "      <td>128GB Flash Storage</td>\n",
       "      <td>Intel HD Graphics 6000</td>\n",
       "      <td>macOS</td>\n",
       "      <td>1.34</td>\n",
       "      <td>47895.5232</td>\n",
       "      <td>0</td>\n",
       "      <td>0</td>\n",
       "      <td>127.677940</td>\n",
       "      <td>Intel Core i5</td>\n",
       "    </tr>\n",
       "    <tr>\n",
       "      <th>2</th>\n",
       "      <td>HP</td>\n",
       "      <td>Notebook</td>\n",
       "      <td>8</td>\n",
       "      <td>256GB SSD</td>\n",
       "      <td>Intel HD Graphics 620</td>\n",
       "      <td>No OS</td>\n",
       "      <td>1.86</td>\n",
       "      <td>30636.0000</td>\n",
       "      <td>0</td>\n",
       "      <td>0</td>\n",
       "      <td>141.211998</td>\n",
       "      <td>Intel Core i5</td>\n",
       "    </tr>\n",
       "    <tr>\n",
       "      <th>3</th>\n",
       "      <td>Apple</td>\n",
       "      <td>Ultrabook</td>\n",
       "      <td>16</td>\n",
       "      <td>512GB SSD</td>\n",
       "      <td>AMD Radeon Pro 455</td>\n",
       "      <td>macOS</td>\n",
       "      <td>1.83</td>\n",
       "      <td>135195.3360</td>\n",
       "      <td>0</td>\n",
       "      <td>1</td>\n",
       "      <td>220.534624</td>\n",
       "      <td>Intel Core i7</td>\n",
       "    </tr>\n",
       "    <tr>\n",
       "      <th>4</th>\n",
       "      <td>Apple</td>\n",
       "      <td>Ultrabook</td>\n",
       "      <td>8</td>\n",
       "      <td>256GB SSD</td>\n",
       "      <td>Intel Iris Plus Graphics 650</td>\n",
       "      <td>macOS</td>\n",
       "      <td>1.37</td>\n",
       "      <td>96095.8080</td>\n",
       "      <td>0</td>\n",
       "      <td>1</td>\n",
       "      <td>226.983005</td>\n",
       "      <td>Intel Core i5</td>\n",
       "    </tr>\n",
       "  </tbody>\n",
       "</table>\n",
       "</div>"
      ],
      "text/plain": [
       "  Company   TypeName  Ram               Memory                           Gpu  \\\n",
       "0   Apple  Ultrabook    8            128GB SSD  Intel Iris Plus Graphics 640   \n",
       "1   Apple  Ultrabook    8  128GB Flash Storage        Intel HD Graphics 6000   \n",
       "2      HP   Notebook    8            256GB SSD         Intel HD Graphics 620   \n",
       "3   Apple  Ultrabook   16            512GB SSD            AMD Radeon Pro 455   \n",
       "4   Apple  Ultrabook    8            256GB SSD  Intel Iris Plus Graphics 650   \n",
       "\n",
       "   OpSys  Weight        Price  TouchScreen  Ips         ppi      Cpu brand  \n",
       "0  macOS    1.37   71378.6832            0    1  226.983005  Intel Core i5  \n",
       "1  macOS    1.34   47895.5232            0    0  127.677940  Intel Core i5  \n",
       "2  No OS    1.86   30636.0000            0    0  141.211998  Intel Core i5  \n",
       "3  macOS    1.83  135195.3360            0    1  220.534624  Intel Core i7  \n",
       "4  macOS    1.37   96095.8080            0    1  226.983005  Intel Core i5  "
      ]
     },
     "execution_count": 83,
     "metadata": {},
     "output_type": "execute_result"
    }
   ],
   "source": [
    "df.head()"
   ]
  },
  {
   "cell_type": "code",
   "execution_count": 84,
   "id": "f0bd3127-6820-4f97-8e2b-3b4bf00dd047",
   "metadata": {},
   "outputs": [
    {
     "name": "stderr",
     "output_type": "stream",
     "text": [
      "/var/folders/t0/ncmtzwpn3dq69xpnbygy3q5c0000gn/T/ipykernel_4045/2598281582.py:5: FutureWarning: A value is trying to be set on a copy of a DataFrame or Series through chained assignment using an inplace method.\n",
      "The behavior will change in pandas 3.0. This inplace method will never work because the intermediate object on which we are setting values always behaves as a copy.\n",
      "\n",
      "For example, when doing 'df[col].method(value, inplace=True)', try using 'df.method({col: value}, inplace=True)' or df[col] = df[col].method(value) instead, to perform the operation inplace on the original object.\n",
      "\n",
      "\n",
      "  df[\"second\"].fillna(\"0\", inplace=True)\n",
      "/var/folders/t0/ncmtzwpn3dq69xpnbygy3q5c0000gn/T/ipykernel_4045/2598281582.py:6: FutureWarning: A value is trying to be set on a copy of a DataFrame or Series through chained assignment using an inplace method.\n",
      "The behavior will change in pandas 3.0. This inplace method will never work because the intermediate object on which we are setting values always behaves as a copy.\n",
      "\n",
      "For example, when doing 'df[col].method(value, inplace=True)', try using 'df.method({col: value}, inplace=True)' or df[col] = df[col].method(value) instead, to perform the operation inplace on the original object.\n",
      "\n",
      "\n",
      "  df[\"first\"].fillna(\"0\", inplace=True)  # Add this!\n",
      "/var/folders/t0/ncmtzwpn3dq69xpnbygy3q5c0000gn/T/ipykernel_4045/2598281582.py:23: FutureWarning: A value is trying to be set on a copy of a DataFrame or Series through chained assignment using an inplace method.\n",
      "The behavior will change in pandas 3.0. This inplace method will never work because the intermediate object on which we are setting values always behaves as a copy.\n",
      "\n",
      "For example, when doing 'df[col].method(value, inplace=True)', try using 'df.method({col: value}, inplace=True)' or df[col] = df[col].method(value) instead, to perform the operation inplace on the original object.\n",
      "\n",
      "\n",
      "  df[\"first\"].replace(\"\", \"0\", inplace=True)  # Fill empty with zero before astype\n",
      "/var/folders/t0/ncmtzwpn3dq69xpnbygy3q5c0000gn/T/ipykernel_4045/2598281582.py:24: FutureWarning: A value is trying to be set on a copy of a DataFrame or Series through chained assignment using an inplace method.\n",
      "The behavior will change in pandas 3.0. This inplace method will never work because the intermediate object on which we are setting values always behaves as a copy.\n",
      "\n",
      "For example, when doing 'df[col].method(value, inplace=True)', try using 'df.method({col: value}, inplace=True)' or df[col] = df[col].method(value) instead, to perform the operation inplace on the original object.\n",
      "\n",
      "\n",
      "  df[\"second\"].replace(\"\", \"0\", inplace=True)\n"
     ]
    }
   ],
   "source": [
    "# After your split\n",
    "new = df[\"Memory\"].str.split(\"+\", n=1, expand=True)\n",
    "df[\"first\"] = new[0].str.strip()\n",
    "df[\"second\"] = new[1].str.strip() if new.shape[1] > 1 else \"\"\n",
    "df[\"second\"].fillna(\"0\", inplace=True)\n",
    "df[\"first\"].fillna(\"0\", inplace=True)  # Add this!\n",
    "\n",
    "# The rest of your replacements and conversions\n",
    "df[\"Layer1HDD\"] = df[\"first\"].apply(lambda x: 1 if \"HDD\" in x else 0)\n",
    "df[\"Layer1SSD\"] = df[\"first\"].apply(lambda x: 1 if \"SSD\" in x else 0)\n",
    "df[\"Layer1Hybrid\"] = df[\"first\"].apply(lambda x: 1 if \"Hybrid\" in x else 0)\n",
    "df[\"Layer1Flash_Storage\"] = df[\"first\"].apply(lambda x: 1 if \"Flash Storage\" in x else 0)\n",
    "\n",
    "df[\"Layer2HDD\"] = df[\"second\"].apply(lambda x: 1 if \"HDD\" in x else 0)\n",
    "df[\"Layer2SSD\"] = df[\"second\"].apply(lambda x: 1 if \"SSD\" in x else 0)\n",
    "df[\"Layer2Hybrid\"] = df[\"second\"].apply(lambda x: 1 if \"Hybrid\" in x else 0)\n",
    "df[\"Layer2Flash_Storage\"] = df[\"second\"].apply(lambda x: 1 if \"Flash Storage\" in x else 0)\n",
    "\n",
    "\n",
    "df['first'] = df['first'].str.replace(r'\\D', '', regex=True)\n",
    "df[\"second\"] = df[\"second\"].str.replace(r'\\D', '', regex=True)\n",
    "\n",
    "df[\"first\"].replace(\"\", \"0\", inplace=True)  # Fill empty with zero before astype\n",
    "df[\"second\"].replace(\"\", \"0\", inplace=True)\n",
    "\n",
    "df[\"first\"] = df[\"first\"].astype(int)\n",
    "df[\"second\"] = df[\"second\"].astype(int)\n",
    "\n",
    "df[\"HDD\"] = df[\"first\"]*df[\"Layer1HDD\"] + df[\"second\"]*df[\"Layer2HDD\"]\n",
    "df[\"SSD\"] = df[\"first\"]*df[\"Layer1SSD\"] + df[\"second\"]*df[\"Layer2SSD\"]\n",
    "df[\"Hybrid\"] = df[\"first\"]*df[\"Layer1Hybrid\"] + df[\"second\"]*df[\"Layer2Hybrid\"]\n",
    "df[\"Flash_Storage\"] = df[\"first\"]*df[\"Layer1Flash_Storage\"] + df[\"second\"]*df[\"Layer2Flash_Storage\"]\n",
    "\n",
    "df.drop(columns=['first', 'second', 'Layer1HDD', 'Layer1SSD', 'Layer1Hybrid',\n",
    "       'Layer1Flash_Storage', 'Layer2HDD', 'Layer2SSD', 'Layer2Hybrid',\n",
    "       'Layer2Flash_Storage'],inplace=True)"
   ]
  },
  {
   "cell_type": "code",
   "execution_count": 85,
   "id": "4e3e9eda-277e-4e22-a670-1008d89f75d0",
   "metadata": {},
   "outputs": [
    {
     "data": {
      "text/html": [
       "<div>\n",
       "<style scoped>\n",
       "    .dataframe tbody tr th:only-of-type {\n",
       "        vertical-align: middle;\n",
       "    }\n",
       "\n",
       "    .dataframe tbody tr th {\n",
       "        vertical-align: top;\n",
       "    }\n",
       "\n",
       "    .dataframe thead th {\n",
       "        text-align: right;\n",
       "    }\n",
       "</style>\n",
       "<table border=\"1\" class=\"dataframe\">\n",
       "  <thead>\n",
       "    <tr style=\"text-align: right;\">\n",
       "      <th></th>\n",
       "      <th>Company</th>\n",
       "      <th>TypeName</th>\n",
       "      <th>Ram</th>\n",
       "      <th>Memory</th>\n",
       "      <th>Gpu</th>\n",
       "      <th>OpSys</th>\n",
       "      <th>Weight</th>\n",
       "      <th>Price</th>\n",
       "      <th>TouchScreen</th>\n",
       "      <th>Ips</th>\n",
       "      <th>ppi</th>\n",
       "      <th>Cpu brand</th>\n",
       "      <th>HDD</th>\n",
       "      <th>SSD</th>\n",
       "      <th>Hybrid</th>\n",
       "      <th>Flash_Storage</th>\n",
       "    </tr>\n",
       "  </thead>\n",
       "  <tbody>\n",
       "    <tr>\n",
       "      <th>0</th>\n",
       "      <td>Apple</td>\n",
       "      <td>Ultrabook</td>\n",
       "      <td>8</td>\n",
       "      <td>128GB SSD</td>\n",
       "      <td>Intel Iris Plus Graphics 640</td>\n",
       "      <td>macOS</td>\n",
       "      <td>1.37</td>\n",
       "      <td>71378.6832</td>\n",
       "      <td>0</td>\n",
       "      <td>1</td>\n",
       "      <td>226.983005</td>\n",
       "      <td>Intel Core i5</td>\n",
       "      <td>0</td>\n",
       "      <td>128</td>\n",
       "      <td>0</td>\n",
       "      <td>0</td>\n",
       "    </tr>\n",
       "    <tr>\n",
       "      <th>1</th>\n",
       "      <td>Apple</td>\n",
       "      <td>Ultrabook</td>\n",
       "      <td>8</td>\n",
       "      <td>128GB Flash Storage</td>\n",
       "      <td>Intel HD Graphics 6000</td>\n",
       "      <td>macOS</td>\n",
       "      <td>1.34</td>\n",
       "      <td>47895.5232</td>\n",
       "      <td>0</td>\n",
       "      <td>0</td>\n",
       "      <td>127.677940</td>\n",
       "      <td>Intel Core i5</td>\n",
       "      <td>0</td>\n",
       "      <td>0</td>\n",
       "      <td>0</td>\n",
       "      <td>128</td>\n",
       "    </tr>\n",
       "    <tr>\n",
       "      <th>2</th>\n",
       "      <td>HP</td>\n",
       "      <td>Notebook</td>\n",
       "      <td>8</td>\n",
       "      <td>256GB SSD</td>\n",
       "      <td>Intel HD Graphics 620</td>\n",
       "      <td>No OS</td>\n",
       "      <td>1.86</td>\n",
       "      <td>30636.0000</td>\n",
       "      <td>0</td>\n",
       "      <td>0</td>\n",
       "      <td>141.211998</td>\n",
       "      <td>Intel Core i5</td>\n",
       "      <td>0</td>\n",
       "      <td>256</td>\n",
       "      <td>0</td>\n",
       "      <td>0</td>\n",
       "    </tr>\n",
       "    <tr>\n",
       "      <th>3</th>\n",
       "      <td>Apple</td>\n",
       "      <td>Ultrabook</td>\n",
       "      <td>16</td>\n",
       "      <td>512GB SSD</td>\n",
       "      <td>AMD Radeon Pro 455</td>\n",
       "      <td>macOS</td>\n",
       "      <td>1.83</td>\n",
       "      <td>135195.3360</td>\n",
       "      <td>0</td>\n",
       "      <td>1</td>\n",
       "      <td>220.534624</td>\n",
       "      <td>Intel Core i7</td>\n",
       "      <td>0</td>\n",
       "      <td>512</td>\n",
       "      <td>0</td>\n",
       "      <td>0</td>\n",
       "    </tr>\n",
       "    <tr>\n",
       "      <th>4</th>\n",
       "      <td>Apple</td>\n",
       "      <td>Ultrabook</td>\n",
       "      <td>8</td>\n",
       "      <td>256GB SSD</td>\n",
       "      <td>Intel Iris Plus Graphics 650</td>\n",
       "      <td>macOS</td>\n",
       "      <td>1.37</td>\n",
       "      <td>96095.8080</td>\n",
       "      <td>0</td>\n",
       "      <td>1</td>\n",
       "      <td>226.983005</td>\n",
       "      <td>Intel Core i5</td>\n",
       "      <td>0</td>\n",
       "      <td>256</td>\n",
       "      <td>0</td>\n",
       "      <td>0</td>\n",
       "    </tr>\n",
       "  </tbody>\n",
       "</table>\n",
       "</div>"
      ],
      "text/plain": [
       "  Company   TypeName  Ram               Memory                           Gpu  \\\n",
       "0   Apple  Ultrabook    8            128GB SSD  Intel Iris Plus Graphics 640   \n",
       "1   Apple  Ultrabook    8  128GB Flash Storage        Intel HD Graphics 6000   \n",
       "2      HP   Notebook    8            256GB SSD         Intel HD Graphics 620   \n",
       "3   Apple  Ultrabook   16            512GB SSD            AMD Radeon Pro 455   \n",
       "4   Apple  Ultrabook    8            256GB SSD  Intel Iris Plus Graphics 650   \n",
       "\n",
       "   OpSys  Weight        Price  TouchScreen  Ips         ppi      Cpu brand  \\\n",
       "0  macOS    1.37   71378.6832            0    1  226.983005  Intel Core i5   \n",
       "1  macOS    1.34   47895.5232            0    0  127.677940  Intel Core i5   \n",
       "2  No OS    1.86   30636.0000            0    0  141.211998  Intel Core i5   \n",
       "3  macOS    1.83  135195.3360            0    1  220.534624  Intel Core i7   \n",
       "4  macOS    1.37   96095.8080            0    1  226.983005  Intel Core i5   \n",
       "\n",
       "   HDD  SSD  Hybrid  Flash_Storage  \n",
       "0    0  128       0              0  \n",
       "1    0    0       0            128  \n",
       "2    0  256       0              0  \n",
       "3    0  512       0              0  \n",
       "4    0  256       0              0  "
      ]
     },
     "execution_count": 85,
     "metadata": {},
     "output_type": "execute_result"
    }
   ],
   "source": [
    "df.head()"
   ]
  },
  {
   "cell_type": "code",
   "execution_count": 86,
   "id": "a98a3307-a660-4472-8eba-f2903aea65dc",
   "metadata": {},
   "outputs": [],
   "source": [
    "df.drop(columns=['Memory'], inplace=True)"
   ]
  },
  {
   "cell_type": "code",
   "execution_count": 87,
   "id": "5ef0e33d-f186-40ea-85e3-8a1788c80add",
   "metadata": {},
   "outputs": [
    {
     "data": {
      "text/html": [
       "<div>\n",
       "<style scoped>\n",
       "    .dataframe tbody tr th:only-of-type {\n",
       "        vertical-align: middle;\n",
       "    }\n",
       "\n",
       "    .dataframe tbody tr th {\n",
       "        vertical-align: top;\n",
       "    }\n",
       "\n",
       "    .dataframe thead th {\n",
       "        text-align: right;\n",
       "    }\n",
       "</style>\n",
       "<table border=\"1\" class=\"dataframe\">\n",
       "  <thead>\n",
       "    <tr style=\"text-align: right;\">\n",
       "      <th></th>\n",
       "      <th>Company</th>\n",
       "      <th>TypeName</th>\n",
       "      <th>Ram</th>\n",
       "      <th>Gpu</th>\n",
       "      <th>OpSys</th>\n",
       "      <th>Weight</th>\n",
       "      <th>Price</th>\n",
       "      <th>TouchScreen</th>\n",
       "      <th>Ips</th>\n",
       "      <th>ppi</th>\n",
       "      <th>Cpu brand</th>\n",
       "      <th>HDD</th>\n",
       "      <th>SSD</th>\n",
       "      <th>Hybrid</th>\n",
       "      <th>Flash_Storage</th>\n",
       "    </tr>\n",
       "  </thead>\n",
       "  <tbody>\n",
       "    <tr>\n",
       "      <th>0</th>\n",
       "      <td>Apple</td>\n",
       "      <td>Ultrabook</td>\n",
       "      <td>8</td>\n",
       "      <td>Intel Iris Plus Graphics 640</td>\n",
       "      <td>macOS</td>\n",
       "      <td>1.37</td>\n",
       "      <td>71378.6832</td>\n",
       "      <td>0</td>\n",
       "      <td>1</td>\n",
       "      <td>226.983005</td>\n",
       "      <td>Intel Core i5</td>\n",
       "      <td>0</td>\n",
       "      <td>128</td>\n",
       "      <td>0</td>\n",
       "      <td>0</td>\n",
       "    </tr>\n",
       "    <tr>\n",
       "      <th>1</th>\n",
       "      <td>Apple</td>\n",
       "      <td>Ultrabook</td>\n",
       "      <td>8</td>\n",
       "      <td>Intel HD Graphics 6000</td>\n",
       "      <td>macOS</td>\n",
       "      <td>1.34</td>\n",
       "      <td>47895.5232</td>\n",
       "      <td>0</td>\n",
       "      <td>0</td>\n",
       "      <td>127.677940</td>\n",
       "      <td>Intel Core i5</td>\n",
       "      <td>0</td>\n",
       "      <td>0</td>\n",
       "      <td>0</td>\n",
       "      <td>128</td>\n",
       "    </tr>\n",
       "    <tr>\n",
       "      <th>2</th>\n",
       "      <td>HP</td>\n",
       "      <td>Notebook</td>\n",
       "      <td>8</td>\n",
       "      <td>Intel HD Graphics 620</td>\n",
       "      <td>No OS</td>\n",
       "      <td>1.86</td>\n",
       "      <td>30636.0000</td>\n",
       "      <td>0</td>\n",
       "      <td>0</td>\n",
       "      <td>141.211998</td>\n",
       "      <td>Intel Core i5</td>\n",
       "      <td>0</td>\n",
       "      <td>256</td>\n",
       "      <td>0</td>\n",
       "      <td>0</td>\n",
       "    </tr>\n",
       "    <tr>\n",
       "      <th>3</th>\n",
       "      <td>Apple</td>\n",
       "      <td>Ultrabook</td>\n",
       "      <td>16</td>\n",
       "      <td>AMD Radeon Pro 455</td>\n",
       "      <td>macOS</td>\n",
       "      <td>1.83</td>\n",
       "      <td>135195.3360</td>\n",
       "      <td>0</td>\n",
       "      <td>1</td>\n",
       "      <td>220.534624</td>\n",
       "      <td>Intel Core i7</td>\n",
       "      <td>0</td>\n",
       "      <td>512</td>\n",
       "      <td>0</td>\n",
       "      <td>0</td>\n",
       "    </tr>\n",
       "    <tr>\n",
       "      <th>4</th>\n",
       "      <td>Apple</td>\n",
       "      <td>Ultrabook</td>\n",
       "      <td>8</td>\n",
       "      <td>Intel Iris Plus Graphics 650</td>\n",
       "      <td>macOS</td>\n",
       "      <td>1.37</td>\n",
       "      <td>96095.8080</td>\n",
       "      <td>0</td>\n",
       "      <td>1</td>\n",
       "      <td>226.983005</td>\n",
       "      <td>Intel Core i5</td>\n",
       "      <td>0</td>\n",
       "      <td>256</td>\n",
       "      <td>0</td>\n",
       "      <td>0</td>\n",
       "    </tr>\n",
       "  </tbody>\n",
       "</table>\n",
       "</div>"
      ],
      "text/plain": [
       "  Company   TypeName  Ram                           Gpu  OpSys  Weight  \\\n",
       "0   Apple  Ultrabook    8  Intel Iris Plus Graphics 640  macOS    1.37   \n",
       "1   Apple  Ultrabook    8        Intel HD Graphics 6000  macOS    1.34   \n",
       "2      HP   Notebook    8         Intel HD Graphics 620  No OS    1.86   \n",
       "3   Apple  Ultrabook   16            AMD Radeon Pro 455  macOS    1.83   \n",
       "4   Apple  Ultrabook    8  Intel Iris Plus Graphics 650  macOS    1.37   \n",
       "\n",
       "         Price  TouchScreen  Ips         ppi      Cpu brand  HDD  SSD  Hybrid  \\\n",
       "0   71378.6832            0    1  226.983005  Intel Core i5    0  128       0   \n",
       "1   47895.5232            0    0  127.677940  Intel Core i5    0    0       0   \n",
       "2   30636.0000            0    0  141.211998  Intel Core i5    0  256       0   \n",
       "3  135195.3360            0    1  220.534624  Intel Core i7    0  512       0   \n",
       "4   96095.8080            0    1  226.983005  Intel Core i5    0  256       0   \n",
       "\n",
       "   Flash_Storage  \n",
       "0              0  \n",
       "1            128  \n",
       "2              0  \n",
       "3              0  \n",
       "4              0  "
      ]
     },
     "execution_count": 87,
     "metadata": {},
     "output_type": "execute_result"
    }
   ],
   "source": [
    "df.head()"
   ]
  },
  {
   "cell_type": "code",
   "execution_count": 88,
   "id": "e1a77c73-1ef6-4a79-bd64-1818d148ac21",
   "metadata": {},
   "outputs": [
    {
     "data": {
      "text/plain": [
       "Ram              0.743007\n",
       "Weight           0.210370\n",
       "Price            1.000000\n",
       "TouchScreen      0.191226\n",
       "Ips              0.252208\n",
       "ppi              0.473487\n",
       "HDD             -0.234935\n",
       "SSD              0.547358\n",
       "Hybrid          -0.004244\n",
       "Flash_Storage   -0.040511\n",
       "Name: Price, dtype: float64"
      ]
     },
     "execution_count": 88,
     "metadata": {},
     "output_type": "execute_result"
    }
   ],
   "source": [
    "df.corr(numeric_only=True)['Price']"
   ]
  },
  {
   "cell_type": "code",
   "execution_count": 89,
   "id": "96877f06-88ff-47b2-bfd6-f5d61e4e6106",
   "metadata": {},
   "outputs": [],
   "source": [
    "df.drop(columns=['Hybrid', 'Flash_Storage'], inplace=True)"
   ]
  },
  {
   "cell_type": "code",
   "execution_count": 90,
   "id": "2a1ae2ee-5dec-452a-9a7c-31b72e548cce",
   "metadata": {},
   "outputs": [
    {
     "data": {
      "text/html": [
       "<div>\n",
       "<style scoped>\n",
       "    .dataframe tbody tr th:only-of-type {\n",
       "        vertical-align: middle;\n",
       "    }\n",
       "\n",
       "    .dataframe tbody tr th {\n",
       "        vertical-align: top;\n",
       "    }\n",
       "\n",
       "    .dataframe thead th {\n",
       "        text-align: right;\n",
       "    }\n",
       "</style>\n",
       "<table border=\"1\" class=\"dataframe\">\n",
       "  <thead>\n",
       "    <tr style=\"text-align: right;\">\n",
       "      <th></th>\n",
       "      <th>Company</th>\n",
       "      <th>TypeName</th>\n",
       "      <th>Ram</th>\n",
       "      <th>Gpu</th>\n",
       "      <th>OpSys</th>\n",
       "      <th>Weight</th>\n",
       "      <th>Price</th>\n",
       "      <th>TouchScreen</th>\n",
       "      <th>Ips</th>\n",
       "      <th>ppi</th>\n",
       "      <th>Cpu brand</th>\n",
       "      <th>HDD</th>\n",
       "      <th>SSD</th>\n",
       "    </tr>\n",
       "  </thead>\n",
       "  <tbody>\n",
       "    <tr>\n",
       "      <th>0</th>\n",
       "      <td>Apple</td>\n",
       "      <td>Ultrabook</td>\n",
       "      <td>8</td>\n",
       "      <td>Intel Iris Plus Graphics 640</td>\n",
       "      <td>macOS</td>\n",
       "      <td>1.37</td>\n",
       "      <td>71378.6832</td>\n",
       "      <td>0</td>\n",
       "      <td>1</td>\n",
       "      <td>226.983005</td>\n",
       "      <td>Intel Core i5</td>\n",
       "      <td>0</td>\n",
       "      <td>128</td>\n",
       "    </tr>\n",
       "    <tr>\n",
       "      <th>1</th>\n",
       "      <td>Apple</td>\n",
       "      <td>Ultrabook</td>\n",
       "      <td>8</td>\n",
       "      <td>Intel HD Graphics 6000</td>\n",
       "      <td>macOS</td>\n",
       "      <td>1.34</td>\n",
       "      <td>47895.5232</td>\n",
       "      <td>0</td>\n",
       "      <td>0</td>\n",
       "      <td>127.677940</td>\n",
       "      <td>Intel Core i5</td>\n",
       "      <td>0</td>\n",
       "      <td>0</td>\n",
       "    </tr>\n",
       "    <tr>\n",
       "      <th>2</th>\n",
       "      <td>HP</td>\n",
       "      <td>Notebook</td>\n",
       "      <td>8</td>\n",
       "      <td>Intel HD Graphics 620</td>\n",
       "      <td>No OS</td>\n",
       "      <td>1.86</td>\n",
       "      <td>30636.0000</td>\n",
       "      <td>0</td>\n",
       "      <td>0</td>\n",
       "      <td>141.211998</td>\n",
       "      <td>Intel Core i5</td>\n",
       "      <td>0</td>\n",
       "      <td>256</td>\n",
       "    </tr>\n",
       "    <tr>\n",
       "      <th>3</th>\n",
       "      <td>Apple</td>\n",
       "      <td>Ultrabook</td>\n",
       "      <td>16</td>\n",
       "      <td>AMD Radeon Pro 455</td>\n",
       "      <td>macOS</td>\n",
       "      <td>1.83</td>\n",
       "      <td>135195.3360</td>\n",
       "      <td>0</td>\n",
       "      <td>1</td>\n",
       "      <td>220.534624</td>\n",
       "      <td>Intel Core i7</td>\n",
       "      <td>0</td>\n",
       "      <td>512</td>\n",
       "    </tr>\n",
       "    <tr>\n",
       "      <th>4</th>\n",
       "      <td>Apple</td>\n",
       "      <td>Ultrabook</td>\n",
       "      <td>8</td>\n",
       "      <td>Intel Iris Plus Graphics 650</td>\n",
       "      <td>macOS</td>\n",
       "      <td>1.37</td>\n",
       "      <td>96095.8080</td>\n",
       "      <td>0</td>\n",
       "      <td>1</td>\n",
       "      <td>226.983005</td>\n",
       "      <td>Intel Core i5</td>\n",
       "      <td>0</td>\n",
       "      <td>256</td>\n",
       "    </tr>\n",
       "  </tbody>\n",
       "</table>\n",
       "</div>"
      ],
      "text/plain": [
       "  Company   TypeName  Ram                           Gpu  OpSys  Weight  \\\n",
       "0   Apple  Ultrabook    8  Intel Iris Plus Graphics 640  macOS    1.37   \n",
       "1   Apple  Ultrabook    8        Intel HD Graphics 6000  macOS    1.34   \n",
       "2      HP   Notebook    8         Intel HD Graphics 620  No OS    1.86   \n",
       "3   Apple  Ultrabook   16            AMD Radeon Pro 455  macOS    1.83   \n",
       "4   Apple  Ultrabook    8  Intel Iris Plus Graphics 650  macOS    1.37   \n",
       "\n",
       "         Price  TouchScreen  Ips         ppi      Cpu brand  HDD  SSD  \n",
       "0   71378.6832            0    1  226.983005  Intel Core i5    0  128  \n",
       "1   47895.5232            0    0  127.677940  Intel Core i5    0    0  \n",
       "2   30636.0000            0    0  141.211998  Intel Core i5    0  256  \n",
       "3  135195.3360            0    1  220.534624  Intel Core i7    0  512  \n",
       "4   96095.8080            0    1  226.983005  Intel Core i5    0  256  "
      ]
     },
     "execution_count": 90,
     "metadata": {},
     "output_type": "execute_result"
    }
   ],
   "source": [
    "df.head()\n"
   ]
  },
  {
   "cell_type": "code",
   "execution_count": 91,
   "id": "57643c79-85d5-49b6-a0cf-d1b8d7a0a7ef",
   "metadata": {},
   "outputs": [
    {
     "data": {
      "text/plain": [
       "Gpu\n",
       "Intel HD Graphics 620      281\n",
       "Intel HD Graphics 520      185\n",
       "Intel UHD Graphics 620      68\n",
       "Nvidia GeForce GTX 1050     66\n",
       "Nvidia GeForce GTX 1060     48\n",
       "                          ... \n",
       "AMD Radeon R5 520            1\n",
       "AMD Radeon R7                1\n",
       "Intel HD Graphics 540        1\n",
       "AMD Radeon 540               1\n",
       "ARM Mali T860 MP4            1\n",
       "Name: count, Length: 110, dtype: int64"
      ]
     },
     "execution_count": 91,
     "metadata": {},
     "output_type": "execute_result"
    }
   ],
   "source": [
    "df['Gpu'].value_counts()"
   ]
  },
  {
   "cell_type": "code",
   "execution_count": 92,
   "id": "34e4b02f-973b-42af-9e9b-9b0db04d1d1f",
   "metadata": {},
   "outputs": [],
   "source": [
    "df['Gpu brand'] = df['Gpu'].apply(lambda x: x.split()[0])"
   ]
  },
  {
   "cell_type": "code",
   "execution_count": 93,
   "id": "e66d4223-ec64-47dd-b41c-c3419c1851b7",
   "metadata": {},
   "outputs": [
    {
     "data": {
      "text/html": [
       "<div>\n",
       "<style scoped>\n",
       "    .dataframe tbody tr th:only-of-type {\n",
       "        vertical-align: middle;\n",
       "    }\n",
       "\n",
       "    .dataframe tbody tr th {\n",
       "        vertical-align: top;\n",
       "    }\n",
       "\n",
       "    .dataframe thead th {\n",
       "        text-align: right;\n",
       "    }\n",
       "</style>\n",
       "<table border=\"1\" class=\"dataframe\">\n",
       "  <thead>\n",
       "    <tr style=\"text-align: right;\">\n",
       "      <th></th>\n",
       "      <th>Company</th>\n",
       "      <th>TypeName</th>\n",
       "      <th>Ram</th>\n",
       "      <th>Gpu</th>\n",
       "      <th>OpSys</th>\n",
       "      <th>Weight</th>\n",
       "      <th>Price</th>\n",
       "      <th>TouchScreen</th>\n",
       "      <th>Ips</th>\n",
       "      <th>ppi</th>\n",
       "      <th>Cpu brand</th>\n",
       "      <th>HDD</th>\n",
       "      <th>SSD</th>\n",
       "      <th>Gpu brand</th>\n",
       "    </tr>\n",
       "  </thead>\n",
       "  <tbody>\n",
       "    <tr>\n",
       "      <th>0</th>\n",
       "      <td>Apple</td>\n",
       "      <td>Ultrabook</td>\n",
       "      <td>8</td>\n",
       "      <td>Intel Iris Plus Graphics 640</td>\n",
       "      <td>macOS</td>\n",
       "      <td>1.37</td>\n",
       "      <td>71378.6832</td>\n",
       "      <td>0</td>\n",
       "      <td>1</td>\n",
       "      <td>226.983005</td>\n",
       "      <td>Intel Core i5</td>\n",
       "      <td>0</td>\n",
       "      <td>128</td>\n",
       "      <td>Intel</td>\n",
       "    </tr>\n",
       "    <tr>\n",
       "      <th>1</th>\n",
       "      <td>Apple</td>\n",
       "      <td>Ultrabook</td>\n",
       "      <td>8</td>\n",
       "      <td>Intel HD Graphics 6000</td>\n",
       "      <td>macOS</td>\n",
       "      <td>1.34</td>\n",
       "      <td>47895.5232</td>\n",
       "      <td>0</td>\n",
       "      <td>0</td>\n",
       "      <td>127.677940</td>\n",
       "      <td>Intel Core i5</td>\n",
       "      <td>0</td>\n",
       "      <td>0</td>\n",
       "      <td>Intel</td>\n",
       "    </tr>\n",
       "    <tr>\n",
       "      <th>2</th>\n",
       "      <td>HP</td>\n",
       "      <td>Notebook</td>\n",
       "      <td>8</td>\n",
       "      <td>Intel HD Graphics 620</td>\n",
       "      <td>No OS</td>\n",
       "      <td>1.86</td>\n",
       "      <td>30636.0000</td>\n",
       "      <td>0</td>\n",
       "      <td>0</td>\n",
       "      <td>141.211998</td>\n",
       "      <td>Intel Core i5</td>\n",
       "      <td>0</td>\n",
       "      <td>256</td>\n",
       "      <td>Intel</td>\n",
       "    </tr>\n",
       "    <tr>\n",
       "      <th>3</th>\n",
       "      <td>Apple</td>\n",
       "      <td>Ultrabook</td>\n",
       "      <td>16</td>\n",
       "      <td>AMD Radeon Pro 455</td>\n",
       "      <td>macOS</td>\n",
       "      <td>1.83</td>\n",
       "      <td>135195.3360</td>\n",
       "      <td>0</td>\n",
       "      <td>1</td>\n",
       "      <td>220.534624</td>\n",
       "      <td>Intel Core i7</td>\n",
       "      <td>0</td>\n",
       "      <td>512</td>\n",
       "      <td>AMD</td>\n",
       "    </tr>\n",
       "    <tr>\n",
       "      <th>4</th>\n",
       "      <td>Apple</td>\n",
       "      <td>Ultrabook</td>\n",
       "      <td>8</td>\n",
       "      <td>Intel Iris Plus Graphics 650</td>\n",
       "      <td>macOS</td>\n",
       "      <td>1.37</td>\n",
       "      <td>96095.8080</td>\n",
       "      <td>0</td>\n",
       "      <td>1</td>\n",
       "      <td>226.983005</td>\n",
       "      <td>Intel Core i5</td>\n",
       "      <td>0</td>\n",
       "      <td>256</td>\n",
       "      <td>Intel</td>\n",
       "    </tr>\n",
       "  </tbody>\n",
       "</table>\n",
       "</div>"
      ],
      "text/plain": [
       "  Company   TypeName  Ram                           Gpu  OpSys  Weight  \\\n",
       "0   Apple  Ultrabook    8  Intel Iris Plus Graphics 640  macOS    1.37   \n",
       "1   Apple  Ultrabook    8        Intel HD Graphics 6000  macOS    1.34   \n",
       "2      HP   Notebook    8         Intel HD Graphics 620  No OS    1.86   \n",
       "3   Apple  Ultrabook   16            AMD Radeon Pro 455  macOS    1.83   \n",
       "4   Apple  Ultrabook    8  Intel Iris Plus Graphics 650  macOS    1.37   \n",
       "\n",
       "         Price  TouchScreen  Ips         ppi      Cpu brand  HDD  SSD  \\\n",
       "0   71378.6832            0    1  226.983005  Intel Core i5    0  128   \n",
       "1   47895.5232            0    0  127.677940  Intel Core i5    0    0   \n",
       "2   30636.0000            0    0  141.211998  Intel Core i5    0  256   \n",
       "3  135195.3360            0    1  220.534624  Intel Core i7    0  512   \n",
       "4   96095.8080            0    1  226.983005  Intel Core i5    0  256   \n",
       "\n",
       "  Gpu brand  \n",
       "0     Intel  \n",
       "1     Intel  \n",
       "2     Intel  \n",
       "3       AMD  \n",
       "4     Intel  "
      ]
     },
     "execution_count": 93,
     "metadata": {},
     "output_type": "execute_result"
    }
   ],
   "source": [
    " df.head()"
   ]
  },
  {
   "cell_type": "code",
   "execution_count": 94,
   "id": "56513de2-bba7-4797-aa42-0ae89478f138",
   "metadata": {},
   "outputs": [
    {
     "data": {
      "text/plain": [
       "Gpu brand\n",
       "Intel     722\n",
       "Nvidia    400\n",
       "AMD       180\n",
       "ARM         1\n",
       "Name: count, dtype: int64"
      ]
     },
     "execution_count": 94,
     "metadata": {},
     "output_type": "execute_result"
    }
   ],
   "source": [
    "df['Gpu brand'].value_counts()"
   ]
  },
  {
   "cell_type": "code",
   "execution_count": 95,
   "id": "2f792bd2-9cad-4bd6-8231-ed73dc5e6dd9",
   "metadata": {},
   "outputs": [],
   "source": [
    "df = df[df['Gpu brand'] != 'ARM']"
   ]
  },
  {
   "cell_type": "code",
   "execution_count": 96,
   "id": "12f8d71f-de62-4601-9fff-0967183656d9",
   "metadata": {},
   "outputs": [
    {
     "data": {
      "text/html": [
       "<div>\n",
       "<style scoped>\n",
       "    .dataframe tbody tr th:only-of-type {\n",
       "        vertical-align: middle;\n",
       "    }\n",
       "\n",
       "    .dataframe tbody tr th {\n",
       "        vertical-align: top;\n",
       "    }\n",
       "\n",
       "    .dataframe thead th {\n",
       "        text-align: right;\n",
       "    }\n",
       "</style>\n",
       "<table border=\"1\" class=\"dataframe\">\n",
       "  <thead>\n",
       "    <tr style=\"text-align: right;\">\n",
       "      <th></th>\n",
       "      <th>Company</th>\n",
       "      <th>TypeName</th>\n",
       "      <th>Ram</th>\n",
       "      <th>Gpu</th>\n",
       "      <th>OpSys</th>\n",
       "      <th>Weight</th>\n",
       "      <th>Price</th>\n",
       "      <th>TouchScreen</th>\n",
       "      <th>Ips</th>\n",
       "      <th>ppi</th>\n",
       "      <th>Cpu brand</th>\n",
       "      <th>HDD</th>\n",
       "      <th>SSD</th>\n",
       "      <th>Gpu brand</th>\n",
       "    </tr>\n",
       "  </thead>\n",
       "  <tbody>\n",
       "    <tr>\n",
       "      <th>0</th>\n",
       "      <td>Apple</td>\n",
       "      <td>Ultrabook</td>\n",
       "      <td>8</td>\n",
       "      <td>Intel Iris Plus Graphics 640</td>\n",
       "      <td>macOS</td>\n",
       "      <td>1.37</td>\n",
       "      <td>71378.6832</td>\n",
       "      <td>0</td>\n",
       "      <td>1</td>\n",
       "      <td>226.983005</td>\n",
       "      <td>Intel Core i5</td>\n",
       "      <td>0</td>\n",
       "      <td>128</td>\n",
       "      <td>Intel</td>\n",
       "    </tr>\n",
       "    <tr>\n",
       "      <th>1</th>\n",
       "      <td>Apple</td>\n",
       "      <td>Ultrabook</td>\n",
       "      <td>8</td>\n",
       "      <td>Intel HD Graphics 6000</td>\n",
       "      <td>macOS</td>\n",
       "      <td>1.34</td>\n",
       "      <td>47895.5232</td>\n",
       "      <td>0</td>\n",
       "      <td>0</td>\n",
       "      <td>127.677940</td>\n",
       "      <td>Intel Core i5</td>\n",
       "      <td>0</td>\n",
       "      <td>0</td>\n",
       "      <td>Intel</td>\n",
       "    </tr>\n",
       "    <tr>\n",
       "      <th>2</th>\n",
       "      <td>HP</td>\n",
       "      <td>Notebook</td>\n",
       "      <td>8</td>\n",
       "      <td>Intel HD Graphics 620</td>\n",
       "      <td>No OS</td>\n",
       "      <td>1.86</td>\n",
       "      <td>30636.0000</td>\n",
       "      <td>0</td>\n",
       "      <td>0</td>\n",
       "      <td>141.211998</td>\n",
       "      <td>Intel Core i5</td>\n",
       "      <td>0</td>\n",
       "      <td>256</td>\n",
       "      <td>Intel</td>\n",
       "    </tr>\n",
       "    <tr>\n",
       "      <th>3</th>\n",
       "      <td>Apple</td>\n",
       "      <td>Ultrabook</td>\n",
       "      <td>16</td>\n",
       "      <td>AMD Radeon Pro 455</td>\n",
       "      <td>macOS</td>\n",
       "      <td>1.83</td>\n",
       "      <td>135195.3360</td>\n",
       "      <td>0</td>\n",
       "      <td>1</td>\n",
       "      <td>220.534624</td>\n",
       "      <td>Intel Core i7</td>\n",
       "      <td>0</td>\n",
       "      <td>512</td>\n",
       "      <td>AMD</td>\n",
       "    </tr>\n",
       "    <tr>\n",
       "      <th>4</th>\n",
       "      <td>Apple</td>\n",
       "      <td>Ultrabook</td>\n",
       "      <td>8</td>\n",
       "      <td>Intel Iris Plus Graphics 650</td>\n",
       "      <td>macOS</td>\n",
       "      <td>1.37</td>\n",
       "      <td>96095.8080</td>\n",
       "      <td>0</td>\n",
       "      <td>1</td>\n",
       "      <td>226.983005</td>\n",
       "      <td>Intel Core i5</td>\n",
       "      <td>0</td>\n",
       "      <td>256</td>\n",
       "      <td>Intel</td>\n",
       "    </tr>\n",
       "  </tbody>\n",
       "</table>\n",
       "</div>"
      ],
      "text/plain": [
       "  Company   TypeName  Ram                           Gpu  OpSys  Weight  \\\n",
       "0   Apple  Ultrabook    8  Intel Iris Plus Graphics 640  macOS    1.37   \n",
       "1   Apple  Ultrabook    8        Intel HD Graphics 6000  macOS    1.34   \n",
       "2      HP   Notebook    8         Intel HD Graphics 620  No OS    1.86   \n",
       "3   Apple  Ultrabook   16            AMD Radeon Pro 455  macOS    1.83   \n",
       "4   Apple  Ultrabook    8  Intel Iris Plus Graphics 650  macOS    1.37   \n",
       "\n",
       "         Price  TouchScreen  Ips         ppi      Cpu brand  HDD  SSD  \\\n",
       "0   71378.6832            0    1  226.983005  Intel Core i5    0  128   \n",
       "1   47895.5232            0    0  127.677940  Intel Core i5    0    0   \n",
       "2   30636.0000            0    0  141.211998  Intel Core i5    0  256   \n",
       "3  135195.3360            0    1  220.534624  Intel Core i7    0  512   \n",
       "4   96095.8080            0    1  226.983005  Intel Core i5    0  256   \n",
       "\n",
       "  Gpu brand  \n",
       "0     Intel  \n",
       "1     Intel  \n",
       "2     Intel  \n",
       "3       AMD  \n",
       "4     Intel  "
      ]
     },
     "execution_count": 96,
     "metadata": {},
     "output_type": "execute_result"
    }
   ],
   "source": [
    "df.head()"
   ]
  },
  {
   "cell_type": "code",
   "execution_count": 97,
   "id": "02aa4b61-1bac-4726-b557-514859759a11",
   "metadata": {},
   "outputs": [
    {
     "data": {
      "text/plain": [
       "Gpu brand\n",
       "Intel     722\n",
       "Nvidia    400\n",
       "AMD       180\n",
       "Name: count, dtype: int64"
      ]
     },
     "execution_count": 97,
     "metadata": {},
     "output_type": "execute_result"
    }
   ],
   "source": [
    "df['Gpu brand'].value_counts()"
   ]
  },
  {
   "cell_type": "code",
   "execution_count": 98,
   "id": "9bd692f0-71da-45b6-8a1e-54eede1bafb7",
   "metadata": {},
   "outputs": [
    {
     "data": {
      "image/png": "[encoded data removed]",
      "text/plain": [
       "<Figure size 640x480 with 1 Axes>"
      ]
     },
     "metadata": {},
     "output_type": "display_data"
    }
   ],
   "source": [
    "sns.barplot(x=df['Gpu brand'], y=df['Price'])\n",
    "plt.xticks(rotation='vertical')\n",
    "plt.show()"
   ]
  },
  {
   "cell_type": "code",
   "execution_count": 99,
   "id": "761ab0a0-a219-4b7d-a1eb-b19b4a3444fe",
   "metadata": {},
   "outputs": [],
   "source": [
    "df.drop(columns=['Gpu'], inplace=True)"
   ]
  },
  {
   "cell_type": "code",
   "execution_count": 100,
   "id": "a4b40abe-1c7b-412b-b6f5-be83e7d30680",
   "metadata": {},
   "outputs": [
    {
     "data": {
      "text/html": [
       "<div>\n",
       "<style scoped>\n",
       "    .dataframe tbody tr th:only-of-type {\n",
       "        vertical-align: middle;\n",
       "    }\n",
       "\n",
       "    .dataframe tbody tr th {\n",
       "        vertical-align: top;\n",
       "    }\n",
       "\n",
       "    .dataframe thead th {\n",
       "        text-align: right;\n",
       "    }\n",
       "</style>\n",
       "<table border=\"1\" class=\"dataframe\">\n",
       "  <thead>\n",
       "    <tr style=\"text-align: right;\">\n",
       "      <th></th>\n",
       "      <th>Company</th>\n",
       "      <th>TypeName</th>\n",
       "      <th>Ram</th>\n",
       "      <th>OpSys</th>\n",
       "      <th>Weight</th>\n",
       "      <th>Price</th>\n",
       "      <th>TouchScreen</th>\n",
       "      <th>Ips</th>\n",
       "      <th>ppi</th>\n",
       "      <th>Cpu brand</th>\n",
       "      <th>HDD</th>\n",
       "      <th>SSD</th>\n",
       "      <th>Gpu brand</th>\n",
       "    </tr>\n",
       "  </thead>\n",
       "  <tbody>\n",
       "    <tr>\n",
       "      <th>0</th>\n",
       "      <td>Apple</td>\n",
       "      <td>Ultrabook</td>\n",
       "      <td>8</td>\n",
       "      <td>macOS</td>\n",
       "      <td>1.37</td>\n",
       "      <td>71378.6832</td>\n",
       "      <td>0</td>\n",
       "      <td>1</td>\n",
       "      <td>226.983005</td>\n",
       "      <td>Intel Core i5</td>\n",
       "      <td>0</td>\n",
       "      <td>128</td>\n",
       "      <td>Intel</td>\n",
       "    </tr>\n",
       "    <tr>\n",
       "      <th>1</th>\n",
       "      <td>Apple</td>\n",
       "      <td>Ultrabook</td>\n",
       "      <td>8</td>\n",
       "      <td>macOS</td>\n",
       "      <td>1.34</td>\n",
       "      <td>47895.5232</td>\n",
       "      <td>0</td>\n",
       "      <td>0</td>\n",
       "      <td>127.677940</td>\n",
       "      <td>Intel Core i5</td>\n",
       "      <td>0</td>\n",
       "      <td>0</td>\n",
       "      <td>Intel</td>\n",
       "    </tr>\n",
       "    <tr>\n",
       "      <th>2</th>\n",
       "      <td>HP</td>\n",
       "      <td>Notebook</td>\n",
       "      <td>8</td>\n",
       "      <td>No OS</td>\n",
       "      <td>1.86</td>\n",
       "      <td>30636.0000</td>\n",
       "      <td>0</td>\n",
       "      <td>0</td>\n",
       "      <td>141.211998</td>\n",
       "      <td>Intel Core i5</td>\n",
       "      <td>0</td>\n",
       "      <td>256</td>\n",
       "      <td>Intel</td>\n",
       "    </tr>\n",
       "    <tr>\n",
       "      <th>3</th>\n",
       "      <td>Apple</td>\n",
       "      <td>Ultrabook</td>\n",
       "      <td>16</td>\n",
       "      <td>macOS</td>\n",
       "      <td>1.83</td>\n",
       "      <td>135195.3360</td>\n",
       "      <td>0</td>\n",
       "      <td>1</td>\n",
       "      <td>220.534624</td>\n",
       "      <td>Intel Core i7</td>\n",
       "      <td>0</td>\n",
       "      <td>512</td>\n",
       "      <td>AMD</td>\n",
       "    </tr>\n",
       "    <tr>\n",
       "      <th>4</th>\n",
       "      <td>Apple</td>\n",
       "      <td>Ultrabook</td>\n",
       "      <td>8</td>\n",
       "      <td>macOS</td>\n",
       "      <td>1.37</td>\n",
       "      <td>96095.8080</td>\n",
       "      <td>0</td>\n",
       "      <td>1</td>\n",
       "      <td>226.983005</td>\n",
       "      <td>Intel Core i5</td>\n",
       "      <td>0</td>\n",
       "      <td>256</td>\n",
       "      <td>Intel</td>\n",
       "    </tr>\n",
       "  </tbody>\n",
       "</table>\n",
       "</div>"
      ],
      "text/plain": [
       "  Company   TypeName  Ram  OpSys  Weight        Price  TouchScreen  Ips  \\\n",
       "0   Apple  Ultrabook    8  macOS    1.37   71378.6832            0    1   \n",
       "1   Apple  Ultrabook    8  macOS    1.34   47895.5232            0    0   \n",
       "2      HP   Notebook    8  No OS    1.86   30636.0000            0    0   \n",
       "3   Apple  Ultrabook   16  macOS    1.83  135195.3360            0    1   \n",
       "4   Apple  Ultrabook    8  macOS    1.37   96095.8080            0    1   \n",
       "\n",
       "          ppi      Cpu brand  HDD  SSD Gpu brand  \n",
       "0  226.983005  Intel Core i5    0  128     Intel  \n",
       "1  127.677940  Intel Core i5    0    0     Intel  \n",
       "2  141.211998  Intel Core i5    0  256     Intel  \n",
       "3  220.534624  Intel Core i7    0  512       AMD  \n",
       "4  226.983005  Intel Core i5    0  256     Intel  "
      ]
     },
     "execution_count": 100,
     "metadata": {},
     "output_type": "execute_result"
    }
   ],
   "source": [
    "df.head()"
   ]
  },
  {
   "cell_type": "code",
   "execution_count": 101,
   "id": "a6c9c489-6ca5-445f-bb9d-9f1e1bb990db",
   "metadata": {},
   "outputs": [
    {
     "data": {
      "text/plain": [
       "OpSys\n",
       "Windows 10      1072\n",
       "No OS             66\n",
       "Linux             62\n",
       "Windows 7         45\n",
       "Chrome OS         26\n",
       "macOS             13\n",
       "Mac OS X           8\n",
       "Windows 10 S       8\n",
       "Android            2\n",
       "Name: count, dtype: int64"
      ]
     },
     "execution_count": 101,
     "metadata": {},
     "output_type": "execute_result"
    }
   ],
   "source": [
    "df['OpSys'].value_counts()"
   ]
  },
  {
   "cell_type": "code",
   "execution_count": 102,
   "id": "f221ab00-4ca7-406b-856d-8b470be65c26",
   "metadata": {},
   "outputs": [
    {
     "data": {
      "image/png": "[encoded data removed]",
      "text/plain": [
       "<Figure size 640x480 with 1 Axes>"
      ]
     },
     "metadata": {},
     "output_type": "display_data"
    }
   ],
   "source": [
    "sns.barplot(x=df['OpSys'], y=df['Price'])\n",
    "plt.xticks(rotation='vertical')\n",
    "plt.show()"
   ]
  },
  {
   "cell_type": "code",
   "execution_count": 103,
   "id": "987d7414-c8a3-4305-8301-864e3234a483",
   "metadata": {},
   "outputs": [],
   "source": [
    "def cat_os(inp):\n",
    "    if inp == 'Windows 10' or inp == 'Windows 7' or inp=='Windows 10 S':\n",
    "        return 'Window' \n",
    "    elif inp=='macOS' or inp== 'Mac OS X':\n",
    "        return 'Mac'\n",
    "    else:\n",
    "        return 'Others/No OS/Linux'\n"
   ]
  },
  {
   "cell_type": "code",
   "execution_count": 104,
   "id": "a74e704f-2af3-4f87-8b08-61ca6c408bae",
   "metadata": {},
   "outputs": [],
   "source": [
    "df['os'] = df['OpSys'].apply(cat_os)"
   ]
  },
  {
   "cell_type": "code",
   "execution_count": 105,
   "id": "1810e532-17e5-46f1-ab11-209d52fc1682",
   "metadata": {},
   "outputs": [
    {
     "data": {
      "text/html": [
       "<div>\n",
       "<style scoped>\n",
       "    .dataframe tbody tr th:only-of-type {\n",
       "        vertical-align: middle;\n",
       "    }\n",
       "\n",
       "    .dataframe tbody tr th {\n",
       "        vertical-align: top;\n",
       "    }\n",
       "\n",
       "    .dataframe thead th {\n",
       "        text-align: right;\n",
       "    }\n",
       "</style>\n",
       "<table border=\"1\" class=\"dataframe\">\n",
       "  <thead>\n",
       "    <tr style=\"text-align: right;\">\n",
       "      <th></th>\n",
       "      <th>Company</th>\n",
       "      <th>TypeName</th>\n",
       "      <th>Ram</th>\n",
       "      <th>OpSys</th>\n",
       "      <th>Weight</th>\n",
       "      <th>Price</th>\n",
       "      <th>TouchScreen</th>\n",
       "      <th>Ips</th>\n",
       "      <th>ppi</th>\n",
       "      <th>Cpu brand</th>\n",
       "      <th>HDD</th>\n",
       "      <th>SSD</th>\n",
       "      <th>Gpu brand</th>\n",
       "      <th>os</th>\n",
       "    </tr>\n",
       "  </thead>\n",
       "  <tbody>\n",
       "    <tr>\n",
       "      <th>1190</th>\n",
       "      <td>Lenovo</td>\n",
       "      <td>Gaming</td>\n",
       "      <td>8</td>\n",
       "      <td>Windows 10</td>\n",
       "      <td>2.40</td>\n",
       "      <td>43636.32</td>\n",
       "      <td>0</td>\n",
       "      <td>1</td>\n",
       "      <td>141.211998</td>\n",
       "      <td>Intel Core i5</td>\n",
       "      <td>1</td>\n",
       "      <td>0</td>\n",
       "      <td>Nvidia</td>\n",
       "      <td>Window</td>\n",
       "    </tr>\n",
       "    <tr>\n",
       "      <th>343</th>\n",
       "      <td>Lenovo</td>\n",
       "      <td>2 in 1 Convertible</td>\n",
       "      <td>16</td>\n",
       "      <td>Windows 10</td>\n",
       "      <td>1.40</td>\n",
       "      <td>111834.72</td>\n",
       "      <td>1</td>\n",
       "      <td>1</td>\n",
       "      <td>316.965060</td>\n",
       "      <td>Intel Core i7</td>\n",
       "      <td>0</td>\n",
       "      <td>512</td>\n",
       "      <td>Intel</td>\n",
       "      <td>Window</td>\n",
       "    </tr>\n",
       "    <tr>\n",
       "      <th>924</th>\n",
       "      <td>Lenovo</td>\n",
       "      <td>2 in 1 Convertible</td>\n",
       "      <td>8</td>\n",
       "      <td>Windows 10</td>\n",
       "      <td>1.37</td>\n",
       "      <td>97236.00</td>\n",
       "      <td>1</td>\n",
       "      <td>1</td>\n",
       "      <td>165.632118</td>\n",
       "      <td>Intel Core i5</td>\n",
       "      <td>0</td>\n",
       "      <td>512</td>\n",
       "      <td>Intel</td>\n",
       "      <td>Window</td>\n",
       "    </tr>\n",
       "    <tr>\n",
       "      <th>255</th>\n",
       "      <td>Dell</td>\n",
       "      <td>Ultrabook</td>\n",
       "      <td>8</td>\n",
       "      <td>Windows 10</td>\n",
       "      <td>1.41</td>\n",
       "      <td>50562.72</td>\n",
       "      <td>0</td>\n",
       "      <td>0</td>\n",
       "      <td>165.632118</td>\n",
       "      <td>Intel Core i5</td>\n",
       "      <td>0</td>\n",
       "      <td>256</td>\n",
       "      <td>Intel</td>\n",
       "      <td>Window</td>\n",
       "    </tr>\n",
       "    <tr>\n",
       "      <th>412</th>\n",
       "      <td>HP</td>\n",
       "      <td>Notebook</td>\n",
       "      <td>4</td>\n",
       "      <td>Windows 10</td>\n",
       "      <td>2.10</td>\n",
       "      <td>24988.32</td>\n",
       "      <td>0</td>\n",
       "      <td>0</td>\n",
       "      <td>141.211998</td>\n",
       "      <td>Intel Core i3</td>\n",
       "      <td>1</td>\n",
       "      <td>0</td>\n",
       "      <td>AMD</td>\n",
       "      <td>Window</td>\n",
       "    </tr>\n",
       "  </tbody>\n",
       "</table>\n",
       "</div>"
      ],
      "text/plain": [
       "     Company            TypeName  Ram       OpSys  Weight      Price  \\\n",
       "1190  Lenovo              Gaming    8  Windows 10    2.40   43636.32   \n",
       "343   Lenovo  2 in 1 Convertible   16  Windows 10    1.40  111834.72   \n",
       "924   Lenovo  2 in 1 Convertible    8  Windows 10    1.37   97236.00   \n",
       "255     Dell           Ultrabook    8  Windows 10    1.41   50562.72   \n",
       "412       HP            Notebook    4  Windows 10    2.10   24988.32   \n",
       "\n",
       "      TouchScreen  Ips         ppi      Cpu brand  HDD  SSD Gpu brand      os  \n",
       "1190            0    1  141.211998  Intel Core i5    1    0    Nvidia  Window  \n",
       "343             1    1  316.965060  Intel Core i7    0  512     Intel  Window  \n",
       "924             1    1  165.632118  Intel Core i5    0  512     Intel  Window  \n",
       "255             0    0  165.632118  Intel Core i5    0  256     Intel  Window  \n",
       "412             0    0  141.211998  Intel Core i3    1    0       AMD  Window  "
      ]
     },
     "execution_count": 105,
     "metadata": {},
     "output_type": "execute_result"
    }
   ],
   "source": [
    "df.sample(5)"
   ]
  },
  {
   "cell_type": "code",
   "execution_count": 106,
   "id": "56b88c32-4c2b-4732-8cdc-ccc908a1995c",
   "metadata": {},
   "outputs": [],
   "source": [
    "df.drop(columns=['OpSys'], inplace=True)"
   ]
  },
  {
   "cell_type": "code",
   "execution_count": 107,
   "id": "ae72d7b8-2ef5-4d54-a8bb-3430c4798a65",
   "metadata": {},
   "outputs": [
    {
     "data": {
      "text/html": [
       "<div>\n",
       "<style scoped>\n",
       "    .dataframe tbody tr th:only-of-type {\n",
       "        vertical-align: middle;\n",
       "    }\n",
       "\n",
       "    .dataframe tbody tr th {\n",
       "        vertical-align: top;\n",
       "    }\n",
       "\n",
       "    .dataframe thead th {\n",
       "        text-align: right;\n",
       "    }\n",
       "</style>\n",
       "<table border=\"1\" class=\"dataframe\">\n",
       "  <thead>\n",
       "    <tr style=\"text-align: right;\">\n",
       "      <th></th>\n",
       "      <th>Company</th>\n",
       "      <th>TypeName</th>\n",
       "      <th>Ram</th>\n",
       "      <th>Weight</th>\n",
       "      <th>Price</th>\n",
       "      <th>TouchScreen</th>\n",
       "      <th>Ips</th>\n",
       "      <th>ppi</th>\n",
       "      <th>Cpu brand</th>\n",
       "      <th>HDD</th>\n",
       "      <th>SSD</th>\n",
       "      <th>Gpu brand</th>\n",
       "      <th>os</th>\n",
       "    </tr>\n",
       "  </thead>\n",
       "  <tbody>\n",
       "    <tr>\n",
       "      <th>0</th>\n",
       "      <td>Apple</td>\n",
       "      <td>Ultrabook</td>\n",
       "      <td>8</td>\n",
       "      <td>1.37</td>\n",
       "      <td>71378.6832</td>\n",
       "      <td>0</td>\n",
       "      <td>1</td>\n",
       "      <td>226.983005</td>\n",
       "      <td>Intel Core i5</td>\n",
       "      <td>0</td>\n",
       "      <td>128</td>\n",
       "      <td>Intel</td>\n",
       "      <td>Mac</td>\n",
       "    </tr>\n",
       "    <tr>\n",
       "      <th>1</th>\n",
       "      <td>Apple</td>\n",
       "      <td>Ultrabook</td>\n",
       "      <td>8</td>\n",
       "      <td>1.34</td>\n",
       "      <td>47895.5232</td>\n",
       "      <td>0</td>\n",
       "      <td>0</td>\n",
       "      <td>127.677940</td>\n",
       "      <td>Intel Core i5</td>\n",
       "      <td>0</td>\n",
       "      <td>0</td>\n",
       "      <td>Intel</td>\n",
       "      <td>Mac</td>\n",
       "    </tr>\n",
       "    <tr>\n",
       "      <th>2</th>\n",
       "      <td>HP</td>\n",
       "      <td>Notebook</td>\n",
       "      <td>8</td>\n",
       "      <td>1.86</td>\n",
       "      <td>30636.0000</td>\n",
       "      <td>0</td>\n",
       "      <td>0</td>\n",
       "      <td>141.211998</td>\n",
       "      <td>Intel Core i5</td>\n",
       "      <td>0</td>\n",
       "      <td>256</td>\n",
       "      <td>Intel</td>\n",
       "      <td>Others/No OS/Linux</td>\n",
       "    </tr>\n",
       "    <tr>\n",
       "      <th>3</th>\n",
       "      <td>Apple</td>\n",
       "      <td>Ultrabook</td>\n",
       "      <td>16</td>\n",
       "      <td>1.83</td>\n",
       "      <td>135195.3360</td>\n",
       "      <td>0</td>\n",
       "      <td>1</td>\n",
       "      <td>220.534624</td>\n",
       "      <td>Intel Core i7</td>\n",
       "      <td>0</td>\n",
       "      <td>512</td>\n",
       "      <td>AMD</td>\n",
       "      <td>Mac</td>\n",
       "    </tr>\n",
       "    <tr>\n",
       "      <th>4</th>\n",
       "      <td>Apple</td>\n",
       "      <td>Ultrabook</td>\n",
       "      <td>8</td>\n",
       "      <td>1.37</td>\n",
       "      <td>96095.8080</td>\n",
       "      <td>0</td>\n",
       "      <td>1</td>\n",
       "      <td>226.983005</td>\n",
       "      <td>Intel Core i5</td>\n",
       "      <td>0</td>\n",
       "      <td>256</td>\n",
       "      <td>Intel</td>\n",
       "      <td>Mac</td>\n",
       "    </tr>\n",
       "  </tbody>\n",
       "</table>\n",
       "</div>"
      ],
      "text/plain": [
       "  Company   TypeName  Ram  Weight        Price  TouchScreen  Ips         ppi  \\\n",
       "0   Apple  Ultrabook    8    1.37   71378.6832            0    1  226.983005   \n",
       "1   Apple  Ultrabook    8    1.34   47895.5232            0    0  127.677940   \n",
       "2      HP   Notebook    8    1.86   30636.0000            0    0  141.211998   \n",
       "3   Apple  Ultrabook   16    1.83  135195.3360            0    1  220.534624   \n",
       "4   Apple  Ultrabook    8    1.37   96095.8080            0    1  226.983005   \n",
       "\n",
       "       Cpu brand  HDD  SSD Gpu brand                  os  \n",
       "0  Intel Core i5    0  128     Intel                 Mac  \n",
       "1  Intel Core i5    0    0     Intel                 Mac  \n",
       "2  Intel Core i5    0  256     Intel  Others/No OS/Linux  \n",
       "3  Intel Core i7    0  512       AMD                 Mac  \n",
       "4  Intel Core i5    0  256     Intel                 Mac  "
      ]
     },
     "execution_count": 107,
     "metadata": {},
     "output_type": "execute_result"
    }
   ],
   "source": [
    "df.head()"
   ]
  },
  {
   "cell_type": "code",
   "execution_count": 108,
   "id": "335af090-0cbb-4a6d-93b4-14a0f58cb2c8",
   "metadata": {},
   "outputs": [
    {
     "data": {
      "image/png": "[encoded data removed]",
      "text/plain": [
       "<Figure size 640x480 with 1 Axes>"
      ]
     },
     "metadata": {},
     "output_type": "display_data"
    }
   ],
   "source": [
    "sns.barplot(x=df['os'], y=df['Price'])\n",
    "plt.xticks(rotation='vertical')\n",
    "plt.show()"
   ]
  },
  {
   "cell_type": "code",
   "execution_count": 109,
   "id": "b55350d5-4c73-49b9-85c7-2a043b5732a1",
   "metadata": {},
   "outputs": [
    {
     "data": {
      "text/plain": [
       "Weight\n",
       "2.20    126\n",
       "2.10     58\n",
       "2.00     45\n",
       "2.40     44\n",
       "2.30     41\n",
       "       ... \n",
       "4.50      1\n",
       "1.14      1\n",
       "3.80      1\n",
       "2.26      1\n",
       "2.34      1\n",
       "Name: count, Length: 171, dtype: int64"
      ]
     },
     "execution_count": 109,
     "metadata": {},
     "output_type": "execute_result"
    }
   ],
   "source": [
    "df['Weight'].value_counts()"
   ]
  },
  {
   "cell_type": "code",
   "execution_count": 110,
   "id": "ebc822d2-7ee4-4c2a-912f-6dea6a1c815d",
   "metadata": {},
   "outputs": [
    {
     "data": {
      "text/plain": [
       "<seaborn.axisgrid.FacetGrid at 0x16b342020>"
      ]
     },
     "execution_count": 110,
     "metadata": {},
     "output_type": "execute_result"
    },
    {
     "data": {
      "image/png": "[encoded data removed]",
      "text/plain": [
       "<Figure size 500x500 with 1 Axes>"
      ]
     },
     "metadata": {},
     "output_type": "display_data"
    }
   ],
   "source": [
    "sns.displot(df['Weight'])"
   ]
  },
  {
   "cell_type": "code",
   "execution_count": 111,
   "id": "b358e8d1-423d-44f5-8aa2-8ff6babb4255",
   "metadata": {},
   "outputs": [
    {
     "data": {
      "image/png": "[encoded data removed]",
      "text/plain": [
       "<Figure size 640x480 with 1 Axes>"
      ]
     },
     "metadata": {},
     "output_type": "display_data"
    }
   ],
   "source": [
    "sns.scatterplot(x=df['Weight'], y=df['Price'])\n",
    "plt.xticks(rotation='vertical')\n",
    "plt.show()"
   ]
  },
  {
   "cell_type": "code",
   "execution_count": 112,
   "id": "c0a1da46-adaf-4e0a-a9e6-ca0afa439f8c",
   "metadata": {},
   "outputs": [
    {
     "data": {
      "text/plain": [
       "Ram            0.742905\n",
       "Weight         0.209867\n",
       "Price          1.000000\n",
       "TouchScreen    0.192917\n",
       "Ips            0.253320\n",
       "ppi            0.475368\n",
       "HDD           -0.235160\n",
       "SSD            0.547147\n",
       "Name: Price, dtype: float64"
      ]
     },
     "execution_count": 112,
     "metadata": {},
     "output_type": "execute_result"
    }
   ],
   "source": [
    "df.corr(numeric_only=True)['Price']"
   ]
  },
  {
   "cell_type": "code",
   "execution_count": 113,
   "id": "084240c8-df74-4d29-813d-5256b06d0f60",
   "metadata": {},
   "outputs": [
    {
     "data": {
      "text/plain": [
       "<Axes: >"
      ]
     },
     "execution_count": 113,
     "metadata": {},
     "output_type": "execute_result"
    },
    {
     "data": {
      "image/png": "[encoded data removed]",
      "text/plain": [
       "<Figure size 640x480 with 2 Axes>"
      ]
     },
     "metadata": {},
     "output_type": "display_data"
    }
   ],
   "source": [
    "sns.heatmap(df.corr(numeric_only=True))"
   ]
  },
  {
   "cell_type": "code",
   "execution_count": 114,
   "id": "5125f97f-f23d-4560-8a1d-2f2515967dfa",
   "metadata": {},
   "outputs": [
    {
     "name": "stderr",
     "output_type": "stream",
     "text": [
      "/var/folders/t0/ncmtzwpn3dq69xpnbygy3q5c0000gn/T/ipykernel_4045/3556049916.py:1: UserWarning: \n",
      "\n",
      "`distplot` is a deprecated function and will be removed in seaborn v0.14.0.\n",
      "\n",
      "Please adapt your code to use either `displot` (a figure-level function with\n",
      "similar flexibility) or `histplot` (an axes-level function for histograms).\n",
      "\n",
      "For a guide to updating your code to use the new functions, please see\n",
      "https://gist.github.com/mwaskom/de44147ed2974457ad6372750bbe5751\n",
      "\n",
      "  sns.distplot(np.log(df['Price']))\n"
     ]
    },
    {
     "data": {
      "text/plain": [
       "<Axes: xlabel='Price', ylabel='Density'>"
      ]
     },
     "execution_count": 114,
     "metadata": {},
     "output_type": "execute_result"
    },
    {
     "data": {
      "image/png": "[encoded data removed]",
      "text/plain": [
       "<Figure size 640x480 with 1 Axes>"
      ]
     },
     "metadata": {},
     "output_type": "display_data"
    }
   ],
   "source": [
    "sns.distplot(np.log(df['Price']))"
   ]
  },
  {
   "cell_type": "code",
   "execution_count": 115,
   "id": "245134d6-5755-46ff-bb4b-3c7f5e6cbd9c",
   "metadata": {},
   "outputs": [],
   "source": [
    "X= df.drop(columns=['Price'])\n",
    "y = np.log(df['Price'])"
   ]
  },
  {
   "cell_type": "code",
   "execution_count": 116,
   "id": "71cf9f4c-8e38-4e44-a1ac-f08b514c9c0c",
   "metadata": {},
   "outputs": [
    {
     "data": {
      "text/html": [
       "<div>\n",
       "<style scoped>\n",
       "    .dataframe tbody tr th:only-of-type {\n",
       "        vertical-align: middle;\n",
       "    }\n",
       "\n",
       "    .dataframe tbody tr th {\n",
       "        vertical-align: top;\n",
       "    }\n",
       "\n",
       "    .dataframe thead th {\n",
       "        text-align: right;\n",
       "    }\n",
       "</style>\n",
       "<table border=\"1\" class=\"dataframe\">\n",
       "  <thead>\n",
       "    <tr style=\"text-align: right;\">\n",
       "      <th></th>\n",
       "      <th>Company</th>\n",
       "      <th>TypeName</th>\n",
       "      <th>Ram</th>\n",
       "      <th>Weight</th>\n",
       "      <th>TouchScreen</th>\n",
       "      <th>Ips</th>\n",
       "      <th>ppi</th>\n",
       "      <th>Cpu brand</th>\n",
       "      <th>HDD</th>\n",
       "      <th>SSD</th>\n",
       "      <th>Gpu brand</th>\n",
       "      <th>os</th>\n",
       "    </tr>\n",
       "  </thead>\n",
       "  <tbody>\n",
       "    <tr>\n",
       "      <th>0</th>\n",
       "      <td>Apple</td>\n",
       "      <td>Ultrabook</td>\n",
       "      <td>8</td>\n",
       "      <td>1.37</td>\n",
       "      <td>0</td>\n",
       "      <td>1</td>\n",
       "      <td>226.983005</td>\n",
       "      <td>Intel Core i5</td>\n",
       "      <td>0</td>\n",
       "      <td>128</td>\n",
       "      <td>Intel</td>\n",
       "      <td>Mac</td>\n",
       "    </tr>\n",
       "    <tr>\n",
       "      <th>1</th>\n",
       "      <td>Apple</td>\n",
       "      <td>Ultrabook</td>\n",
       "      <td>8</td>\n",
       "      <td>1.34</td>\n",
       "      <td>0</td>\n",
       "      <td>0</td>\n",
       "      <td>127.677940</td>\n",
       "      <td>Intel Core i5</td>\n",
       "      <td>0</td>\n",
       "      <td>0</td>\n",
       "      <td>Intel</td>\n",
       "      <td>Mac</td>\n",
       "    </tr>\n",
       "    <tr>\n",
       "      <th>2</th>\n",
       "      <td>HP</td>\n",
       "      <td>Notebook</td>\n",
       "      <td>8</td>\n",
       "      <td>1.86</td>\n",
       "      <td>0</td>\n",
       "      <td>0</td>\n",
       "      <td>141.211998</td>\n",
       "      <td>Intel Core i5</td>\n",
       "      <td>0</td>\n",
       "      <td>256</td>\n",
       "      <td>Intel</td>\n",
       "      <td>Others/No OS/Linux</td>\n",
       "    </tr>\n",
       "    <tr>\n",
       "      <th>3</th>\n",
       "      <td>Apple</td>\n",
       "      <td>Ultrabook</td>\n",
       "      <td>16</td>\n",
       "      <td>1.83</td>\n",
       "      <td>0</td>\n",
       "      <td>1</td>\n",
       "      <td>220.534624</td>\n",
       "      <td>Intel Core i7</td>\n",
       "      <td>0</td>\n",
       "      <td>512</td>\n",
       "      <td>AMD</td>\n",
       "      <td>Mac</td>\n",
       "    </tr>\n",
       "    <tr>\n",
       "      <th>4</th>\n",
       "      <td>Apple</td>\n",
       "      <td>Ultrabook</td>\n",
       "      <td>8</td>\n",
       "      <td>1.37</td>\n",
       "      <td>0</td>\n",
       "      <td>1</td>\n",
       "      <td>226.983005</td>\n",
       "      <td>Intel Core i5</td>\n",
       "      <td>0</td>\n",
       "      <td>256</td>\n",
       "      <td>Intel</td>\n",
       "      <td>Mac</td>\n",
       "    </tr>\n",
       "    <tr>\n",
       "      <th>...</th>\n",
       "      <td>...</td>\n",
       "      <td>...</td>\n",
       "      <td>...</td>\n",
       "      <td>...</td>\n",
       "      <td>...</td>\n",
       "      <td>...</td>\n",
       "      <td>...</td>\n",
       "      <td>...</td>\n",
       "      <td>...</td>\n",
       "      <td>...</td>\n",
       "      <td>...</td>\n",
       "      <td>...</td>\n",
       "    </tr>\n",
       "    <tr>\n",
       "      <th>1298</th>\n",
       "      <td>Lenovo</td>\n",
       "      <td>2 in 1 Convertible</td>\n",
       "      <td>4</td>\n",
       "      <td>1.80</td>\n",
       "      <td>1</td>\n",
       "      <td>1</td>\n",
       "      <td>157.350512</td>\n",
       "      <td>Intel Core i7</td>\n",
       "      <td>0</td>\n",
       "      <td>128</td>\n",
       "      <td>Intel</td>\n",
       "      <td>Window</td>\n",
       "    </tr>\n",
       "    <tr>\n",
       "      <th>1299</th>\n",
       "      <td>Lenovo</td>\n",
       "      <td>2 in 1 Convertible</td>\n",
       "      <td>16</td>\n",
       "      <td>1.30</td>\n",
       "      <td>1</td>\n",
       "      <td>1</td>\n",
       "      <td>276.053530</td>\n",
       "      <td>Intel Core i7</td>\n",
       "      <td>0</td>\n",
       "      <td>512</td>\n",
       "      <td>Intel</td>\n",
       "      <td>Window</td>\n",
       "    </tr>\n",
       "    <tr>\n",
       "      <th>1300</th>\n",
       "      <td>Lenovo</td>\n",
       "      <td>Notebook</td>\n",
       "      <td>2</td>\n",
       "      <td>1.50</td>\n",
       "      <td>0</td>\n",
       "      <td>0</td>\n",
       "      <td>111.935204</td>\n",
       "      <td>Other Intel Processor</td>\n",
       "      <td>0</td>\n",
       "      <td>0</td>\n",
       "      <td>Intel</td>\n",
       "      <td>Window</td>\n",
       "    </tr>\n",
       "    <tr>\n",
       "      <th>1301</th>\n",
       "      <td>HP</td>\n",
       "      <td>Notebook</td>\n",
       "      <td>6</td>\n",
       "      <td>2.19</td>\n",
       "      <td>0</td>\n",
       "      <td>0</td>\n",
       "      <td>100.454670</td>\n",
       "      <td>Intel Core i7</td>\n",
       "      <td>1</td>\n",
       "      <td>0</td>\n",
       "      <td>AMD</td>\n",
       "      <td>Window</td>\n",
       "    </tr>\n",
       "    <tr>\n",
       "      <th>1302</th>\n",
       "      <td>Asus</td>\n",
       "      <td>Notebook</td>\n",
       "      <td>4</td>\n",
       "      <td>2.20</td>\n",
       "      <td>0</td>\n",
       "      <td>0</td>\n",
       "      <td>100.454670</td>\n",
       "      <td>Other Intel Processor</td>\n",
       "      <td>500</td>\n",
       "      <td>0</td>\n",
       "      <td>Intel</td>\n",
       "      <td>Window</td>\n",
       "    </tr>\n",
       "  </tbody>\n",
       "</table>\n",
       "<p>1302 rows × 12 columns</p>\n",
       "</div>"
      ],
      "text/plain": [
       "     Company            TypeName  Ram  Weight  TouchScreen  Ips         ppi  \\\n",
       "0      Apple           Ultrabook    8    1.37            0    1  226.983005   \n",
       "1      Apple           Ultrabook    8    1.34            0    0  127.677940   \n",
       "2         HP            Notebook    8    1.86            0    0  141.211998   \n",
       "3      Apple           Ultrabook   16    1.83            0    1  220.534624   \n",
       "4      Apple           Ultrabook    8    1.37            0    1  226.983005   \n",
       "...      ...                 ...  ...     ...          ...  ...         ...   \n",
       "1298  Lenovo  2 in 1 Convertible    4    1.80            1    1  157.350512   \n",
       "1299  Lenovo  2 in 1 Convertible   16    1.30            1    1  276.053530   \n",
       "1300  Lenovo            Notebook    2    1.50            0    0  111.935204   \n",
       "1301      HP            Notebook    6    2.19            0    0  100.454670   \n",
       "1302    Asus            Notebook    4    2.20            0    0  100.454670   \n",
       "\n",
       "                  Cpu brand  HDD  SSD Gpu brand                  os  \n",
       "0             Intel Core i5    0  128     Intel                 Mac  \n",
       "1             Intel Core i5    0    0     Intel                 Mac  \n",
       "2             Intel Core i5    0  256     Intel  Others/No OS/Linux  \n",
       "3             Intel Core i7    0  512       AMD                 Mac  \n",
       "4             Intel Core i5    0  256     Intel                 Mac  \n",
       "...                     ...  ...  ...       ...                 ...  \n",
       "1298          Intel Core i7    0  128     Intel              Window  \n",
       "1299          Intel Core i7    0  512     Intel              Window  \n",
       "1300  Other Intel Processor    0    0     Intel              Window  \n",
       "1301          Intel Core i7    1    0       AMD              Window  \n",
       "1302  Other Intel Processor  500    0     Intel              Window  \n",
       "\n",
       "[1302 rows x 12 columns]"
      ]
     },
     "execution_count": 116,
     "metadata": {},
     "output_type": "execute_result"
    }
   ],
   "source": [
    "X"
   ]
  },
  {
   "cell_type": "code",
   "execution_count": 117,
   "id": "078ef0a9-8bf8-403a-aa66-05eef31cd90e",
   "metadata": {},
   "outputs": [
    {
     "data": {
      "text/plain": [
       "0       11.175755\n",
       "1       10.776777\n",
       "2       10.329931\n",
       "3       11.814476\n",
       "4       11.473101\n",
       "          ...    \n",
       "1298    10.433899\n",
       "1299    11.288115\n",
       "1300     9.409283\n",
       "1301    10.614129\n",
       "1302     9.886358\n",
       "Name: Price, Length: 1302, dtype: float64"
      ]
     },
     "execution_count": 117,
     "metadata": {},
     "output_type": "execute_result"
    }
   ],
   "source": [
    "y"
   ]
  },
  {
   "cell_type": "code",
   "execution_count": 118,
   "id": "dfacfe7e-6ee0-48fd-b75f-96785807b9a2",
   "metadata": {},
   "outputs": [],
   "source": [
    "from sklearn.model_selection import train_test_split\n",
    "X_train,X_test, y_train, y_test = train_test_split(X,y, test_size=0.15, random_state = 2)"
   ]
  },
  {
   "cell_type": "code",
   "execution_count": 119,
   "id": "6a3138d0-11f3-4536-8bb9-837c36bb83f4",
   "metadata": {},
   "outputs": [
    {
     "data": {
      "text/html": [
       "<div>\n",
       "<style scoped>\n",
       "    .dataframe tbody tr th:only-of-type {\n",
       "        vertical-align: middle;\n",
       "    }\n",
       "\n",
       "    .dataframe tbody tr th {\n",
       "        vertical-align: top;\n",
       "    }\n",
       "\n",
       "    .dataframe thead th {\n",
       "        text-align: right;\n",
       "    }\n",
       "</style>\n",
       "<table border=\"1\" class=\"dataframe\">\n",
       "  <thead>\n",
       "    <tr style=\"text-align: right;\">\n",
       "      <th></th>\n",
       "      <th>Company</th>\n",
       "      <th>TypeName</th>\n",
       "      <th>Ram</th>\n",
       "      <th>Weight</th>\n",
       "      <th>TouchScreen</th>\n",
       "      <th>Ips</th>\n",
       "      <th>ppi</th>\n",
       "      <th>Cpu brand</th>\n",
       "      <th>HDD</th>\n",
       "      <th>SSD</th>\n",
       "      <th>Gpu brand</th>\n",
       "      <th>os</th>\n",
       "    </tr>\n",
       "  </thead>\n",
       "  <tbody>\n",
       "    <tr>\n",
       "      <th>183</th>\n",
       "      <td>Toshiba</td>\n",
       "      <td>Notebook</td>\n",
       "      <td>8</td>\n",
       "      <td>2.00</td>\n",
       "      <td>0</td>\n",
       "      <td>0</td>\n",
       "      <td>100.454670</td>\n",
       "      <td>Intel Core i5</td>\n",
       "      <td>0</td>\n",
       "      <td>128</td>\n",
       "      <td>Intel</td>\n",
       "      <td>Window</td>\n",
       "    </tr>\n",
       "    <tr>\n",
       "      <th>1141</th>\n",
       "      <td>MSI</td>\n",
       "      <td>Gaming</td>\n",
       "      <td>8</td>\n",
       "      <td>2.40</td>\n",
       "      <td>0</td>\n",
       "      <td>0</td>\n",
       "      <td>141.211998</td>\n",
       "      <td>Intel Core i7</td>\n",
       "      <td>1</td>\n",
       "      <td>128</td>\n",
       "      <td>Nvidia</td>\n",
       "      <td>Window</td>\n",
       "    </tr>\n",
       "    <tr>\n",
       "      <th>1049</th>\n",
       "      <td>Asus</td>\n",
       "      <td>Netbook</td>\n",
       "      <td>4</td>\n",
       "      <td>1.20</td>\n",
       "      <td>0</td>\n",
       "      <td>0</td>\n",
       "      <td>135.094211</td>\n",
       "      <td>Other Intel Processor</td>\n",
       "      <td>0</td>\n",
       "      <td>0</td>\n",
       "      <td>Intel</td>\n",
       "      <td>Others/No OS/Linux</td>\n",
       "    </tr>\n",
       "    <tr>\n",
       "      <th>1020</th>\n",
       "      <td>Dell</td>\n",
       "      <td>2 in 1 Convertible</td>\n",
       "      <td>4</td>\n",
       "      <td>2.08</td>\n",
       "      <td>1</td>\n",
       "      <td>1</td>\n",
       "      <td>141.211998</td>\n",
       "      <td>Intel Core i3</td>\n",
       "      <td>1</td>\n",
       "      <td>0</td>\n",
       "      <td>Intel</td>\n",
       "      <td>Window</td>\n",
       "    </tr>\n",
       "    <tr>\n",
       "      <th>878</th>\n",
       "      <td>Dell</td>\n",
       "      <td>Notebook</td>\n",
       "      <td>4</td>\n",
       "      <td>2.18</td>\n",
       "      <td>0</td>\n",
       "      <td>0</td>\n",
       "      <td>141.211998</td>\n",
       "      <td>Intel Core i5</td>\n",
       "      <td>1</td>\n",
       "      <td>128</td>\n",
       "      <td>Nvidia</td>\n",
       "      <td>Window</td>\n",
       "    </tr>\n",
       "  </tbody>\n",
       "</table>\n",
       "</div>"
      ],
      "text/plain": [
       "      Company            TypeName  Ram  Weight  TouchScreen  Ips         ppi  \\\n",
       "183   Toshiba            Notebook    8    2.00            0    0  100.454670   \n",
       "1141      MSI              Gaming    8    2.40            0    0  141.211998   \n",
       "1049     Asus             Netbook    4    1.20            0    0  135.094211   \n",
       "1020     Dell  2 in 1 Convertible    4    2.08            1    1  141.211998   \n",
       "878      Dell            Notebook    4    2.18            0    0  141.211998   \n",
       "\n",
       "                  Cpu brand  HDD  SSD Gpu brand                  os  \n",
       "183           Intel Core i5    0  128     Intel              Window  \n",
       "1141          Intel Core i7    1  128    Nvidia              Window  \n",
       "1049  Other Intel Processor    0    0     Intel  Others/No OS/Linux  \n",
       "1020          Intel Core i3    1    0     Intel              Window  \n",
       "878           Intel Core i5    1  128    Nvidia              Window  "
      ]
     },
     "execution_count": 119,
     "metadata": {},
     "output_type": "execute_result"
    }
   ],
   "source": [
    "X_train.head()"
   ]
  },
  {
   "cell_type": "code",
   "execution_count": 120,
   "id": "d681433e-846c-4d93-8e07-fecc77ec4f0f",
   "metadata": {},
   "outputs": [
    {
     "name": "stdout",
     "output_type": "stream",
     "text": [
      "Requirement already satisfied: xgboost in /Library/Frameworks/Python.framework/Versions/3.10/lib/python3.10/site-packages (3.1.1)\n",
      "Requirement already satisfied: numpy in /Library/Frameworks/Python.framework/Versions/3.10/lib/python3.10/site-packages (from xgboost) (1.26.4)\n",
      "Requirement already satisfied: scipy in /Library/Frameworks/Python.framework/Versions/3.10/lib/python3.10/site-packages (from xgboost) (1.15.1)\n",
      "\n",
      "\u001b[1m[\u001b[0m\u001b[34;49mnotice\u001b[0m\u001b[1;39;49m]\u001b[0m\u001b[39;49m A new release of pip is available: \u001b[0m\u001b[31;49m25.0.1\u001b[0m\u001b[39;49m -> \u001b[0m\u001b[32;49m25.3\u001b[0m\n",
      "\u001b[1m[\u001b[0m\u001b[34;49mnotice\u001b[0m\u001b[1;39;49m]\u001b[0m\u001b[39;49m To update, run: \u001b[0m\u001b[32;49mpip install --upgrade pip\u001b[0m\n",
      "Note: you may need to restart the kernel to use updated packages.\n"
     ]
    }
   ],
   "source": [
    "pip install xgboost"
   ]
  },
  {
   "cell_type": "code",
   "execution_count": 121,
   "id": "592c9385-9362-4c12-8735-22c908d9e711",
   "metadata": {},
   "outputs": [],
   "source": [
    "from sklearn.compose import ColumnTransformer\n",
    "from sklearn.pipeline import Pipeline\n",
    "from sklearn.preprocessing import OneHotEncoder\n",
    "from sklearn.metrics import r2_score, mean_absolute_error"
   ]
  },
  {
   "cell_type": "code",
   "execution_count": 122,
   "id": "9356a374-05fe-4700-b8ae-02939dbc4141",
   "metadata": {},
   "outputs": [
    {
     "ename": "XGBoostError",
     "evalue": "\nXGBoost Library (libxgboost.dylib) could not be loaded.\nLikely causes:\n  * OpenMP runtime is not installed\n    - vcomp140.dll or libgomp-1.dll for Windows\n    - libomp.dylib for Mac OSX\n    - libgomp.so for Linux and other UNIX-like OSes\n    Mac OSX users: Run `brew install libomp` to install OpenMP runtime.\n\n  * You are running 32-bit Python on a 64-bit OS\n\nError message(s): [\"dlopen(/Library/Frameworks/Python.framework/Versions/3.10/lib/python3.10/site-packages/xgboost/lib/libxgboost.dylib, 0x0006): Library not loaded: @rpath/libomp.dylib\\n  Referenced from: <B111F8D5-6AC6-3245-A6B5-94693F6992AB> /Library/Frameworks/Python.framework/Versions/3.10/lib/python3.10/site-packages/xgboost/lib/libxgboost.dylib\\n  Reason: tried: '/opt/homebrew/opt/libomp/lib/libomp.dylib' (no such file), '/System/Volumes/Preboot/Cryptexes/OS/opt/homebrew/opt/libomp/lib/libomp.dylib' (no such file), '/opt/homebrew/opt/libomp/lib/libomp.dylib' (no such file), '/System/Volumes/Preboot/Cryptexes/OS/opt/homebrew/opt/libomp/lib/libomp.dylib' (no such file)\"]\n",
     "output_type": "error",
     "traceback": [
      "\u001b[0;31m---------------------------------------------------------------------------\u001b[0m",
      "\u001b[0;31mXGBoostError\u001b[0m                              Traceback (most recent call last)",
      "Cell \u001b[0;32mIn[122], line 6\u001b[0m\n\u001b[1;32m      4\u001b[0m \u001b[38;5;28;01mfrom\u001b[39;00m \u001b[38;5;21;01msklearn\u001b[39;00m\u001b[38;5;21;01m.\u001b[39;00m\u001b[38;5;21;01mensemble\u001b[39;00m \u001b[38;5;28;01mimport\u001b[39;00m RandomForestRegressor, GradientBoostingRegressor, AdaBoostRegressor, ExtraTreesRegressor\n\u001b[1;32m      5\u001b[0m \u001b[38;5;28;01mfrom\u001b[39;00m \u001b[38;5;21;01msklearn\u001b[39;00m\u001b[38;5;21;01m.\u001b[39;00m\u001b[38;5;21;01msvm\u001b[39;00m \u001b[38;5;28;01mimport\u001b[39;00m SVR \n\u001b[0;32m----> 6\u001b[0m \u001b[38;5;28;01mfrom\u001b[39;00m \u001b[38;5;21;01mxgboost\u001b[39;00m \u001b[38;5;28;01mimport\u001b[39;00m XGBRegressor\n",
      "File \u001b[0;32m/Library/Frameworks/Python.framework/Versions/3.10/lib/python3.10/site-packages/xgboost/__init__.py:6\u001b[0m\n\u001b[1;32m      1\u001b[0m \u001b[38;5;124;03m\"\"\"XGBoost: eXtreme Gradient Boosting library.\u001b[39;00m\n\u001b[1;32m      2\u001b[0m \n\u001b[1;32m      3\u001b[0m \u001b[38;5;124;03mContributors: https://github.com/dmlc/xgboost/blob/master/CONTRIBUTORS.md\u001b[39;00m\n\u001b[1;32m      4\u001b[0m \u001b[38;5;124;03m\"\"\"\u001b[39;00m\n\u001b[0;32m----> 6\u001b[0m \u001b[38;5;28;01mfrom\u001b[39;00m \u001b[38;5;21;01m.\u001b[39;00m \u001b[38;5;28;01mimport\u001b[39;00m tracker  \u001b[38;5;66;03m# noqa\u001b[39;00m\n\u001b[1;32m      7\u001b[0m \u001b[38;5;28;01mfrom\u001b[39;00m \u001b[38;5;21;01m.\u001b[39;00m \u001b[38;5;28;01mimport\u001b[39;00m collective\n\u001b[1;32m      8\u001b[0m \u001b[38;5;28;01mfrom\u001b[39;00m \u001b[38;5;21;01m.\u001b[39;00m\u001b[38;5;21;01mcore\u001b[39;00m \u001b[38;5;28;01mimport\u001b[39;00m (\n\u001b[1;32m      9\u001b[0m     Booster,\n\u001b[1;32m     10\u001b[0m     DataIter,\n\u001b[0;32m   (...)\u001b[0m\n\u001b[1;32m     15\u001b[0m     build_info,\n\u001b[1;32m     16\u001b[0m )\n",
      "File \u001b[0;32m/Library/Frameworks/Python.framework/Versions/3.10/lib/python3.10/site-packages/xgboost/tracker.py:9\u001b[0m\n\u001b[1;32m      6\u001b[0m \u001b[38;5;28;01mfrom\u001b[39;00m \u001b[38;5;21;01menum\u001b[39;00m \u001b[38;5;28;01mimport\u001b[39;00m IntEnum, unique\n\u001b[1;32m      7\u001b[0m \u001b[38;5;28;01mfrom\u001b[39;00m \u001b[38;5;21;01mtyping\u001b[39;00m \u001b[38;5;28;01mimport\u001b[39;00m Dict, Optional, Union\n\u001b[0;32m----> 9\u001b[0m \u001b[38;5;28;01mfrom\u001b[39;00m \u001b[38;5;21;01m.\u001b[39;00m\u001b[38;5;21;01mcore\u001b[39;00m \u001b[38;5;28;01mimport\u001b[39;00m _LIB, _check_call, _deprecate_positional_args, make_jcargs\n\u001b[1;32m     12\u001b[0m \u001b[38;5;28;01mdef\u001b[39;00m \u001b[38;5;21mget_family\u001b[39m(addr: \u001b[38;5;28mstr\u001b[39m) \u001b[38;5;241m-\u001b[39m\u001b[38;5;241m>\u001b[39m \u001b[38;5;28mint\u001b[39m:\n\u001b[1;32m     13\u001b[0m \u001b[38;5;250m    \u001b[39m\u001b[38;5;124;03m\"\"\"Get network family from address.\"\"\"\u001b[39;00m\n",
      "File \u001b[0;32m/Library/Frameworks/Python.framework/Versions/3.10/lib/python3.10/site-packages/xgboost/core.py:308\u001b[0m\n\u001b[1;32m    304\u001b[0m     \u001b[38;5;28;01mreturn\u001b[39;00m lib\n\u001b[1;32m    307\u001b[0m \u001b[38;5;66;03m# load the XGBoost library globally\u001b[39;00m\n\u001b[0;32m--> 308\u001b[0m _LIB \u001b[38;5;241m=\u001b[39m \u001b[43m_load_lib\u001b[49m\u001b[43m(\u001b[49m\u001b[43m)\u001b[49m\n\u001b[1;32m    311\u001b[0m \u001b[38;5;28;01mdef\u001b[39;00m \u001b[38;5;21m_check_call\u001b[39m(ret: \u001b[38;5;28mint\u001b[39m) \u001b[38;5;241m-\u001b[39m\u001b[38;5;241m>\u001b[39m \u001b[38;5;28;01mNone\u001b[39;00m:\n\u001b[1;32m    312\u001b[0m \u001b[38;5;250m    \u001b[39m\u001b[38;5;124;03m\"\"\"Check the return value of C API call\u001b[39;00m\n\u001b[1;32m    313\u001b[0m \n\u001b[1;32m    314\u001b[0m \u001b[38;5;124;03m    This function will raise exception when error occurs.\u001b[39;00m\n\u001b[0;32m   (...)\u001b[0m\n\u001b[1;32m    320\u001b[0m \u001b[38;5;124;03m        return value from API calls\u001b[39;00m\n\u001b[1;32m    321\u001b[0m \u001b[38;5;124;03m    \"\"\"\u001b[39;00m\n",
      "File \u001b[0;32m/Library/Frameworks/Python.framework/Versions/3.10/lib/python3.10/site-packages/xgboost/core.py:270\u001b[0m, in \u001b[0;36m_load_lib\u001b[0;34m()\u001b[0m\n\u001b[1;32m    268\u001b[0m     \u001b[38;5;28;01mif\u001b[39;00m \u001b[38;5;129;01mnot\u001b[39;00m lib_success:\n\u001b[1;32m    269\u001b[0m         libname \u001b[38;5;241m=\u001b[39m os\u001b[38;5;241m.\u001b[39mpath\u001b[38;5;241m.\u001b[39mbasename(lib_paths[\u001b[38;5;241m0\u001b[39m])\n\u001b[0;32m--> 270\u001b[0m         \u001b[38;5;28;01mraise\u001b[39;00m XGBoostError(\n\u001b[1;32m    271\u001b[0m             \u001b[38;5;124mf\u001b[39m\u001b[38;5;124m\"\"\"\u001b[39m\n\u001b[1;32m    272\u001b[0m \u001b[38;5;124mXGBoost Library (\u001b[39m\u001b[38;5;132;01m{\u001b[39;00mlibname\u001b[38;5;132;01m}\u001b[39;00m\u001b[38;5;124m) could not be loaded.\u001b[39m\n\u001b[1;32m    273\u001b[0m \u001b[38;5;124mLikely causes:\u001b[39m\n\u001b[1;32m    274\u001b[0m \u001b[38;5;124m  * OpenMP runtime is not installed\u001b[39m\n\u001b[1;32m    275\u001b[0m \u001b[38;5;124m    - vcomp140.dll or libgomp-1.dll for Windows\u001b[39m\n\u001b[1;32m    276\u001b[0m \u001b[38;5;124m    - libomp.dylib for Mac OSX\u001b[39m\n\u001b[1;32m    277\u001b[0m \u001b[38;5;124m    - libgomp.so for Linux and other UNIX-like OSes\u001b[39m\n\u001b[1;32m    278\u001b[0m \u001b[38;5;124m    Mac OSX users: Run `brew install libomp` to install OpenMP runtime.\u001b[39m\n\u001b[1;32m    279\u001b[0m \n\u001b[1;32m    280\u001b[0m \u001b[38;5;124m  * You are running 32-bit Python on a 64-bit OS\u001b[39m\n\u001b[1;32m    281\u001b[0m \n\u001b[1;32m    282\u001b[0m \u001b[38;5;124mError message(s): \u001b[39m\u001b[38;5;132;01m{\u001b[39;00mos_error_list\u001b[38;5;132;01m}\u001b[39;00m\n\u001b[1;32m    283\u001b[0m \u001b[38;5;124m\"\"\"\u001b[39m\n\u001b[1;32m    284\u001b[0m         )\n\u001b[1;32m    285\u001b[0m     _register_log_callback(lib)\n\u001b[1;32m    287\u001b[0m     libver \u001b[38;5;241m=\u001b[39m _lib_version(lib)\n",
      "\u001b[0;31mXGBoostError\u001b[0m: \nXGBoost Library (libxgboost.dylib) could not be loaded.\nLikely causes:\n  * OpenMP runtime is not installed\n    - vcomp140.dll or libgomp-1.dll for Windows\n    - libomp.dylib for Mac OSX\n    - libgomp.so for Linux and other UNIX-like OSes\n    Mac OSX users: Run `brew install libomp` to install OpenMP runtime.\n\n  * You are running 32-bit Python on a 64-bit OS\n\nError message(s): [\"dlopen(/Library/Frameworks/Python.framework/Versions/3.10/lib/python3.10/site-packages/xgboost/lib/libxgboost.dylib, 0x0006): Library not loaded: @rpath/libomp.dylib\\n  Referenced from: <B111F8D5-6AC6-3245-A6B5-94693F6992AB> /Library/Frameworks/Python.framework/Versions/3.10/lib/python3.10/site-packages/xgboost/lib/libxgboost.dylib\\n  Reason: tried: '/opt/homebrew/opt/libomp/lib/libomp.dylib' (no such file), '/System/Volumes/Preboot/Cryptexes/OS/opt/homebrew/opt/libomp/lib/libomp.dylib' (no such file), '/opt/homebrew/opt/libomp/lib/libomp.dylib' (no such file), '/System/Volumes/Preboot/Cryptexes/OS/opt/homebrew/opt/libomp/lib/libomp.dylib' (no such file)\"]\n"
     ]
    }
   ],
   "source": [
    "from sklearn.linear_model import LinearRegression, Ridge, Lasso\n",
    "from sklearn.neighbors import KNeighborsRegressor\n",
    "from sklearn.tree import DecisionTreeRegressor\n",
    "from sklearn.ensemble import RandomForestRegressor, GradientBoostingRegressor, AdaBoostRegressor, ExtraTreesRegressor\n",
    "from sklearn.svm import SVR \n",
    "from xgboost import XGBRegressor"
   ]
  },
  {
   "cell_type": "markdown",
   "id": "1adcb9e4-b6d8-407b-872e-4970b26d2aba",
   "metadata": {},
   "source": [
    "### Linear Regression"
   ]
  },
  {
   "cell_type": "code",
   "execution_count": 123,
   "id": "f8fd80a7-4a36-4583-9ea6-afaff066e4f8",
   "metadata": {},
   "outputs": [
    {
     "name": "stdout",
     "output_type": "stream",
     "text": [
      "R2 score 0.8074506398031916\n",
      "MAE 0.2122501323043653\n"
     ]
    }
   ],
   "source": [
    "step1  = ColumnTransformer(transformers=[\n",
    "    ('col_tnf', OneHotEncoder(  drop='first'),[0,1,7,10,11])\n",
    "],remainder='passthrough')\n",
    "step2 = LinearRegression()\n",
    "pipe=Pipeline([\n",
    "    ('step1', step1),\n",
    "    ('step2',step2)\n",
    "])\n",
    "pipe.fit(X_train,y_train)\n",
    "y_pred = pipe.predict(X_test)\n",
    "print('R2 score', r2_score(y_test,y_pred))\n",
    "print('MAE', mean_absolute_error(y_test,y_pred))"
   ]
  },
  {
   "cell_type": "markdown",
   "id": "73522b6b-4ccf-4534-b178-fe179720dd0e",
   "metadata": {},
   "source": [
    "## Ridge Regression"
   ]
  },
  {
   "cell_type": "code",
   "execution_count": 129,
   "id": "512a62de-f0a5-46d5-b153-81adee03a7d4",
   "metadata": {},
   "outputs": [
    {
     "name": "stdout",
     "output_type": "stream",
     "text": [
      "R2 score 0.8117547112473511\n",
      "MAE 0.21204964225025935\n"
     ]
    }
   ],
   "source": [
    "step1 = ColumnTransformer(transformers=[\n",
    "    ('col_tnf', OneHotEncoder(drop='first'),[0,1,7,10,11])\n",
    "],remainder='passthrough')\n",
    "step2 = Ridge(alpha=10)\n",
    "pipe = Pipeline([\n",
    "    ('step1', step1),\n",
    "    ('step2', step2)\n",
    "])\n",
    "pipe.fit(X_train,y_train)\n",
    "y_pred = pipe.predict(X_test)\n",
    "print('R2 score', r2_score(y_test, y_pred))\n",
    "print('MAE', mean_absolute_error(y_test,y_pred))"
   ]
  },
  {
   "cell_type": "markdown",
   "id": "39a1db61-d030-40ee-b042-82483e0605c1",
   "metadata": {},
   "source": [
    "## Lasso Regression"
   ]
  },
  {
   "cell_type": "code",
   "execution_count": 130,
   "id": "134ed9d9-4bf8-48e4-8048-b534a7c7b71f",
   "metadata": {},
   "outputs": [
    {
     "name": "stdout",
     "output_type": "stream",
     "text": [
      "R2 score 0.8064894683717796\n",
      "MAE 0.21376785990652253\n"
     ]
    }
   ],
   "source": [
    "step1 = ColumnTransformer(transformers=[\n",
    "    ('col_tnf',OneHotEncoder(sparse=False,drop='first'),[0,1,7,10,11])\n",
    "],remainder='passthrough')\n",
    "\n",
    "step2 = Lasso(alpha=0.001)\n",
    "\n",
    "pipe = Pipeline([\n",
    "    ('step1',step1),\n",
    "    ('step2',step2)\n",
    "])\n",
    "\n",
    "pipe.fit(X_train,y_train)\n",
    "\n",
    "y_pred = pipe.predict(X_test)\n",
    "\n",
    "print('R2 score',r2_score(y_test,y_pred))\n",
    "print('MAE',mean_absolute_error(y_test,y_pred))"
   ]
  },
  {
   "cell_type": "markdown",
   "id": "a3fa4048-8147-4178-95da-dc03cc2f85f1",
   "metadata": {},
   "source": [
    "## KNN"
   ]
  },
  {
   "cell_type": "code",
   "execution_count": 133,
   "id": "f9cd9c40-8794-460c-8d87-9da784ab2ac3",
   "metadata": {},
   "outputs": [
    {
     "name": "stdout",
     "output_type": "stream",
     "text": [
      "R2 score 0.8447914371487142\n",
      "MAE 0.18523810477871705\n"
     ]
    }
   ],
   "source": [
    "step1 = ColumnTransformer(transformers=[\n",
    "    ('col_tnf', OneHotEncoder(sparse=False, drop='first'), [0,1,7,10,11])\n",
    "], remainder='passthrough')\n",
    "step2 = KNeighborsRegressor(n_neighbors=3)\n",
    "pipe = Pipeline([\n",
    "    ('step1',step1),\n",
    "    ('step2',step2)\n",
    "])\n",
    "pipe.fit(X_train, y_train)\n",
    "y_pred = pipe.predict(X_test)\n",
    "print('R2 score',r2_score(y_test,y_pred))\n",
    "print('MAE', mean_absolute_error(y_test, y_pred))\n",
    "                              "
   ]
  },
  {
   "cell_type": "markdown",
   "id": "6bfd4695-9baf-4a3a-90e1-acf8c82738db",
   "metadata": {},
   "source": [
    "## Decision Tree"
   ]
  },
  {
   "cell_type": "code",
   "execution_count": 134,
   "id": "df87b26c-9e31-4423-89fd-f876138421d5",
   "metadata": {},
   "outputs": [
    {
     "name": "stdout",
     "output_type": "stream",
     "text": [
      "R2 score 0.8424314833445381\n",
      "MAE 0.1838269989874597\n"
     ]
    }
   ],
   "source": [
    "tep1 = ColumnTransformer(transformers=[\n",
    "    ('col_tnf',OneHotEncoder(sparse=False,drop='first'),[0,1,7,10,11])\n",
    "],remainder='passthrough')\n",
    "\n",
    "step2 = DecisionTreeRegressor(max_depth=8)\n",
    "\n",
    "pipe = Pipeline([\n",
    "    ('step1',step1),\n",
    "    ('step2',step2)\n",
    "])\n",
    "\n",
    "pipe.fit(X_train,y_train)\n",
    "\n",
    "y_pred = pipe.predict(X_test)\n",
    "\n",
    "print('R2 score',r2_score(y_test,y_pred))\n",
    "print('MAE',mean_absolute_error(y_test,y_pred))"
   ]
  },
  {
   "cell_type": "markdown",
   "id": "11129bd0-3d1d-4aaf-a010-c719c968b484",
   "metadata": {},
   "source": [
    "## SVM"
   ]
  },
  {
   "cell_type": "code",
   "execution_count": 137,
   "id": "eb5d3443-0483-440f-8422-b9da486e8438",
   "metadata": {},
   "outputs": [
    {
     "name": "stdout",
     "output_type": "stream",
     "text": [
      "R2 score 0.7821320047985526\n",
      "MAE 0.2127658995544292\n"
     ]
    }
   ],
   "source": [
    "tep1 = ColumnTransformer(transformers=[\n",
    "    ('col_tnf',OneHotEncoder(sparse=False,drop='first'),[0,1,7,10,11])\n",
    "],remainder='passthrough')\n",
    "\n",
    "step2 = SVR(kernel='rbf',C=1000,epsilon=0.1)\n",
    "\n",
    "pipe = Pipeline([\n",
    "    ('step1',step1),\n",
    "    ('step2',step2)\n",
    "])\n",
    "\n",
    "pipe.fit(X_train,y_train)\n",
    "\n",
    "y_pred = pipe.predict(X_test)\n",
    "\n",
    "print('R2 score',r2_score(y_test,y_pred))\n",
    "print('MAE',mean_absolute_error(y_test,y_pred))"
   ]
  },
  {
   "cell_type": "markdown",
   "id": "155a983e-03ce-48d5-be36-60b96b3d08fd",
   "metadata": {},
   "source": [
    "## Random Forest"
   ]
  },
  {
   "cell_type": "code",
   "execution_count": 141,
   "id": "87d00769-726d-4451-834a-83154859a1de",
   "metadata": {},
   "outputs": [
    {
     "name": "stdout",
     "output_type": "stream",
     "text": [
      "R2 score 0.8848930102476097\n",
      "MAE 0.15968556163609263\n"
     ]
    }
   ],
   "source": [
    "step1 = ColumnTransformer(transformers=[\n",
    "    ('col_tnf',OneHotEncoder(sparse=False,drop='first'),[0,1,7,10,11])\n",
    "],remainder='passthrough')\n",
    "\n",
    "step2 = RandomForestRegressor(n_estimators=100,\n",
    "                              random_state = 3,\n",
    "                              max_samples = 0.5,\n",
    "                              max_features=0.75,\n",
    "                              max_depth=15)\n",
    "\n",
    "pipe = Pipeline([\n",
    "    ('step1',step1),\n",
    "    ('step2',step2)\n",
    "])\n",
    "\n",
    "pipe.fit(X_train,y_train)\n",
    "\n",
    "y_pred = pipe.predict(X_test)\n",
    "\n",
    "print('R2 score',r2_score(y_test,y_pred))\n",
    "print('MAE',mean_absolute_error(y_test,y_pred))"
   ]
  },
  {
   "cell_type": "markdown",
   "id": "68dfa6b5-d637-468b-9fc4-d8729b061001",
   "metadata": {},
   "source": [
    "## ExtraTree"
   ]
  },
  {
   "cell_type": "code",
   "execution_count": 145,
   "id": "164d9bfe-1dd4-4b96-874b-27845b089fe8",
   "metadata": {},
   "outputs": [
    {
     "name": "stdout",
     "output_type": "stream",
     "text": [
      "R2 score 0.870957121610059\n",
      "MAE 0.16243339789678748\n"
     ]
    }
   ],
   "source": [
    "step1 = ColumnTransformer(transformers=[\n",
    "    ('col_tnf',OneHotEncoder( drop='first'),[0,1,7,10,11])\n",
    "],remainder='passthrough')\n",
    "\n",
    "step2 = ExtraTreesRegressor(n_estimators=100,\n",
    "                              random_state=3,\n",
    "                              max_samples=None,\n",
    "                              max_features=0.75,\n",
    "                              max_depth=15)\n",
    "\n",
    "pipe = Pipeline([\n",
    "    ('step1',step1),\n",
    "    ('step2',step2)\n",
    "])\n",
    "\n",
    "pipe.fit(X_train,y_train)\n",
    "\n",
    "y_pred = pipe.predict(X_test)\n",
    "\n",
    "print('R2 score',r2_score(y_test,y_pred))\n",
    "print('MAE',mean_absolute_error(y_test,y_pred))"
   ]
  },
  {
   "cell_type": "markdown",
   "id": "9c108053-972b-4837-b8fa-3a8ffbc5c9d2",
   "metadata": {},
   "source": [
    "## AdaBoost"
   ]
  },
  {
   "cell_type": "code",
   "execution_count": 146,
   "id": "d897efb1-c042-4e17-a38d-f8babde75c8a",
   "metadata": {},
   "outputs": [
    {
     "name": "stdout",
     "output_type": "stream",
     "text": [
      "R2 score 0.7782388995467204\n",
      "MAE 0.23423904252440228\n"
     ]
    }
   ],
   "source": [
    "step1 = ColumnTransformer(transformers=[\n",
    "    ('col_tnf',OneHotEncoder(sparse=False,drop='first'),[0,1,7,10,11])\n",
    "],remainder='passthrough')\n",
    "\n",
    "step2 = AdaBoostRegressor(n_estimators=15,learning_rate=1.0)\n",
    "\n",
    "pipe = Pipeline([\n",
    "    ('step1',step1),\n",
    "    ('step2',step2)\n",
    "])\n",
    "\n",
    "pipe.fit(X_train,y_train)\n",
    "\n",
    "y_pred = pipe.predict(X_test)\n",
    "\n",
    "print('R2 score',r2_score(y_test,y_pred))\n",
    "print('MAE',mean_absolute_error(y_test,y_pred))"
   ]
  },
  {
   "cell_type": "markdown",
   "id": "bf102db9-5993-49fb-a9d2-85f5f6f228da",
   "metadata": {},
   "source": [
    "## Gradient Boost"
   ]
  },
  {
   "cell_type": "code",
   "execution_count": 147,
   "id": "af9a4515-6043-4061-8060-4f92a6e884ae",
   "metadata": {},
   "outputs": [
    {
     "name": "stdout",
     "output_type": "stream",
     "text": [
      "R2 score 0.8730327570468359\n",
      "MAE 0.16168843478908668\n"
     ]
    }
   ],
   "source": [
    "step1 = ColumnTransformer(transformers=[\n",
    "    ('col_tnf',OneHotEncoder(sparse=False,drop='first'),[0,1,7,10,11])\n",
    "],remainder='passthrough')\n",
    "\n",
    "step2 = GradientBoostingRegressor(n_estimators=500)\n",
    "\n",
    "pipe = Pipeline([\n",
    "    ('step1',step1),\n",
    "    ('step2',step2)\n",
    "])\n",
    "\n",
    "pipe.fit(X_train,y_train)\n",
    "\n",
    "y_pred = pipe.predict(X_test)\n",
    "\n",
    "print('R2 score',r2_score(y_test,y_pred))\n",
    "print('MAE',mean_absolute_error(y_test,y_pred))"
   ]
  },
  {
   "cell_type": "markdown",
   "id": "49bdda19-ac80-41c5-b2a6-8b0540eb1807",
   "metadata": {},
   "source": [
    "## XgBoost"
   ]
  },
  {
   "cell_type": "code",
   "execution_count": 149,
   "id": "aa2868a3-f533-4664-b4b6-ab8b0b27fb62",
   "metadata": {},
   "outputs": [],
   "source": [
    "# step1 = ColumnTransformer(transformers=[\n",
    "#     ('col_tnf',OneHotEncoder(sparse=False,drop='first'),[0,1,7,10,11])\n",
    "# ],remainder='passthrough')\n",
    "\n",
    "# step2 = XGBRegressor(n_estimators=45,max_depth=5,learning_rate=0.5)\n",
    "\n",
    "# pipe = Pipeline([\n",
    "#     ('step1',step1),\n",
    "#     ('step2',step2)\n",
    "# ])\n",
    "\n",
    "# pipe.fit(X_train,y_train)\n",
    "\n",
    "# y_pred = pipe.predict(X_test)\n",
    "\n",
    "# print('R2 score',r2_score(y_test,y_pred))\n",
    "# print('MAE',mean_absolute_error(y_test,y_pred))"
   ]
  }
 ],
 "metadata": {
  "kernelspec": {
   "display_name": "Python 3 (ipykernel)",
   "language": "python",
   "name": "python3"
  },
  "language_info": {
   "codemirror_mode": {
    "name": "ipython",
    "version": 3
   },
   "file_extension": ".py",
   "mimetype": "text/x-python",
   "name": "python",
   "nbconvert_exporter": "python",
   "pygments_lexer": "ipython3",
   "version": "3.10.11"
  }
 },
 "nbformat": 4,
 "nbformat_minor": 5
}
